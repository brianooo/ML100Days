{
 "cells": [
  {
   "cell_type": "markdown",
   "metadata": {
    "id": "QN7P90TOJcLs"
   },
   "source": [
    "# 作業: Sequence to Sequence 可以做什麼？"
   ]
  },
  {
   "cell_type": "markdown",
   "metadata": {
    "id": "nVdX55IeJgaf"
   },
   "source": [
    "## [作業目標]\n",
    "瞭解目前 Seq2Seq 的應用領域"
   ]
  },
  {
   "cell_type": "markdown",
   "metadata": {
    "id": "8QZV1BhcNHtp"
   },
   "source": [
    "## [作業重點]\n",
    "查詢 Seq2Seq 的應用，瞭解 Seq2Seq 可以做些什麼事，瞭解一下涉及的領域應用背景"
   ]
  },
  {
   "cell_type": "markdown",
   "metadata": {
    "id": "QPYgcakvJzMk"
   },
   "source": [
    "# [問題]\n",
    "請學員網路查查除了有沒有其他更有用、有趣的 Seq2Seq 應用?\n",
    "\n",
    "\n",
    "\n"
   ]
  },
  {
   "cell_type": "markdown",
   "metadata": {
    "id": "m30djHaLEIIw"
   },
   "source": [
    "# [解答]\n",
    "\n",
    "\n"
   ]
  },
  {
   "cell_type": "markdown",
   "metadata": {},
   "source": [
    "1. 輸入 code 的修改資訊，輸出用自然語言生成的 code commit message"
   ]
  },
  {
   "cell_type": "markdown",
   "metadata": {},
   "source": [
    "2. 根據公式圖片生成 latex 程式碼"
   ]
  },
  {
   "cell_type": "markdown",
   "metadata": {},
   "source": [
    "3. 給定一個簡單的數學應用題，然後給定一種故事風格（比如：星際爭霸），生成該種風格下的應用題描述"
   ]
  },
  {
   "cell_type": "code",
   "execution_count": null,
   "metadata": {},
   "outputs": [],
   "source": []
  }
 ],
 "metadata": {
  "colab": {
   "authorship_tag": "ABX9TyP5SMu80BhtPZI5gjU21jv4",
   "name": "作業_Seq2Seq_applications.ipynb",
   "provenance": []
  },
  "kernelspec": {
   "display_name": "Python 3",
   "language": "python",
   "name": "python3"
  },
  "language_info": {
   "codemirror_mode": {
    "name": "ipython",
    "version": 3
   },
   "file_extension": ".py",
   "mimetype": "text/x-python",
   "name": "python",
   "nbconvert_exporter": "python",
   "pygments_lexer": "ipython3",
   "version": "3.7.10"
  }
 },
 "nbformat": 4,
 "nbformat_minor": 1
}
