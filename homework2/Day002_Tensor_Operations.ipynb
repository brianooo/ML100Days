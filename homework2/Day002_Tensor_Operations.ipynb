{
 "cells": [
  {
   "cell_type": "markdown",
   "metadata": {},
   "source": [
    "### 作業目的: 更加熟習pytorch的tensor操作\n",
    "\n",
    "pytorch中有提供很多的API，讓使用者針對tensor進行各式各樣的操作，本次的作業希望讀者由pytorch的[官方網站](https://pytorch.org/docs/stable/torch.html)中選定四個針對tensor操作的API，對他的使用方法進行範例操作演練。"
   ]
  },
  {
   "cell_type": "markdown",
   "metadata": {},
   "source": [
    "### 選定的API 函數\n",
    "\n",
    "**請寫下選定的API functions**\n",
    "\n",
    "ex:\n",
    "* torch.from_array() / tensor.numpy()\n",
    "* torch.unsqueeze() / torch.squeeze()\n",
    "* tensor.transpose() / tensor.permute()\n",
    "* torch.reshape() / tensor.view()"
   ]
  },
  {
   "cell_type": "code",
   "execution_count": 1,
   "metadata": {},
   "outputs": [],
   "source": [
    "# Import torch and other required modules\n",
    "import torch\n",
    "import numpy as np"
   ]
  },
  {
   "cell_type": "markdown",
   "metadata": {},
   "source": [
    "### 範例:\n",
    "### Function 1 - torch.from_array() / tensor.numpy()"
   ]
  },
  {
   "cell_type": "code",
   "execution_count": 2,
   "metadata": {},
   "outputs": [
    {
     "name": "stdout",
     "output_type": "stream",
     "text": [
      "a: <class 'numpy.ndarray'>, float64\n",
      "b: <class 'torch.Tensor'>, torch.float64\n",
      "c: <class 'torch.Tensor'>, torch.float64\n",
      "d: <class 'numpy.ndarray'>, float64\n"
     ]
    }
   ],
   "source": [
    "# Example 1 - 將torch tensor與numpy ndarray互相轉換\n",
    "a = np.random.rand(1,2,3,3)\n",
    "print(f'a: {type(a)}, {a.dtype}')\n",
    "b = torch.from_numpy(a)\n",
    "print(f'b: {type(b)}, {b.dtype}')\n",
    "c = torch.tensor(a)\n",
    "print(f'c: {type(c)}, {c.dtype}')\n",
    "d = c.numpy()\n",
    "print(f'd: {type(d)}, {d.dtype}')"
   ]
  },
  {
   "cell_type": "code",
   "execution_count": 3,
   "metadata": {},
   "outputs": [
    {
     "name": "stdout",
     "output_type": "stream",
     "text": [
      "a: <class 'numpy.ndarray'>, int32\n",
      "b: <class 'torch.Tensor'>, torch.int32\n",
      "c: <class 'torch.Tensor'>, torch.int32\n",
      "d: <class 'numpy.ndarray'>, int32\n"
     ]
    }
   ],
   "source": [
    "# Example 2 - 經過轉換後，torch tensor與numpy array依然有相近的資料型態\n",
    "a = np.random.randint(low=0, high=10, size=(2,2))\n",
    "print(f'a: {type(a)}, {a.dtype}')\n",
    "b = torch.from_numpy(a)\n",
    "print(f'b: {type(b)}, {b.dtype}')\n",
    "c = torch.tensor(a)\n",
    "print(f'c: {type(c)}, {c.dtype}')\n",
    "d = c.numpy()\n",
    "print(f'd: {type(d)}, {d.dtype}')"
   ]
  },
  {
   "cell_type": "markdown",
   "metadata": {},
   "source": [
    "### Function 1 -  torch.from_numpy() / tensor.numpy()"
   ]
  },
  {
   "cell_type": "code",
   "execution_count": 5,
   "metadata": {},
   "outputs": [
    {
     "name": "stdout",
     "output_type": "stream",
     "text": [
      "[[[ 1  2  3]\n",
      "  [ 4  5  6]]\n",
      "\n",
      " [[ 7  8  9]\n",
      "  [10 11 12]]]\n",
      "tensor([[[ 1,  2,  3],\n",
      "         [ 4,  5,  6]],\n",
      "\n",
      "        [[ 7,  8,  9],\n",
      "         [10, 11, 12]]], dtype=torch.int32)\n"
     ]
    },
    {
     "data": {
      "text/plain": [
       "((2, 2, 3), torch.Size([2, 2, 3]))"
      ]
     },
     "execution_count": 5,
     "metadata": {},
     "output_type": "execute_result"
    }
   ],
   "source": [
    "# Example 1 - transform ndarray to tensor\n",
    "a = np.array([[[1, 2, 3], [4, 5, 6]], [[7, 8, 9], [10, 11, 12]]])\n",
    "print(a)\n",
    "\n",
    "b = torch.from_numpy(a)\n",
    "print(b)\n",
    "\n",
    "a.shape, b.shape"
   ]
  },
  {
   "cell_type": "code",
   "execution_count": 11,
   "metadata": {},
   "outputs": [
    {
     "name": "stdout",
     "output_type": "stream",
     "text": [
      "[[[ 1  2  3]\n",
      "  [ 4  5  6]]\n",
      "\n",
      " [[ 7  8  9]\n",
      "  [10 11 12]]]\n",
      "tensor([[[0.6759, 0.4347, 0.9303],\n",
      "         [0.4589, 0.8579, 0.9775]],\n",
      "\n",
      "        [[0.9499, 0.6423, 0.1068],\n",
      "         [0.3115, 0.4503, 0.0751]]])\n"
     ]
    },
    {
     "data": {
      "text/plain": [
       "((2, 2, 3), torch.Size([2, 2, 3]))"
      ]
     },
     "execution_count": 11,
     "metadata": {},
     "output_type": "execute_result"
    }
   ],
   "source": [
    "# Example 2 - tranform tensor to adarray\n",
    "c = b.numpy()\n",
    "print(c)\n",
    "\n",
    "d = torch.rand_like(b, dtype=torch.float)         # 需要是 tensor 且 dtype 不一樣要做轉換\n",
    "print(d) \n",
    "\n",
    "c.shape, d.shape"
   ]
  },
  {
   "cell_type": "markdown",
   "metadata": {},
   "source": [
    "### Function 2 - torch.unsqueeze() / torch.squeeze()"
   ]
  },
  {
   "cell_type": "code",
   "execution_count": 13,
   "metadata": {},
   "outputs": [
    {
     "name": "stdout",
     "output_type": "stream",
     "text": [
      "tensor([[[[ 1,  2,  3]],\n",
      "\n",
      "         [[ 4,  5,  6]]],\n",
      "\n",
      "\n",
      "        [[[ 7,  8,  9]],\n",
      "\n",
      "         [[10, 11, 12]]]], dtype=torch.int32)\n"
     ]
    },
    {
     "data": {
      "text/plain": [
       "torch.Size([2, 2, 1, 3])"
      ]
     },
     "execution_count": 13,
     "metadata": {},
     "output_type": "execute_result"
    }
   ],
   "source": [
    "# Example 1 - increase dimension\n",
    "\n",
    "e = torch.unsqueeze(b, dim=2)\n",
    "print(e)\n",
    "e.shape"
   ]
  },
  {
   "cell_type": "code",
   "execution_count": 14,
   "metadata": {},
   "outputs": [
    {
     "name": "stdout",
     "output_type": "stream",
     "text": [
      "tensor([[[ 1,  2,  3],\n",
      "         [ 4,  5,  6]],\n",
      "\n",
      "        [[ 7,  8,  9],\n",
      "         [10, 11, 12]]], dtype=torch.int32)\n"
     ]
    },
    {
     "data": {
      "text/plain": [
       "torch.Size([2, 2, 3])"
      ]
     },
     "execution_count": 14,
     "metadata": {},
     "output_type": "execute_result"
    }
   ],
   "source": [
    "# Example 2 - decrease dimension，default the dim == 1\n",
    "\n",
    "f = torch.squeeze(e)\n",
    "print(f)\n",
    "f.shape"
   ]
  },
  {
   "cell_type": "markdown",
   "metadata": {},
   "source": [
    "### Function 3 - tensor.transpose() / tensor.permute()"
   ]
  },
  {
   "cell_type": "code",
   "execution_count": 15,
   "metadata": {},
   "outputs": [
    {
     "name": "stdout",
     "output_type": "stream",
     "text": [
      "tensor([[[[ 1,  2,  3],\n",
      "          [ 7,  8,  9]],\n",
      "\n",
      "         [[ 4,  5,  6],\n",
      "          [10, 11, 12]]]], dtype=torch.int32)\n"
     ]
    },
    {
     "data": {
      "text/plain": [
       "torch.Size([1, 2, 2, 3])"
      ]
     },
     "execution_count": 15,
     "metadata": {},
     "output_type": "execute_result"
    }
   ],
   "source": [
    "# Example 1 - 交換維度\n",
    "g = e.transpose(0,2)\n",
    "print(g)\n",
    "g.shape"
   ]
  },
  {
   "cell_type": "code",
   "execution_count": 16,
   "metadata": {},
   "outputs": [
    {
     "name": "stdout",
     "output_type": "stream",
     "text": [
      "tensor([[[[ 1],\n",
      "          [ 4]],\n",
      "\n",
      "         [[ 7],\n",
      "          [10]]],\n",
      "\n",
      "\n",
      "        [[[ 2],\n",
      "          [ 5]],\n",
      "\n",
      "         [[ 8],\n",
      "          [11]]],\n",
      "\n",
      "\n",
      "        [[[ 3],\n",
      "          [ 6]],\n",
      "\n",
      "         [[ 9],\n",
      "          [12]]]], dtype=torch.int32)\n"
     ]
    },
    {
     "data": {
      "text/plain": [
       "torch.Size([3, 2, 2, 1])"
      ]
     },
     "execution_count": 16,
     "metadata": {},
     "output_type": "execute_result"
    }
   ],
   "source": [
    "# Example 2 - 重組維度\n",
    "h = g.permute((3,2,1,0))\n",
    "print(h)\n",
    "h.shape"
   ]
  },
  {
   "cell_type": "markdown",
   "metadata": {},
   "source": [
    "### Function 4 - tensor.reshape() / tensor.view()"
   ]
  },
  {
   "cell_type": "code",
   "execution_count": 17,
   "metadata": {},
   "outputs": [
    {
     "name": "stdout",
     "output_type": "stream",
     "text": [
      "tensor([[ 1,  4,  7, 10],\n",
      "        [ 2,  5,  8, 11],\n",
      "        [ 3,  6,  9, 12]], dtype=torch.int32)\n",
      "tensor([[ 1,  4,  7, 10],\n",
      "        [ 2,  5,  8, 11],\n",
      "        [ 3,  6,  9, 12]], dtype=torch.int32)\n"
     ]
    },
    {
     "data": {
      "text/plain": [
       "(torch.Size([3, 4]), torch.Size([3, 4]))"
      ]
     },
     "execution_count": 17,
     "metadata": {},
     "output_type": "execute_result"
    }
   ],
   "source": [
    "# Example 1 - 改變形狀\n",
    "i = h.reshape(3, 4)\n",
    "print(i)\n",
    "\n",
    "j = h.reshape(3, -1)\n",
    "print(j)\n",
    "i.shape, j.shape"
   ]
  },
  {
   "cell_type": "code",
   "execution_count": 18,
   "metadata": {},
   "outputs": [
    {
     "name": "stdout",
     "output_type": "stream",
     "text": [
      "tensor([[[ 1,  4,  7, 10]],\n",
      "\n",
      "        [[ 2,  5,  8, 11]],\n",
      "\n",
      "        [[ 3,  6,  9, 12]]], dtype=torch.int32)\n"
     ]
    },
    {
     "data": {
      "text/plain": [
       "torch.Size([3, 1, 4])"
      ]
     },
     "execution_count": 18,
     "metadata": {},
     "output_type": "execute_result"
    }
   ],
   "source": [
    "# Example 2 - 改變形狀\n",
    "k = h.view(3, 1, -1)\n",
    "print(k)\n",
    "k.shape"
   ]
  },
  {
   "cell_type": "code",
   "execution_count": null,
   "metadata": {},
   "outputs": [],
   "source": []
  }
 ],
 "metadata": {
  "kernelspec": {
   "display_name": "Python 3",
   "language": "python",
   "name": "python3"
  },
  "language_info": {
   "codemirror_mode": {
    "name": "ipython",
    "version": 3
   },
   "file_extension": ".py",
   "mimetype": "text/x-python",
   "name": "python",
   "nbconvert_exporter": "python",
   "pygments_lexer": "ipython3",
   "version": "3.7.4"
  }
 },
 "nbformat": 4,
 "nbformat_minor": 2
}
