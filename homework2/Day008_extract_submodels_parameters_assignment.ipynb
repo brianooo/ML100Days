{
 "cells": [
  {
   "cell_type": "code",
   "execution_count": 1,
   "metadata": {},
   "outputs": [],
   "source": [
    "import torch\n",
    "import torch.nn as nn\n",
    "import torchvision.models as models\n",
    "import torch.nn.functional as F\n",
    "import numpy as np"
   ]
  },
  {
   "cell_type": "markdown",
   "metadata": {},
   "source": [
    "## 依照指示取出模型特定層的資訊"
   ]
  },
  {
   "cell_type": "code",
   "execution_count": 2,
   "metadata": {},
   "outputs": [],
   "source": [
    "# Define model\n",
    "class TheModelClass(nn.Module):\n",
    "    def __init__(self):\n",
    "        super(TheModelClass, self).__init__()\n",
    "        self.conv1 = nn.Conv2d(3, 6, 5)\n",
    "        self.pool = nn.MaxPool2d(2, 2)\n",
    "        self.conv2 = nn.Conv2d(6, 16, 5)\n",
    "        self.fc1 = nn.Linear(16* 5 * 5, 120)\n",
    "        self.fc2 = nn.Linear(120, 84)\n",
    "        self.fc3 = nn.Linear(84, 10)\n",
    "\n",
    "    def forward(self, x):\n",
    "        x = self.pool(F.relu(self.conv1(x)))\n",
    "        x = self.pool(F.relu(self.conv2(x)))\n",
    "        x = x.view(-1, 16 * 5 * 5)\n",
    "        x = F.relu(self.fc1(x))\n",
    "        x = F.relu(self.fc2(x))\n",
    "        x = self.fc3(x)\n",
    "        return x\n",
    "\n",
    "# Initialize model\n",
    "model = TheModelClass()\n"
   ]
  },
  {
   "cell_type": "code",
   "execution_count": 4,
   "metadata": {},
   "outputs": [
    {
     "data": {
      "text/plain": [
       "<bound method Module.modules of TheModelClass(\n",
       "  (conv1): Conv2d(3, 6, kernel_size=(5, 5), stride=(1, 1))\n",
       "  (pool): MaxPool2d(kernel_size=2, stride=2, padding=0, dilation=1, ceil_mode=False)\n",
       "  (conv2): Conv2d(6, 16, kernel_size=(5, 5), stride=(1, 1))\n",
       "  (fc1): Linear(in_features=400, out_features=120, bias=True)\n",
       "  (fc2): Linear(in_features=120, out_features=84, bias=True)\n",
       "  (fc3): Linear(in_features=84, out_features=10, bias=True)\n",
       ")>"
      ]
     },
     "execution_count": 4,
     "metadata": {},
     "output_type": "execute_result"
    }
   ],
   "source": [
    "model.children"
   ]
  },
  {
   "cell_type": "markdown",
   "metadata": {},
   "source": [
    "### 取出 self.pool層兩次的輸出，包含：\n",
    "* x = self.pool(F.relu(self.conv1(x)))\n",
    "* x = self.pool(F.relu(self.conv2(x)))"
   ]
  },
  {
   "cell_type": "code",
   "execution_count": 5,
   "metadata": {},
   "outputs": [
    {
     "data": {
      "text/plain": [
       "<torch.utils.hooks.RemovableHandle at 0x20e9893fa88>"
      ]
     },
     "execution_count": 5,
     "metadata": {},
     "output_type": "execute_result"
    }
   ],
   "source": [
    "outputs= []\n",
    "def layer1_hook(module, input_, output):\n",
    "    outputs.append(output)\n",
    "    \n",
    "    \n",
    "model.pool.register_forward_hook(layer1_hook)"
   ]
  },
  {
   "cell_type": "code",
   "execution_count": 6,
   "metadata": {},
   "outputs": [],
   "source": [
    "input_ = torch.randn(1, 3, 32, 32)\n",
    "output = model(input_)"
   ]
  },
  {
   "cell_type": "code",
   "execution_count": 7,
   "metadata": {},
   "outputs": [
    {
     "data": {
      "text/plain": [
       "[tensor([[[[1.2208e+00, 4.1855e-01, 3.5690e-01,  ..., 5.2678e-01,\n",
       "            6.8515e-01, 6.1925e-01],\n",
       "           [6.6051e-01, 1.2432e+00, 3.0593e-01,  ..., 1.2898e+00,\n",
       "            8.7232e-01, 8.6465e-01],\n",
       "           [1.2476e+00, 5.3795e-01, 5.9966e-01,  ..., 5.3252e-01,\n",
       "            5.0231e-01, 1.0131e+00],\n",
       "           ...,\n",
       "           [3.7171e-01, 4.5913e-01, 1.1293e+00,  ..., 4.6897e-01,\n",
       "            4.5439e-01, 7.2753e-01],\n",
       "           [5.0514e-01, 9.8019e-01, 1.3255e+00,  ..., 6.6641e-01,\n",
       "            6.5042e-01, 6.9652e-01],\n",
       "           [6.6299e-01, 1.2846e-01, 8.6551e-01,  ..., 7.1681e-01,\n",
       "            2.8841e-01, 1.3361e+00]],\n",
       " \n",
       "          [[3.6869e-01, 1.1723e+00, 1.2000e+00,  ..., 6.0000e-01,\n",
       "            2.0813e+00, 7.2818e-01],\n",
       "           [0.0000e+00, 7.3088e-01, 8.1768e-01,  ..., 7.9706e-01,\n",
       "            8.0467e-01, 6.0701e-01],\n",
       "           [6.5948e-01, 4.1971e-01, 0.0000e+00,  ..., 7.4460e-01,\n",
       "            1.5810e-01, 6.4020e-01],\n",
       "           ...,\n",
       "           [5.8780e-01, 3.6043e-01, 6.3649e-01,  ..., 1.3404e+00,\n",
       "            1.1959e+00, 7.3433e-01],\n",
       "           [4.5090e-01, 8.7108e-01, 4.8262e-01,  ..., 9.1201e-01,\n",
       "            1.1695e+00, 8.1223e-01],\n",
       "           [9.5490e-01, 5.5290e-01, 3.9054e-01,  ..., 5.4070e-01,\n",
       "            9.1159e-02, 3.6332e-01]],\n",
       " \n",
       "          [[3.8327e-01, 3.8440e-01, 8.6424e-01,  ..., 6.9557e-01,\n",
       "            8.8508e-01, 1.5449e-01],\n",
       "           [3.4538e-01, 0.0000e+00, 1.1706e-01,  ..., 4.0683e-01,\n",
       "            6.4183e-01, 4.2449e-01],\n",
       "           [6.4236e-01, 6.4772e-01, 7.3042e-01,  ..., 4.6141e-01,\n",
       "            8.7168e-01, 2.9471e-01],\n",
       "           ...,\n",
       "           [5.5594e-01, 1.1087e+00, 3.3822e-01,  ..., 5.9854e-01,\n",
       "            8.9566e-01, 4.7056e-01],\n",
       "           [6.5213e-01, 6.9677e-01, 6.5167e-01,  ..., 2.3764e-01,\n",
       "            6.3970e-01, 8.5871e-01],\n",
       "           [7.8103e-01, 3.2548e-01, 1.1990e-01,  ..., 3.4237e-01,\n",
       "            1.6381e-01, 6.6812e-01]],\n",
       " \n",
       "          [[2.7200e-01, 7.3456e-01, 4.6886e-01,  ..., 9.5765e-01,\n",
       "            1.1872e+00, 3.3989e-01],\n",
       "           [1.3707e+00, 5.5657e-01, 5.8149e-01,  ..., 0.0000e+00,\n",
       "            2.3070e-01, 9.1150e-01],\n",
       "           [9.4928e-01, 5.3673e-01, 3.9912e-01,  ..., 5.2176e-02,\n",
       "            1.1684e-01, 6.4082e-01],\n",
       "           ...,\n",
       "           [1.4027e+00, 3.5749e-01, 2.3901e-01,  ..., 5.0452e-01,\n",
       "            0.0000e+00, 1.4719e-01],\n",
       "           [9.1355e-01, 6.1408e-01, 5.5104e-01,  ..., 6.6395e-01,\n",
       "            2.1570e-01, 2.7696e-01],\n",
       "           [5.0108e-01, 4.8097e-01, 0.0000e+00,  ..., 3.3210e-01,\n",
       "            1.1052e-01, 8.6365e-01]],\n",
       " \n",
       "          [[0.0000e+00, 6.9064e-01, 1.0988e+00,  ..., 3.3960e-01,\n",
       "            1.2500e+00, 1.0999e+00],\n",
       "           [9.7586e-01, 7.5519e-01, 6.2465e-01,  ..., 1.9235e-01,\n",
       "            5.4851e-01, 6.1428e-01],\n",
       "           [3.1111e-01, 0.0000e+00, 1.7157e+00,  ..., 4.8770e-01,\n",
       "            5.7621e-01, 3.2997e-01],\n",
       "           ...,\n",
       "           [3.2008e-01, 1.1373e+00, 5.6464e-01,  ..., 2.4856e-01,\n",
       "            1.5133e+00, 8.5748e-02],\n",
       "           [1.4963e-01, 6.9532e-01, 1.1110e+00,  ..., 5.8219e-01,\n",
       "            1.2314e+00, 5.5355e-01],\n",
       "           [4.8013e-01, 1.3251e+00, 9.3814e-01,  ..., 8.6513e-01,\n",
       "            7.0505e-01, 3.8334e-01]],\n",
       " \n",
       "          [[6.5859e-01, 6.4446e-01, 1.5574e+00,  ..., 6.9241e-01,\n",
       "            6.9073e-01, 4.5916e-01],\n",
       "           [5.5937e-01, 1.3232e+00, 7.2220e-01,  ..., 8.3532e-01,\n",
       "            4.5603e-01, 6.1020e-01],\n",
       "           [8.8982e-01, 6.5314e-01, 5.9552e-01,  ..., 1.1299e+00,\n",
       "            9.9108e-01, 9.1211e-01],\n",
       "           ...,\n",
       "           [1.2672e-01, 2.0705e-03, 1.0167e+00,  ..., 6.6961e-01,\n",
       "            4.7780e-01, 0.0000e+00],\n",
       "           [3.2608e-01, 2.6952e-01, 2.2044e-01,  ..., 4.9143e-01,\n",
       "            8.4846e-01, 9.6085e-01],\n",
       "           [6.0404e-01, 1.0077e+00, 3.1479e-01,  ..., 5.3157e-01,\n",
       "            7.4243e-01, 1.2758e+00]]]], grad_fn=<MaxPool2DWithIndicesBackward>),\n",
       " tensor([[[[0.6390, 0.7347, 0.7724, 0.9651, 0.7631],\n",
       "           [0.9221, 0.9177, 0.8093, 0.7242, 0.7957],\n",
       "           [0.7599, 0.6848, 1.0230, 0.8144, 0.9345],\n",
       "           [0.8223, 0.9264, 1.0276, 0.8137, 0.6926],\n",
       "           [0.8923, 0.6265, 0.8506, 0.9406, 0.7533]],\n",
       " \n",
       "          [[1.1487, 1.3408, 1.1591, 1.2013, 1.1586],\n",
       "           [0.8836, 1.1551, 1.4175, 1.0466, 1.2744],\n",
       "           [0.9791, 0.9917, 0.8295, 0.9094, 1.0573],\n",
       "           [1.1503, 0.8700, 1.1793, 0.9607, 0.5363],\n",
       "           [1.0421, 0.9930, 0.9827, 1.0038, 1.1587]],\n",
       " \n",
       "          [[0.3744, 0.8551, 0.7182, 0.7712, 0.7818],\n",
       "           [0.4827, 0.9200, 0.5599, 0.7587, 0.4246],\n",
       "           [0.4982, 0.5571, 0.3211, 0.5577, 0.8489],\n",
       "           [0.6361, 0.8864, 0.8746, 0.4845, 0.4933],\n",
       "           [0.5570, 0.3891, 0.6944, 0.7767, 0.6709]],\n",
       " \n",
       "          [[0.3817, 0.1901, 0.3124, 0.3158, 0.5274],\n",
       "           [0.4574, 0.2183, 0.4906, 0.3855, 0.4151],\n",
       "           [0.2506, 0.8744, 0.3227, 0.3237, 0.3658],\n",
       "           [0.3016, 0.1305, 0.8636, 0.2466, 0.2043],\n",
       "           [0.2412, 0.4820, 0.1100, 0.5730, 0.5132]],\n",
       " \n",
       "          [[0.3611, 0.5649, 0.1998, 0.3100, 0.6069],\n",
       "           [0.2151, 0.4994, 0.5270, 0.5003, 0.5366],\n",
       "           [0.3972, 0.6789, 0.7481, 0.3812, 0.6386],\n",
       "           [0.1908, 0.3394, 0.3552, 0.4483, 0.3856],\n",
       "           [0.5529, 0.6806, 0.4796, 0.3851, 0.0177]],\n",
       " \n",
       "          [[0.2726, 0.2683, 0.2560, 0.1790, 0.1008],\n",
       "           [0.1638, 0.5012, 0.4916, 0.1965, 0.1749],\n",
       "           [0.2185, 0.2961, 0.3257, 0.2705, 0.2653],\n",
       "           [0.3147, 0.4005, 0.3490, 0.2192, 0.2356],\n",
       "           [0.4928, 0.2952, 0.7208, 0.1405, 0.1517]],\n",
       " \n",
       "          [[0.2497, 0.1855, 0.2160, 0.3586, 0.4557],\n",
       "           [0.2631, 0.5480, 0.2490, 0.5647, 0.5601],\n",
       "           [0.1768, 0.4062, 0.4142, 0.3801, 0.2808],\n",
       "           [0.2605, 0.2450, 0.1145, 0.4124, 0.3546],\n",
       "           [0.4759, 0.2033, 0.6098, 0.2909, 0.2400]],\n",
       " \n",
       "          [[0.0602, 0.0609, 0.0814, 0.0000, 0.2146],\n",
       "           [0.0491, 0.0000, 0.3672, 0.0426, 0.0253],\n",
       "           [0.1691, 0.0000, 0.0695, 0.0492, 0.0000],\n",
       "           [0.2546, 0.0000, 0.1652, 0.1763, 0.0117],\n",
       "           [0.5428, 0.0000, 0.2307, 0.2540, 0.0295]],\n",
       " \n",
       "          [[0.0923, 0.3123, 0.4309, 0.3271, 0.0000],\n",
       "           [0.0804, 0.3225, 0.2919, 0.0638, 0.1587],\n",
       "           [0.0000, 0.0000, 0.4443, 0.3952, 0.0914],\n",
       "           [0.3987, 0.1275, 0.0194, 0.0669, 0.2489],\n",
       "           [0.3411, 0.0607, 0.5801, 0.4057, 0.0230]],\n",
       " \n",
       "          [[0.0000, 0.0176, 0.1408, 0.2014, 0.0000],\n",
       "           [0.0000, 0.0000, 0.0000, 0.0000, 0.1996],\n",
       "           [0.0000, 0.0495, 0.0000, 0.0144, 0.0000],\n",
       "           [0.0000, 0.0961, 0.1019, 0.1025, 0.0000],\n",
       "           [0.0000, 0.0000, 0.2576, 0.0000, 0.2339]],\n",
       " \n",
       "          [[0.8502, 0.9960, 1.0227, 1.6068, 1.0482],\n",
       "           [1.1292, 1.1429, 1.1269, 1.0562, 0.6262],\n",
       "           [0.8610, 0.7801, 0.9728, 0.9795, 0.8428],\n",
       "           [1.3328, 0.9314, 0.8475, 0.8460, 0.9224],\n",
       "           [0.9917, 1.0705, 0.7862, 1.1567, 0.9021]],\n",
       " \n",
       "          [[0.0708, 0.1033, 0.2019, 0.2725, 0.3819],\n",
       "           [0.0000, 0.1759, 0.1118, 0.2315, 0.0000],\n",
       "           [0.0000, 0.0898, 0.0000, 0.6030, 0.0762],\n",
       "           [0.0000, 0.0000, 0.0000, 0.0365, 0.0139],\n",
       "           [0.0000, 0.0273, 0.1718, 0.2648, 0.1417]],\n",
       " \n",
       "          [[0.7826, 0.4857, 0.8878, 0.5337, 0.8261],\n",
       "           [0.8795, 0.6561, 0.9584, 0.6756, 0.6901],\n",
       "           [0.4893, 0.8176, 1.1153, 0.8732, 0.7048],\n",
       "           [0.7374, 0.7270, 0.7294, 0.9052, 0.6326],\n",
       "           [0.6632, 0.7257, 0.7484, 0.6351, 1.1166]],\n",
       " \n",
       "          [[0.8464, 0.5817, 0.4353, 0.7894, 0.8409],\n",
       "           [0.5100, 0.6198, 0.7572, 0.5928, 0.4599],\n",
       "           [0.7730, 0.9358, 0.5758, 0.6579, 0.7477],\n",
       "           [0.5600, 0.3966, 0.5979, 0.3636, 0.6753],\n",
       "           [0.6933, 0.6353, 0.4305, 0.5826, 0.5712]],\n",
       " \n",
       "          [[0.2449, 0.0000, 0.4732, 0.1888, 0.2075],\n",
       "           [0.1920, 0.2819, 0.0906, 0.3017, 0.1043],\n",
       "           [0.2850, 0.1814, 0.2157, 0.1379, 0.3128],\n",
       "           [0.0265, 0.2936, 0.2210, 0.1142, 0.2189],\n",
       "           [0.4262, 0.2296, 0.0021, 0.0513, 0.1755]],\n",
       " \n",
       "          [[0.0000, 0.0000, 0.0000, 0.0000, 0.0000],\n",
       "           [0.0000, 0.0000, 0.0000, 0.0000, 0.0000],\n",
       "           [0.0000, 0.0000, 0.0000, 0.0000, 0.0000],\n",
       "           [0.0000, 0.0000, 0.0000, 0.0000, 0.0000],\n",
       "           [0.0000, 0.0000, 0.0000, 0.0000, 0.0000]]]],\n",
       "        grad_fn=<MaxPool2DWithIndicesBackward>)]"
      ]
     },
     "execution_count": 7,
     "metadata": {},
     "output_type": "execute_result"
    }
   ],
   "source": [
    "outputs"
   ]
  },
  {
   "cell_type": "code",
   "execution_count": 8,
   "metadata": {},
   "outputs": [
    {
     "name": "stdout",
     "output_type": "stream",
     "text": [
      "torch.Size([1, 6, 14, 14])\n",
      "torch.Size([1, 16, 5, 5])\n"
     ]
    }
   ],
   "source": [
    "print(outputs[0].shape)\n",
    "print(outputs[1].shape)"
   ]
  },
  {
   "cell_type": "markdown",
   "metadata": {},
   "source": [
    "## 加入自定義 initialization fuction"
   ]
  },
  {
   "cell_type": "markdown",
   "metadata": {},
   "source": [
    "#### 對所有Conv2D層使用自定義initialization function\n",
    "* weight : nn.init.kaiming_normal_\n",
    "* bias : 全部輸入1"
   ]
  },
  {
   "cell_type": "code",
   "execution_count": 9,
   "metadata": {},
   "outputs": [
    {
     "data": {
      "text/plain": [
       "TheModelClass(\n",
       "  (conv1): Conv2d(3, 6, kernel_size=(5, 5), stride=(1, 1))\n",
       "  (pool): MaxPool2d(kernel_size=2, stride=2, padding=0, dilation=1, ceil_mode=False)\n",
       "  (conv2): Conv2d(6, 16, kernel_size=(5, 5), stride=(1, 1))\n",
       "  (fc1): Linear(in_features=400, out_features=120, bias=True)\n",
       "  (fc2): Linear(in_features=120, out_features=84, bias=True)\n",
       "  (fc3): Linear(in_features=84, out_features=10, bias=True)\n",
       ")"
      ]
     },
     "execution_count": 9,
     "metadata": {},
     "output_type": "execute_result"
    }
   ],
   "source": [
    "from torch.nn import init\n",
    "\n",
    "def weights_init(m):\n",
    "    #classname = m.__class__.__name__\n",
    "    if isinstance(m, nn.Conv2d):\n",
    "        #torch.nn.init.xavier_uniform_(m.weight)\n",
    "        nn.init.kaiming_normal_(m.weight.data,\n",
    "                                    a=0,\n",
    "                                    mode='fan_out',\n",
    "                                    nonlinearity='relu')\n",
    "        if m.bias is not None:\n",
    "            m.bias.data.fill_(1)\n",
    "            \n",
    "model.apply(weights_init)"
   ]
  },
  {
   "cell_type": "markdown",
   "metadata": {},
   "source": [
    "#### 查看 conv層的bias是否皆為1"
   ]
  },
  {
   "cell_type": "code",
   "execution_count": 10,
   "metadata": {},
   "outputs": [
    {
     "name": "stdout",
     "output_type": "stream",
     "text": [
      "conv1.weight\n",
      "conv1.bias\n",
      "conv2.weight\n",
      "conv2.bias\n",
      "fc1.weight\n",
      "fc1.bias\n",
      "fc2.weight\n",
      "fc2.bias\n",
      "fc3.weight\n",
      "fc3.bias\n"
     ]
    }
   ],
   "source": [
    "for name, parameters in model.named_parameters():\n",
    "    print(name)\n",
    "        "
   ]
  },
  {
   "cell_type": "code",
   "execution_count": 11,
   "metadata": {},
   "outputs": [
    {
     "name": "stdout",
     "output_type": "stream",
     "text": [
      "conv1.bias Parameter containing:\n",
      "tensor([1., 1., 1., 1., 1., 1.], requires_grad=True)\n",
      "\n",
      "\n",
      "conv2.bias Parameter containing:\n",
      "tensor([1., 1., 1., 1., 1., 1., 1., 1., 1., 1., 1., 1., 1., 1., 1., 1.],\n",
      "       requires_grad=True)\n",
      "\n",
      "\n"
     ]
    }
   ],
   "source": [
    "for name, parameters in model.named_parameters():\n",
    "    if ('conv' in name) and ('bias' in name):\n",
    "        print(name, parameters)\n",
    "        print('\\n')"
   ]
  }
 ],
 "metadata": {
  "kernelspec": {
   "display_name": "Python 3",
   "language": "python",
   "name": "python3"
  },
  "language_info": {
   "codemirror_mode": {
    "name": "ipython",
    "version": 3
   },
   "file_extension": ".py",
   "mimetype": "text/x-python",
   "name": "python",
   "nbconvert_exporter": "python",
   "pygments_lexer": "ipython3",
   "version": "3.7.4"
  }
 },
 "nbformat": 4,
 "nbformat_minor": 2
}
