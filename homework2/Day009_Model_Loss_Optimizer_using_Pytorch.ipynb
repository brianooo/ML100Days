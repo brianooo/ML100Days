{
 "cells": [
  {
   "cell_type": "code",
   "execution_count": 1,
   "metadata": {},
   "outputs": [],
   "source": [
    "import torch\n",
    "import torch.nn as nn\n",
    "import torchvision.models as models\n",
    "import torch.nn.functional as F\n",
    "import numpy as np\n",
    "import torch.optim as optim\n"
   ]
  },
  {
   "cell_type": "markdown",
   "metadata": {},
   "source": [
    "### 搭建模型"
   ]
  },
  {
   "cell_type": "code",
   "execution_count": 2,
   "metadata": {},
   "outputs": [],
   "source": [
    "class LinearBNAC(nn.Module):\n",
    "    def __init__(self, in_channels, out_channels, bias=True, dropout=0.3, is_output=False):\n",
    "        super(LinearBNAC, self).__init__()\n",
    "        if is_output and out_channels==1:\n",
    "            self.linear = nn.Sequential(\n",
    "                nn.Linear(in_channels, out_channels, bias=bias),\n",
    "                nn.Sigmoid()\n",
    "            )\n",
    "        elif is_output:\n",
    "            self.linear = nn.Sequential(\n",
    "                nn.Linear(in_channels, out_channels, bias=bias),\n",
    "                nn.Softmax(dim=1)\n",
    "            )   \n",
    "        else:\n",
    "            self.linear = nn.Sequential(\n",
    "                nn.Linear(in_channels, out_channels, bias=bias),\n",
    "                nn.Dropout(dropout),\n",
    "                nn.BatchNorm1d(out_channels),\n",
    "                nn.LeakyReLU(inplace=True)\n",
    "            )\n",
    "            \n",
    "    def forward(self, x):\n",
    "        out=self.linear(x)\n",
    "        return out"
   ]
  },
  {
   "cell_type": "code",
   "execution_count": 3,
   "metadata": {},
   "outputs": [],
   "source": [
    "class Model(nn.Module):\n",
    "    def __init__(self, input_dimention, output_classes=1):\n",
    "        super(Model, self).__init__()\n",
    "        self.layer1 = LinearBNAC(input_dimention, 128)\n",
    "        self.layer2 = LinearBNAC(128, 64)\n",
    "        self.layer3 = LinearBNAC(64, 32)\n",
    "        self.output = LinearBNAC(32, output_classes, is_output=True)\n",
    "    def forward(self, x):\n",
    "        x = self.layer1(x)\n",
    "        x = self.layer2(x)\n",
    "        x = self.layer3(x)\n",
    "        x = self.output(x)\n",
    "        return x \n",
    "        "
   ]
  },
  {
   "cell_type": "markdown",
   "metadata": {},
   "source": [
    "### 準備輸入資料、優化器、標籤資料、模型輸出"
   ]
  },
  {
   "cell_type": "code",
   "execution_count": 4,
   "metadata": {},
   "outputs": [],
   "source": [
    "model = Model(input_dimention=256,output_classes=10)\n",
    "optimizer = optim.Adam(params=model.parameters(), lr=1e-3, weight_decay=1e-3)"
   ]
  },
  {
   "cell_type": "code",
   "execution_count": 5,
   "metadata": {},
   "outputs": [],
   "source": [
    "batch_size = 4\n",
    "input_features = 256\n",
    "dummy_input = torch.randn(batch_size, input_features,)\n",
    "\n",
    "#target = torch.empty(4, dtype=torch.float).random_(10)\n",
    "target = torch.tensor([9., 5., 4., 4.], dtype=torch.long)"
   ]
  },
  {
   "cell_type": "code",
   "execution_count": 6,
   "metadata": {},
   "outputs": [
    {
     "name": "stdout",
     "output_type": "stream",
     "text": [
      "tensor([[0.0874, 0.1842, 0.0491, 0.0396, 0.1998, 0.0708, 0.1065, 0.0631, 0.0701,\n",
      "         0.1293],\n",
      "        [0.0960, 0.1081, 0.0939, 0.0393, 0.1207, 0.1086, 0.0837, 0.1002, 0.0565,\n",
      "         0.1930],\n",
      "        [0.1393, 0.0885, 0.1273, 0.1085, 0.0754, 0.0890, 0.1079, 0.0776, 0.1087,\n",
      "         0.0778],\n",
      "        [0.0824, 0.2417, 0.0507, 0.1204, 0.0979, 0.0742, 0.0661, 0.0408, 0.0799,\n",
      "         0.1459]], grad_fn=<SoftmaxBackward>)\n"
     ]
    }
   ],
   "source": [
    "output = model(dummy_input)\n",
    "print(output)"
   ]
  },
  {
   "cell_type": "code",
   "execution_count": 7,
   "metadata": {},
   "outputs": [
    {
     "data": {
      "text/plain": [
       "tensor([1.0000, 1.0000, 1.0000, 1.0000], grad_fn=<SumBackward1>)"
      ]
     },
     "execution_count": 7,
     "metadata": {},
     "output_type": "execute_result"
    }
   ],
   "source": [
    "output.sum(dim=1)"
   ]
  },
  {
   "cell_type": "markdown",
   "metadata": {},
   "source": [
    "### 計算 CrossEntropy Loss\n",
    "* 請注意哪一個 Loss最適合：我們已經使用 softmax\n",
    "* 因為我們有使用dropout，並隨機產生dummy_input，所以各為學員得到的值會與解答不同，然而步驟原理需要相同"
   ]
  },
  {
   "cell_type": "code",
   "execution_count": 8,
   "metadata": {},
   "outputs": [],
   "source": [
    "from torch.nn import NLLLoss, LogSoftmax, CrossEntropyLoss"
   ]
  },
  {
   "cell_type": "code",
   "execution_count": 9,
   "metadata": {},
   "outputs": [],
   "source": [
    "criterion = NLLLoss()"
   ]
  },
  {
   "cell_type": "code",
   "execution_count": 10,
   "metadata": {},
   "outputs": [],
   "source": [
    "loss = criterion(torch.log(output), target)"
   ]
  },
  {
   "cell_type": "markdown",
   "metadata": {},
   "source": [
    "### 完成back propagation並更新梯度"
   ]
  },
  {
   "cell_type": "code",
   "execution_count": 11,
   "metadata": {},
   "outputs": [],
   "source": [
    "loss.backward()"
   ]
  },
  {
   "cell_type": "code",
   "execution_count": 12,
   "metadata": {},
   "outputs": [
    {
     "name": "stdout",
     "output_type": "stream",
     "text": [
      "weight : Parameter containing:\n",
      "tensor([[ 0.0553, -0.0504,  0.0609,  ..., -0.0287, -0.0494,  0.0568],\n",
      "        [-0.0212, -0.0117, -0.0313,  ..., -0.0621, -0.0211,  0.0202],\n",
      "        [-0.0071,  0.0176,  0.0494,  ..., -0.0320,  0.0170, -0.0229],\n",
      "        ...,\n",
      "        [-0.0461,  0.0043,  0.0245,  ...,  0.0537, -0.0572,  0.0399],\n",
      "        [-0.0402, -0.0555, -0.0086,  ..., -0.0239,  0.0106,  0.0425],\n",
      "        [ 0.0436,  0.0020,  0.0081,  ...,  0.0619,  0.0623,  0.0491]],\n",
      "       requires_grad=True)\n",
      "\n",
      "\n",
      "grad : tensor([[-4.3168e-03, -8.5267e-04,  2.0987e-03,  ...,  4.6138e-03,\n",
      "          1.7091e-03, -3.0851e-03],\n",
      "        [ 1.3485e-02,  1.6925e-02,  1.4458e-02,  ...,  4.4687e-03,\n",
      "          3.4342e-03, -1.5725e-02],\n",
      "        [-4.3505e-02, -1.7017e-02,  6.9451e-03,  ...,  3.2420e-02,\n",
      "          4.4675e-02, -1.2619e-02],\n",
      "        ...,\n",
      "        [-5.2509e-07, -1.7769e-07,  1.7438e-07,  ...,  5.1723e-07,\n",
      "          7.0840e-07, -2.1821e-07],\n",
      "        [-8.3354e-03, -3.4571e-03, -1.1615e-03,  ...,  2.0523e-03,\n",
      "          8.4677e-03, -8.1822e-04],\n",
      "        [-4.5397e-03,  5.4319e-04, -4.0091e-03,  ..., -7.9992e-03,\n",
      "          3.2960e-03, -1.0351e-03]])\n"
     ]
    }
   ],
   "source": [
    "print('weight : {}'.format(model.layer1.linear[0].weight))\n",
    "print('\\n')\n",
    "print('grad : {}'.format(model.layer1.linear[0].weight.grad))"
   ]
  },
  {
   "cell_type": "code",
   "execution_count": 13,
   "metadata": {},
   "outputs": [],
   "source": [
    "optimizer.step()"
   ]
  },
  {
   "cell_type": "code",
   "execution_count": 14,
   "metadata": {},
   "outputs": [
    {
     "name": "stdout",
     "output_type": "stream",
     "text": [
      "weight : Parameter containing:\n",
      "tensor([[ 0.0563, -0.0494,  0.0599,  ..., -0.0297, -0.0504,  0.0578],\n",
      "        [-0.0222, -0.0127, -0.0323,  ..., -0.0631, -0.0221,  0.0212],\n",
      "        [-0.0061,  0.0186,  0.0484,  ..., -0.0330,  0.0160, -0.0219],\n",
      "        ...,\n",
      "        [-0.0451,  0.0033,  0.0235,  ...,  0.0527, -0.0562,  0.0389],\n",
      "        [-0.0392, -0.0545, -0.0076,  ..., -0.0249,  0.0096,  0.0435],\n",
      "        [ 0.0446,  0.0010,  0.0091,  ...,  0.0629,  0.0613,  0.0501]],\n",
      "       requires_grad=True)\n",
      "\n",
      "\n",
      "grad : tensor([[-4.3168e-03, -8.5267e-04,  2.0987e-03,  ...,  4.6138e-03,\n",
      "          1.7091e-03, -3.0851e-03],\n",
      "        [ 1.3485e-02,  1.6925e-02,  1.4458e-02,  ...,  4.4687e-03,\n",
      "          3.4342e-03, -1.5725e-02],\n",
      "        [-4.3505e-02, -1.7017e-02,  6.9451e-03,  ...,  3.2420e-02,\n",
      "          4.4675e-02, -1.2619e-02],\n",
      "        ...,\n",
      "        [-5.2509e-07, -1.7769e-07,  1.7438e-07,  ...,  5.1723e-07,\n",
      "          7.0840e-07, -2.1821e-07],\n",
      "        [-8.3354e-03, -3.4571e-03, -1.1615e-03,  ...,  2.0523e-03,\n",
      "          8.4677e-03, -8.1822e-04],\n",
      "        [-4.5397e-03,  5.4319e-04, -4.0091e-03,  ..., -7.9992e-03,\n",
      "          3.2960e-03, -1.0351e-03]])\n"
     ]
    }
   ],
   "source": [
    "print('weight : {}'.format(model.layer1.linear[0].weight))\n",
    "print('\\n')\n",
    "print('grad : {}'.format(model.layer1.linear[0].weight.grad))"
   ]
  },
  {
   "cell_type": "markdown",
   "metadata": {},
   "source": [
    "### 清空 gradient"
   ]
  },
  {
   "cell_type": "code",
   "execution_count": 15,
   "metadata": {},
   "outputs": [],
   "source": [
    "optimizer.zero_grad()"
   ]
  },
  {
   "cell_type": "code",
   "execution_count": 16,
   "metadata": {},
   "outputs": [
    {
     "name": "stdout",
     "output_type": "stream",
     "text": [
      "weight : Parameter containing:\n",
      "tensor([[ 0.0563, -0.0494,  0.0599,  ..., -0.0297, -0.0504,  0.0578],\n",
      "        [-0.0222, -0.0127, -0.0323,  ..., -0.0631, -0.0221,  0.0212],\n",
      "        [-0.0061,  0.0186,  0.0484,  ..., -0.0330,  0.0160, -0.0219],\n",
      "        ...,\n",
      "        [-0.0451,  0.0033,  0.0235,  ...,  0.0527, -0.0562,  0.0389],\n",
      "        [-0.0392, -0.0545, -0.0076,  ..., -0.0249,  0.0096,  0.0435],\n",
      "        [ 0.0446,  0.0010,  0.0091,  ...,  0.0629,  0.0613,  0.0501]],\n",
      "       requires_grad=True)\n",
      "\n",
      "\n",
      "grad : tensor([[0., 0., 0.,  ..., 0., 0., 0.],\n",
      "        [0., 0., 0.,  ..., 0., 0., 0.],\n",
      "        [0., 0., 0.,  ..., 0., 0., 0.],\n",
      "        ...,\n",
      "        [0., 0., 0.,  ..., 0., 0., 0.],\n",
      "        [0., 0., 0.,  ..., 0., 0., 0.],\n",
      "        [0., 0., 0.,  ..., 0., 0., 0.]])\n"
     ]
    }
   ],
   "source": [
    "print('weight : {}'.format(model.layer1.linear[0].weight))\n",
    "print('\\n')\n",
    "print('grad : {}'.format(model.layer1.linear[0].weight.grad))"
   ]
  },
  {
   "cell_type": "code",
   "execution_count": null,
   "metadata": {},
   "outputs": [],
   "source": []
  }
 ],
 "metadata": {
  "kernelspec": {
   "display_name": "Python 3",
   "language": "python",
   "name": "python3"
  },
  "language_info": {
   "codemirror_mode": {
    "name": "ipython",
    "version": 3
   },
   "file_extension": ".py",
   "mimetype": "text/x-python",
   "name": "python",
   "nbconvert_exporter": "python",
   "pygments_lexer": "ipython3",
   "version": "3.7.4"
  }
 },
 "nbformat": 4,
 "nbformat_minor": 2
}
