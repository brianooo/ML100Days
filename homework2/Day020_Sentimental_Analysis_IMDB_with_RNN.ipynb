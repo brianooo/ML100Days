{
 "cells": [
  {
   "cell_type": "markdown",
   "metadata": {
    "id": "q9TZK1cnaIvV"
   },
   "source": [
    "#  作業: 使用 LSTM 做文本情感分析"
   ]
  },
  {
   "cell_type": "markdown",
   "metadata": {
    "id": "wACDYEjYaWuL"
   },
   "source": [
    "##[作業目標]\n",
    "\n",
    "*   使用 Pytorch 提供的 LSTM 方法來做情感(情緒)的分析\n",
    "*   期望達到不錯的準確度，84% 以上"
   ]
  },
  {
   "cell_type": "markdown",
   "metadata": {
    "id": "Bv1G3DK5aZG8"
   },
   "source": [
    "##[作業重點]\n",
    "\n",
    "*   學會使用 torchtext dataset 來使用 IMDB 資料集\n",
    "*   搭建 LSTM 網路"
   ]
  },
  {
   "cell_type": "markdown",
   "metadata": {
    "id": "YGPhtbvTadKV"
   },
   "source": [
    "## 準備資料\n",
    "\n",
    "torchtext 包含以下 components：\n",
    "\n",
    "Field : 主要包含以下數據預處理的配置信息：指定分詞方法、是否轉成小寫、起始符號、以及字典等等。\n",
    "\n",
    "Dataset : 用於下載數據，也提供 splits 方法可以同時下載訓練資料、驗證資料和測試資料。\n",
    "\n",
    "Iterator : 數據讀取的迭代器，可以支持 batch\n",
    "\n",
    "我們定義 SEED、TEXT 和 LABEL 三個變數來隨機把資料集分割成 train/valid/test 三個資料集。"
   ]
  },
  {
   "cell_type": "code",
   "execution_count": 1,
   "metadata": {
    "colab": {
     "base_uri": "https://localhost:8080/"
    },
    "executionInfo": {
     "elapsed": 469,
     "status": "ok",
     "timestamp": 1625621786131,
     "user": {
      "displayName": "Brian Lin",
      "photoUrl": "",
      "userId": "12010684563378800672"
     },
     "user_tz": -480
    },
    "id": "qwZOdgdEQUzp",
    "outputId": "666e348b-2b49-4794-95bd-1b40b111dfbb"
   },
   "outputs": [
    {
     "name": "stdout",
     "output_type": "stream",
     "text": [
      "Drive already mounted at /content/gdrive; to attempt to forcibly remount, call drive.mount(\"/content/gdrive\", force_remount=True).\n"
     ]
    }
   ],
   "source": [
    "# Mount Google drive to Colab\n",
    "from google.colab import drive\n",
    "\n",
    "drive.mount('/content/gdrive')"
   ]
  },
  {
   "cell_type": "code",
   "execution_count": 2,
   "metadata": {
    "executionInfo": {
     "elapsed": 1011,
     "status": "ok",
     "timestamp": 1625621787598,
     "user": {
      "displayName": "Brian Lin",
      "photoUrl": "",
      "userId": "12010684563378800672"
     },
     "user_tz": -480
    },
    "id": "QFB6KwxOSOnJ"
   },
   "outputs": [],
   "source": [
    "import torch\n",
    "import torch.nn as nn\n",
    "import torch.optim as optim\n",
    "from torchtext.legacy import data\n",
    "from torchtext import datasets\n",
    "from nltk.stem import WordNetLemmatizer\n",
    "from nltk.corpus import stopwords, wordnet\n",
    "import nltk\n",
    "import re\n",
    "from tqdm.notebook import tqdm\n",
    "import json\n",
    "import time\n",
    "import random\n",
    "\n",
    "SEED = 1234\n",
    "\n",
    "torch.manual_seed(SEED)\n",
    "torch.backends.cudnn.deterministic = True"
   ]
  },
  {
   "cell_type": "code",
   "execution_count": 3,
   "metadata": {
    "colab": {
     "base_uri": "https://localhost:8080/"
    },
    "executionInfo": {
     "elapsed": 841,
     "status": "ok",
     "timestamp": 1625621788437,
     "user": {
      "displayName": "Brian Lin",
      "photoUrl": "",
      "userId": "12010684563378800672"
     },
     "user_tz": -480
    },
    "id": "8fzkkVFFbLlO",
    "outputId": "68729eab-16b2-4f8f-baa6-158f94a7d76c"
   },
   "outputs": [
    {
     "name": "stdout",
     "output_type": "stream",
     "text": [
      "[nltk_data] Downloading package stopwords to /root/nltk_data...\n",
      "[nltk_data]   Package stopwords is already up-to-date!\n",
      "[nltk_data] Downloading package averaged_perceptron_tagger to\n",
      "[nltk_data]     /root/nltk_data...\n",
      "[nltk_data]   Package averaged_perceptron_tagger is already up-to-\n",
      "[nltk_data]       date!\n",
      "[nltk_data] Downloading package wordnet to /root/nltk_data...\n",
      "[nltk_data]   Package wordnet is already up-to-date!\n"
     ]
    }
   ],
   "source": [
    "# 自定義 preprocessing 所需函式\n",
    "nltk.download('stopwords')\n",
    "nltk.download('averaged_perceptron_tagger')\n",
    "nltk.download('wordnet')\n",
    "\n",
    "lemmatizer = WordNetLemmatizer()\n",
    "stop = stopwords.words('english')\n",
    "\n",
    "def get_pos(word):\n",
    "    tag = nltk.pos_tag([word])[0][1][0].upper()\n",
    "    tag_dict = { 'J': wordnet.ADJ,\n",
    "                 'V': wordnet.VERB,\n",
    "                 'N': wordnet.NOUN,\n",
    "                 'R': wordnet.ADV}\n",
    "    return tag_dict.get(tag, wordnet.NOUN)\n",
    "\n",
    "def preProcess(words):\n",
    "    \n",
    "    newWords = []\n",
    "    for w in words:\n",
    "        if w not in stop and len(w)>2:\n",
    "            w = lemmatizer.lemmatize(w, pos=get_pos(w))\n",
    "            newWords.append(w)\n",
    "            \n",
    "    \n",
    "    sentence = ' '.join(newWords)\n",
    "    sentence = re.sub('[\\'-]', '', sentence)\n",
    "    sentence = re.sub('[^a-zA-Z]', ' ', sentence)\n",
    "    \n",
    "    return sentence.split()\n",
    "\n",
    "\n",
    "TEXT = data.Field(tokenize = 'spacy', lower=True, include_lengths = True, preprocessing=preProcess)\n",
    "LABEL = data.LabelField(sequential=False, dtype = torch.float)"
   ]
  },
  {
   "cell_type": "markdown",
   "metadata": {
    "id": "qJ-5VMQEbQON"
   },
   "source": [
    "## 下載並讀取資料\n",
    "\n",
    "torchtext 的 datasets 集合裡面就有 IMDB 資料，直接就可以讀取訓練以及測試資料了。"
   ]
  },
  {
   "cell_type": "code",
   "execution_count": 4,
   "metadata": {
    "colab": {
     "base_uri": "https://localhost:8080/",
     "height": 114,
     "referenced_widgets": [
      "f9c7e68f1e4e4dafb58311507ef7ae2c",
      "0da20101cca54a588a6b5fcc0a245022",
      "3c2c118bee754d8096a048dc784e0840",
      "555841da651b4aeeafa26f6cb67eb860",
      "387a2f17ea3c4e76b66980cc96db4ce6",
      "52d54ab9d88c47bc8d132c2e9a742b98",
      "72328ac80e5a415a98bd12c01c071fa2",
      "9667f9cf0f984b26b045229aa9ac72b4",
      "210834cdf5e94bd785cc2d1999303373",
      "6112593a96164a9b9915cb50cd66b588",
      "e5c1db9a527640539803c557fbdbbcb1",
      "afd04b29f7204822bc32f6b316788ab4",
      "145dc2fda79342c1bb8ea45d0851ab62",
      "a93be84524d34f1ca8d6a3adfbc91766",
      "60b7a5c716684ae3bd8028c7243308d2",
      "0ffae3d510714b45b9e9e40d7e0f405c"
     ]
    },
    "executionInfo": {
     "elapsed": 940254,
     "status": "ok",
     "timestamp": 1625622728689,
     "user": {
      "displayName": "Brian Lin",
      "photoUrl": "",
      "userId": "12010684563378800672"
     },
     "user_tz": -480
    },
    "id": "bv3fQwUlbV6o",
    "outputId": "7730e683-61d2-4e7d-b38e-594e416f1fdd"
   },
   "outputs": [
    {
     "data": {
      "application/vnd.jupyter.widget-view+json": {
       "model_id": "f9c7e68f1e4e4dafb58311507ef7ae2c",
       "version_major": 2,
       "version_minor": 0
      },
      "text/plain": [
       "HBox(children=(FloatProgress(value=0.0, max=25000.0), HTML(value='')))"
      ]
     },
     "metadata": {
      "tags": []
     },
     "output_type": "display_data"
    },
    {
     "name": "stdout",
     "output_type": "stream",
     "text": [
      "\n"
     ]
    },
    {
     "data": {
      "application/vnd.jupyter.widget-view+json": {
       "model_id": "210834cdf5e94bd785cc2d1999303373",
       "version_major": 2,
       "version_minor": 0
      },
      "text/plain": [
       "HBox(children=(FloatProgress(value=0.0, max=25000.0), HTML(value='')))"
      ]
     },
     "metadata": {
      "tags": []
     },
     "output_type": "display_data"
    },
    {
     "name": "stdout",
     "output_type": "stream",
     "text": [
      "\n"
     ]
    }
   ],
   "source": [
    "train_data, test_data = datasets.IMDB()\n",
    "\n",
    "train_examples = []\n",
    "test_examples = []\n",
    "\n",
    "for label, text in tqdm(train_data):\n",
    "    train_examples.append(data.Example.fromlist(data=[text, label], fields=[('text', TEXT), ('label', LABEL)]))\n",
    "\n",
    "for label, text in tqdm(test_data):\n",
    "    test_examples.append(data.Example.fromlist(data=[text, label], fields=[('text', TEXT), ('label', LABEL)]))"
   ]
  },
  {
   "cell_type": "markdown",
   "metadata": {
    "id": "FsLNd7kLcKEi"
   },
   "source": [
    "## 儲存 Examples\n",
    "\n",
    "前處理需要時間，把 Examples 儲存成 json 檔案，方便重複使用"
   ]
  },
  {
   "cell_type": "code",
   "execution_count": 5,
   "metadata": {
    "executionInfo": {
     "elapsed": 8,
     "status": "ok",
     "timestamp": 1625622728690,
     "user": {
      "displayName": "Brian Lin",
      "photoUrl": "",
      "userId": "12010684563378800672"
     },
     "user_tz": -480
    },
    "id": "c3c7MyjDSe51"
   },
   "outputs": [],
   "source": [
    "def save_examples(examples, savepath):\n",
    "    with open(savepath, 'w') as f:\n",
    "        # Save num. elements (not really need it)\n",
    "        \n",
    "        f.write(json.dumps(len(examples)))  # Write examples length\n",
    "        f.write(\"\\n\")\n",
    "\n",
    "        # Save elements\n",
    "        for pair in examples:\n",
    "            data = [pair.text, pair.label]\n",
    "            f.write(json.dumps(data))  # Write samples\n",
    "            f.write(\"\\n\")\n",
    "\n",
    "def load_examples(filename):\n",
    "    examples = []\n",
    "    start = time.time()\n",
    "    with open(filename, 'r') as f:\n",
    "        # Read num. elements (not really need it)\n",
    "        total = json.loads(f.readline())\n",
    "\n",
    "        # Save elements\n",
    "        for i in range(total):\n",
    "            line = f.readline()\n",
    "            example = json.loads(line)\n",
    "            #example = data.Example.fromlist(data=example, fields=[('text', TEXT), ('label', LABEL)])\n",
    "            #example = data.Example().fromlist(example, fields)  # Create Example obj. (you can do it here or later)\n",
    "            examples.append(example)\n",
    "\n",
    "    end = time.time()\n",
    "    print(end - start)\n",
    "    return examples"
   ]
  },
  {
   "cell_type": "code",
   "execution_count": 6,
   "metadata": {
    "executionInfo": {
     "elapsed": 1077,
     "status": "ok",
     "timestamp": 1625622729760,
     "user": {
      "displayName": "Brian Lin",
      "photoUrl": "",
      "userId": "12010684563378800672"
     },
     "user_tz": -480
    },
    "id": "jQdBuS0Pb7Ed"
   },
   "outputs": [],
   "source": [
    "# save examples\n",
    "save_examples(train_examples, './gdrive/My Drive/AI/NLP_Part2/train_examples.json')\n",
    "save_examples(test_examples, './gdrive/My Drive/AI/NLP_Part2/test_examples.json')"
   ]
  },
  {
   "cell_type": "code",
   "execution_count": 7,
   "metadata": {
    "colab": {
     "base_uri": "https://localhost:8080/",
     "height": 148,
     "referenced_widgets": [
      "ac6b3fe2f9714fd7a9bf599748b03ee4",
      "0b9ab8a426824b53912fb5a02562bb19",
      "340b76edf5e84e6cad74242781564f9b",
      "8b4216206b2b423fae80b52b9445b4c7",
      "df62ce5009fa422cb8cb2c1ecf2e60af",
      "3aee3d16bfbd488eac1230962e953eeb",
      "a544d04bd9624a60890767731893224b",
      "6a7fa9a35e9242da845e0f630d95535c",
      "5bbe1893c1cb4022a6670fb33a457ae1",
      "49e202880a8441f5aaec8f06aef22082",
      "144519161b7244559707e4bec904b5fd",
      "5ac0df798c4648daa02db2e750a65290",
      "9942e2558fce4108a548bf19f782d418",
      "026008f86bb24033ae31a03cb197f357",
      "59e10e62674d46c7be29e0a9d10b83f4",
      "e437a171377d461ba9c06939329e0fc7"
     ]
    },
    "executionInfo": {
     "elapsed": 2287,
     "status": "ok",
     "timestamp": 1625622732046,
     "user": {
      "displayName": "Brian Lin",
      "photoUrl": "",
      "userId": "12010684563378800672"
     },
     "user_tz": -480
    },
    "id": "WGzbcSTuSzbu",
    "outputId": "b1d3b3ca-5e32-4943-8467-22caf103bc4b"
   },
   "outputs": [
    {
     "name": "stdout",
     "output_type": "stream",
     "text": [
      "0.4720315933227539\n"
     ]
    },
    {
     "data": {
      "application/vnd.jupyter.widget-view+json": {
       "model_id": "ac6b3fe2f9714fd7a9bf599748b03ee4",
       "version_major": 2,
       "version_minor": 0
      },
      "text/plain": [
       "HBox(children=(FloatProgress(value=0.0, max=25000.0), HTML(value='')))"
      ]
     },
     "metadata": {
      "tags": []
     },
     "output_type": "display_data"
    },
    {
     "name": "stdout",
     "output_type": "stream",
     "text": [
      "\n",
      "0.4167478084564209\n"
     ]
    },
    {
     "data": {
      "application/vnd.jupyter.widget-view+json": {
       "model_id": "5bbe1893c1cb4022a6670fb33a457ae1",
       "version_major": 2,
       "version_minor": 0
      },
      "text/plain": [
       "HBox(children=(FloatProgress(value=0.0, max=25000.0), HTML(value='')))"
      ]
     },
     "metadata": {
      "tags": []
     },
     "output_type": "display_data"
    },
    {
     "name": "stdout",
     "output_type": "stream",
     "text": [
      "\n"
     ]
    }
   ],
   "source": [
    "# load examples and create datasets\n",
    "# 重新定義 Field 把前處理動作去除，避免要再花費時間做前處理\n",
    "\n",
    "TEXT = data.Field(tokenize = 'spacy', include_lengths = True)\n",
    "LABEL = data.LabelField(sequential=False, dtype = torch.float)\n",
    "\n",
    "train_examples = load_examples('./gdrive/My Drive/AI/NLP_Part2/train_examples.json')\n",
    "\n",
    "train_examples = [data.Example.fromlist(data=d, fields=[('text', TEXT),('label', LABEL)]) for d in tqdm(train_examples)]\n",
    "test_examples = load_examples('./gdrive/My Drive/AI/NLP_Part2/test_examples.json')\n",
    "test_examples = [data.Example.fromlist(data=d, fields=[('text', TEXT),('label', LABEL)]) for d in tqdm(test_examples)]\n",
    "\n",
    "train_data = data.Dataset(examples=train_examples, fields={'text':TEXT, 'label':LABEL})\n",
    "test_data = data.Dataset(examples=test_examples, fields={'text':TEXT, 'label':LABEL})"
   ]
  },
  {
   "cell_type": "code",
   "execution_count": 8,
   "metadata": {
    "colab": {
     "base_uri": "https://localhost:8080/"
    },
    "executionInfo": {
     "elapsed": 5,
     "status": "ok",
     "timestamp": 1625622732047,
     "user": {
      "displayName": "Brian Lin",
      "photoUrl": "",
      "userId": "12010684563378800672"
     },
     "user_tz": -480
    },
    "id": "LewOyz-xTJhA",
    "outputId": "4c1a7c8e-972c-42f6-a602-ccfe400d0303"
   },
   "outputs": [
    {
     "data": {
      "text/plain": [
       "['rent',\n",
       " 'curious',\n",
       " 'yellow',\n",
       " 'video',\n",
       " 'store',\n",
       " 'controversy',\n",
       " 'surround',\n",
       " 'first',\n",
       " 'release',\n",
       " 'also',\n",
       " 'heard',\n",
       " 'first',\n",
       " 'seize',\n",
       " 'u',\n",
       " 's',\n",
       " 'custom',\n",
       " 'ever',\n",
       " 'try',\n",
       " 'enter',\n",
       " 'country',\n",
       " 'therefore',\n",
       " 'fan',\n",
       " 'film',\n",
       " 'consider',\n",
       " 'controversial',\n",
       " 'really',\n",
       " 'see',\n",
       " 'myself',\n",
       " 'br',\n",
       " 'br',\n",
       " 'the',\n",
       " 'plot',\n",
       " 'center',\n",
       " 'around',\n",
       " 'young',\n",
       " 'swedish',\n",
       " 'drama',\n",
       " 'student',\n",
       " 'name',\n",
       " 'lena',\n",
       " 'want',\n",
       " 'learn',\n",
       " 'everything',\n",
       " 'life',\n",
       " 'particular',\n",
       " 'want',\n",
       " 'focus',\n",
       " 'attention',\n",
       " 'make',\n",
       " 'sort',\n",
       " 'documentary',\n",
       " 'average',\n",
       " 'swede',\n",
       " 'thought',\n",
       " 'certain',\n",
       " 'political',\n",
       " 'issue',\n",
       " 'vietnam',\n",
       " 'war',\n",
       " 'race',\n",
       " 'issue',\n",
       " 'united',\n",
       " 'state',\n",
       " 'ask',\n",
       " 'politician',\n",
       " 'ordinary',\n",
       " 'denizen',\n",
       " 'stockholm',\n",
       " 'opinion',\n",
       " 'politics',\n",
       " 'sex',\n",
       " 'drama',\n",
       " 'teacher',\n",
       " 'classmate',\n",
       " 'married',\n",
       " 'men',\n",
       " 'br',\n",
       " 'br',\n",
       " 'what',\n",
       " 'kill',\n",
       " 'curious',\n",
       " 'yellow',\n",
       " 'year',\n",
       " 'ago',\n",
       " 'consider',\n",
       " 'pornographic',\n",
       " 'really',\n",
       " 'sex',\n",
       " 'nudity',\n",
       " 'scene',\n",
       " 'far',\n",
       " 'even',\n",
       " 'shot',\n",
       " 'like',\n",
       " 'cheaply',\n",
       " 'make',\n",
       " 'porno',\n",
       " 'countryman',\n",
       " 'mind',\n",
       " 'find',\n",
       " 'shock',\n",
       " 'reality',\n",
       " 'sex',\n",
       " 'nudity',\n",
       " 'major',\n",
       " 'staple',\n",
       " 'swedish',\n",
       " 'cinema',\n",
       " 'even',\n",
       " 'ingmar',\n",
       " 'bergman',\n",
       " 'arguably',\n",
       " 'answer',\n",
       " 'good',\n",
       " 'old',\n",
       " 'boy',\n",
       " 'john',\n",
       " 'ford',\n",
       " 'sex',\n",
       " 'scene',\n",
       " 'films',\n",
       " 'br',\n",
       " 'br',\n",
       " 'i',\n",
       " 'commend',\n",
       " 'filmmaker',\n",
       " 'fact',\n",
       " 'sex',\n",
       " 'show',\n",
       " 'film',\n",
       " 'show',\n",
       " 'artistic',\n",
       " 'purpose',\n",
       " 'rather',\n",
       " 'shock',\n",
       " 'people',\n",
       " 'make',\n",
       " 'money',\n",
       " 'show',\n",
       " 'pornographic',\n",
       " 'theater',\n",
       " 'america',\n",
       " 'curious',\n",
       " 'yellow',\n",
       " 'good',\n",
       " 'film',\n",
       " 'anyone',\n",
       " 'want',\n",
       " 'study',\n",
       " 'meat',\n",
       " 'potato',\n",
       " 'pun',\n",
       " 'intend',\n",
       " 'swedish',\n",
       " 'cinema',\n",
       " 'really',\n",
       " 'film',\n",
       " 'nt',\n",
       " 'much',\n",
       " 'plot']"
      ]
     },
     "execution_count": 8,
     "metadata": {
      "tags": []
     },
     "output_type": "execute_result"
    }
   ],
   "source": [
    "# Check content\n",
    "train_examples[0].text"
   ]
  },
  {
   "cell_type": "markdown",
   "metadata": {
    "id": "iLYDk60IcrtX"
   },
   "source": [
    "## 從訓練資料裡面切割驗證資料\n",
    "\n",
    "從訓練資料裡面抓取一些資料當作 validation set"
   ]
  },
  {
   "cell_type": "code",
   "execution_count": 9,
   "metadata": {
    "executionInfo": {
     "elapsed": 4,
     "status": "ok",
     "timestamp": 1625622732048,
     "user": {
      "displayName": "Brian Lin",
      "photoUrl": "",
      "userId": "12010684563378800672"
     },
     "user_tz": -480
    },
    "id": "xY1u_-rPTWou"
   },
   "outputs": [],
   "source": [
    "train_data, valid_data = train_data.split(random_state = random.seed(SEED))"
   ]
  },
  {
   "cell_type": "markdown",
   "metadata": {
    "id": "GR-ixntkctn9"
   },
   "source": [
    "# 建立字典\n",
    "\n",
    "接下來是使用預訓練的 word embeddings。只要呼叫 TorchText 的 build_vocab 就可以把所有的文字向量化, 我們使用的是 \"glove.6B.100d\" 的向量，glove 是一個用來計算詞向量的演算法。6B 是指這些詞向量是用了60億個tokens訓練出來的，而 100d 是指每一個向量的維度是 100。"
   ]
  },
  {
   "cell_type": "code",
   "execution_count": 10,
   "metadata": {
    "executionInfo": {
     "elapsed": 1069,
     "status": "ok",
     "timestamp": 1625622733113,
     "user": {
      "displayName": "Brian Lin",
      "photoUrl": "",
      "userId": "12010684563378800672"
     },
     "user_tz": -480
    },
    "id": "nB-dz6CMTe6u"
   },
   "outputs": [],
   "source": [
    "MAX_VOCAB_SIZE = 25000\n",
    "\n",
    "TEXT.build_vocab(train_data, \n",
    "                 max_size = MAX_VOCAB_SIZE, \n",
    "                 vectors = \"glove.6B.100d\",\n",
    "                 unk_init = torch.Tensor.normal_)\n",
    "\n",
    "LABEL.build_vocab(train_data)"
   ]
  },
  {
   "cell_type": "markdown",
   "metadata": {
    "id": "SHgrFOyFc9Kt"
   },
   "source": [
    "# 建立Iterator\n",
    "\n",
    "Iterator 是 torchtext 到模型的輸出，提供了對數據的打亂、排序等等處理方法。可以動態修改 batch size這裡使用 splits method 來同時輸出訓練集、驗證集以及測試集。\n",
    "\n",
    "如果有 GPU 的話則使用 cuda 來做運算。\n",
    "\n",
    "`sort_within_batch = True` 是表示在每一個 batch 裡面的 tensors 是依照長度排序的。"
   ]
  },
  {
   "cell_type": "code",
   "execution_count": 11,
   "metadata": {
    "executionInfo": {
     "elapsed": 16,
     "status": "ok",
     "timestamp": 1625622733114,
     "user": {
      "displayName": "Brian Lin",
      "photoUrl": "",
      "userId": "12010684563378800672"
     },
     "user_tz": -480
    },
    "id": "mf6rgw3TVhEH"
   },
   "outputs": [],
   "source": [
    "BATCH_SIZE = 64\n",
    "\n",
    "device = torch.device('cuda' if torch.cuda.is_available() else 'cpu')\n",
    "\n",
    "train_iterator, valid_iterator, test_iterator = data.BucketIterator.splits(\n",
    "    (train_data, valid_data, test_data), \n",
    "    batch_size = BATCH_SIZE,\n",
    "    sort_within_batch = True,\n",
    "    sort_key=lambda ex:len(ex.text),\n",
    "    device = device)\n"
   ]
  },
  {
   "cell_type": "markdown",
   "metadata": {
    "id": "zh2EEi6vdEx9"
   },
   "source": [
    "# 建立 LSTM 模型\n",
    "我們將使用 pytorch 內建的 RNN 架構是 LSTM (Long Short-Term Memory)模型。它的公式如下：\n",
    "\n",
    "$(h_t, c_t) = \\text{LSTM}(x_t, h_t, c_t)$\n",
    "\n",
    "\n",
    "步驟解釋：\n",
    "\n",
    "1. 在模型裡，每個詞會先通過 embedding layer 的到特徵向量\n",
    "2. 然後我們使用 LSTM 對特徵序列進一步編碼得到序列信息。\n",
    "3. 將編碼後的序列信息通過全連接層(Fully connectivity layer)得到輸出。"
   ]
  },
  {
   "cell_type": "code",
   "execution_count": 12,
   "metadata": {
    "executionInfo": {
     "elapsed": 15,
     "status": "ok",
     "timestamp": 1625622733114,
     "user": {
      "displayName": "Brian Lin",
      "photoUrl": "",
      "userId": "12010684563378800672"
     },
     "user_tz": -480
    },
    "id": "V3KAGZYZVtdp"
   },
   "outputs": [],
   "source": [
    "class LSTM(nn.Module):\n",
    "    def __init__(self, vocab_size, embedding_dim, hidden_dim, output_dim, n_layers, \n",
    "                 bidirectional, dropout, pad_idx):\n",
    "        \n",
    "        super().__init__()\n",
    "        \n",
    "        self.embedding = nn.Embedding(vocab_size, embedding_dim, padding_idx = pad_idx)\n",
    "        \n",
    "        self.rnn = nn.LSTM(embedding_dim, \n",
    "                           hidden_dim, \n",
    "                           num_layers=n_layers, \n",
    "                           bidirectional=bidirectional, \n",
    "                           dropout=dropout)\n",
    "        \n",
    "        self.fc = nn.Linear(hidden_dim * 2, output_dim)\n",
    "        \n",
    "        self.dropout = nn.Dropout(dropout)\n",
    "        \n",
    "    def forward(self, text, text_lengths):\n",
    "        \n",
    "        #text = [sent len, batch size]\n",
    "        \n",
    "        embedded = self.dropout(self.embedding(text))\n",
    "        \n",
    "        #embedded = [sent len, batch size, emb dim]\n",
    "        \n",
    "        #pack sequence\n",
    "        packed_embedded = nn.utils.rnn.pack_padded_sequence(embedded, text_lengths.cpu())\n",
    "        \n",
    "        packed_output, (hidden, cell) = self.rnn(packed_embedded)\n",
    "        \n",
    "        #unpack sequence\n",
    "        output, output_lengths = nn.utils.rnn.pad_packed_sequence(packed_output)\n",
    "\n",
    "        #output = [sent len, batch size, hid dim * num directions]\n",
    "        #output over padding tokens are zero tensors\n",
    "        \n",
    "        #hidden = [num layers * num directions, batch size, hid dim]\n",
    "        #cell = [num layers * num directions, batch size, hid dim]\n",
    "        \n",
    "        #concat the final forward (hidden[-2,:,:]) and backward (hidden[-1,:,:]) hidden layers\n",
    "        #and apply dropout\n",
    "        \n",
    "        hidden = self.dropout(torch.cat((hidden[-2,:,:], hidden[-1,:,:]), dim = 1))\n",
    "                \n",
    "        #hidden = [batch size, hid dim * num directions]\n",
    "            \n",
    "        return self.fc(hidden)"
   ]
  },
  {
   "cell_type": "markdown",
   "metadata": {
    "id": "n1gGbU9UdTL_"
   },
   "source": [
    "# LSTM 模型參數說明\n",
    "\n",
    "1. vocab_size: 輸入層的維度(input dim)\n",
    "2. embedding_dim: 詞向量的維度, 我們使用的是 glove.6B.100d, 所以這裡 embedding_dim 是 100\n",
    "3. hidden_dim: the size of the hidden states\n",
    "4. output_dim: 輸出層的維度\n",
    "5. n_layers: 有幾層全連結層\n",
    "6. bidirectional: 是否使用雙向 RNN\n",
    "7. dropout： dropout 的比例\n",
    "8. pad_idx: token <pad> 的 index"
   ]
  },
  {
   "cell_type": "code",
   "execution_count": 13,
   "metadata": {
    "executionInfo": {
     "elapsed": 15,
     "status": "ok",
     "timestamp": 1625622733114,
     "user": {
      "displayName": "Brian Lin",
      "photoUrl": "",
      "userId": "12010684563378800672"
     },
     "user_tz": -480
    },
    "id": "yldrRc03VzYZ"
   },
   "outputs": [],
   "source": [
    "INPUT_DIM = len(TEXT.vocab)\n",
    "EMBEDDING_DIM = 100\n",
    "HIDDEN_DIM = 256\n",
    "OUTPUT_DIM = 1\n",
    "N_LAYERS = 2\n",
    "BIDIRECTIONAL = False\n",
    "DROPOUT = 0.5\n",
    "PAD_IDX = TEXT.vocab.stoi[TEXT.pad_token]\n",
    "\n",
    "model = LSTM(INPUT_DIM, \n",
    "            EMBEDDING_DIM, \n",
    "            HIDDEN_DIM, \n",
    "            OUTPUT_DIM, \n",
    "            N_LAYERS, \n",
    "            BIDIRECTIONAL, \n",
    "            DROPOUT,\n",
    "            PAD_IDX)"
   ]
  },
  {
   "cell_type": "code",
   "execution_count": 14,
   "metadata": {
    "colab": {
     "base_uri": "https://localhost:8080/"
    },
    "executionInfo": {
     "elapsed": 15,
     "status": "ok",
     "timestamp": 1625622733114,
     "user": {
      "displayName": "Brian Lin",
      "photoUrl": "",
      "userId": "12010684563378800672"
     },
     "user_tz": -480
    },
    "id": "PtFGNabVWCEh",
    "outputId": "ffbe0207-6406-4908-9f94-2802dc55468a"
   },
   "outputs": [
    {
     "name": "stdout",
     "output_type": "stream",
     "text": [
      "The model has 3,393,641 trainable parameters\n"
     ]
    }
   ],
   "source": [
    "# 印出我們模型的參數量\n",
    "def count_parameters(model):\n",
    "    return sum(p.numel() for p in model.parameters() if p.requires_grad)\n",
    "\n",
    "print(f'The model has {count_parameters(model):,} trainable parameters')"
   ]
  },
  {
   "cell_type": "markdown",
   "metadata": {
    "id": "cMRJY9vadnjN"
   },
   "source": [
    "# 檢查 embedding 的字典大小以及 embedding 的維度\n",
    "\n",
    "_**[vocab size, embedding dim]**_ "
   ]
  },
  {
   "cell_type": "code",
   "execution_count": 15,
   "metadata": {
    "colab": {
     "base_uri": "https://localhost:8080/"
    },
    "executionInfo": {
     "elapsed": 13,
     "status": "ok",
     "timestamp": 1625622733115,
     "user": {
      "displayName": "Brian Lin",
      "photoUrl": "",
      "userId": "12010684563378800672"
     },
     "user_tz": -480
    },
    "id": "UQadqE4xWDrJ",
    "outputId": "9f55ada3-090a-4c3b-cd65-218707892212"
   },
   "outputs": [
    {
     "name": "stdout",
     "output_type": "stream",
     "text": [
      "torch.Size([25002, 100])\n"
     ]
    }
   ],
   "source": [
    "pretrained_embeddings = TEXT.vocab.vectors\n",
    "\n",
    "print(pretrained_embeddings.shape)"
   ]
  },
  {
   "cell_type": "markdown",
   "metadata": {
    "id": "NY0J54eEdyaU"
   },
   "source": [
    "用 pre-trained embeddings 來當作 `embedding` 層的初始化參數"
   ]
  },
  {
   "cell_type": "code",
   "execution_count": 16,
   "metadata": {
    "colab": {
     "base_uri": "https://localhost:8080/"
    },
    "executionInfo": {
     "elapsed": 10,
     "status": "ok",
     "timestamp": 1625622733115,
     "user": {
      "displayName": "Brian Lin",
      "photoUrl": "",
      "userId": "12010684563378800672"
     },
     "user_tz": -480
    },
    "id": "yHS2LyEpWIFo",
    "outputId": "b8eb1f52-47da-424c-fd6a-504bed79093c"
   },
   "outputs": [
    {
     "data": {
      "text/plain": [
       "tensor([[-0.1117, -0.4966,  0.1631,  ...,  1.2647, -0.2753, -0.1325],\n",
       "        [-0.8555, -0.7208,  1.3755,  ...,  0.0825, -1.1314,  0.3997],\n",
       "        [ 0.1979,  0.2526, -0.2831,  ..., -0.4406, -0.7426, -0.3215],\n",
       "        ...,\n",
       "        [-0.7814,  0.2898, -0.0829,  ..., -0.5352,  0.8679, -1.1157],\n",
       "        [ 0.4722, -0.0494,  0.2172,  ..., -0.9187,  0.3444, -0.0422],\n",
       "        [ 0.2328,  0.8056,  0.4982,  ..., -0.1569,  0.3015,  0.2311]])"
      ]
     },
     "execution_count": 16,
     "metadata": {
      "tags": []
     },
     "output_type": "execute_result"
    }
   ],
   "source": [
    "model.embedding.weight.data.copy_(pretrained_embeddings)"
   ]
  },
  {
   "cell_type": "markdown",
   "metadata": {
    "id": "hWF3ydUudzxC"
   },
   "source": [
    "因為`<unk>` and `<pad>`是沒有在 pre-trained 的詞裡面，所以要把 `<unk>` 和 `<pad>`的 初始 embedding 權重都變成 0"
   ]
  },
  {
   "cell_type": "code",
   "execution_count": 17,
   "metadata": {
    "colab": {
     "base_uri": "https://localhost:8080/"
    },
    "executionInfo": {
     "elapsed": 8,
     "status": "ok",
     "timestamp": 1625622733116,
     "user": {
      "displayName": "Brian Lin",
      "photoUrl": "",
      "userId": "12010684563378800672"
     },
     "user_tz": -480
    },
    "id": "AI_HBpYMWLXe",
    "outputId": "f8d38e83-3873-4545-cdaa-c1634fd1d1d5"
   },
   "outputs": [
    {
     "name": "stdout",
     "output_type": "stream",
     "text": [
      "tensor([[ 0.0000,  0.0000,  0.0000,  ...,  0.0000,  0.0000,  0.0000],\n",
      "        [ 0.0000,  0.0000,  0.0000,  ...,  0.0000,  0.0000,  0.0000],\n",
      "        [ 0.1979,  0.2526, -0.2831,  ..., -0.4406, -0.7426, -0.3215],\n",
      "        ...,\n",
      "        [-0.7814,  0.2898, -0.0829,  ..., -0.5352,  0.8679, -1.1157],\n",
      "        [ 0.4722, -0.0494,  0.2172,  ..., -0.9187,  0.3444, -0.0422],\n",
      "        [ 0.2328,  0.8056,  0.4982,  ..., -0.1569,  0.3015,  0.2311]])\n"
     ]
    }
   ],
   "source": [
    "UNK_IDX = TEXT.vocab.stoi[TEXT.unk_token]\n",
    "\n",
    "model.embedding.weight.data[UNK_IDX] = torch.zeros(EMBEDDING_DIM)\n",
    "model.embedding.weight.data[PAD_IDX] = torch.zeros(EMBEDDING_DIM)\n",
    "\n",
    "print(model.embedding.weight.data)"
   ]
  },
  {
   "cell_type": "markdown",
   "metadata": {
    "id": "nj7coa1eeCxI"
   },
   "source": [
    "We can now see the first two rows of the embedding weights matrix have been set to zeros. As we passed the index of the pad token to the `padding_idx` of the embedding layer it will remain zeros throughout training, however the `<unk>` token embedding will be learned."
   ]
  },
  {
   "cell_type": "markdown",
   "metadata": {
    "id": "HjhWckzaesH9"
   },
   "source": [
    "# 訓練模型\n",
    "\n",
    "使用優化器 Adam\n",
    "\n",
    "使用 BCEWithLogitsLoss 當作 Loss Function\n",
    "\n",
    "實作計算計算準確度的函式"
   ]
  },
  {
   "cell_type": "code",
   "execution_count": 18,
   "metadata": {
    "executionInfo": {
     "elapsed": 3440,
     "status": "ok",
     "timestamp": 1625622736550,
     "user": {
      "displayName": "Brian Lin",
      "photoUrl": "",
      "userId": "12010684563378800672"
     },
     "user_tz": -480
    },
    "id": "IxNw4prxWQWP"
   },
   "outputs": [],
   "source": [
    "optimizer = optim.Adam(model.parameters())\n",
    "\n",
    "criterion = nn.BCEWithLogitsLoss()\n",
    "\n",
    "model = model.to(device)\n",
    "criterion = criterion.to(device)\n",
    "\n",
    "def binary_accuracy(preds, y):\n",
    "    \"\"\"\n",
    "    Returns accuracy per batch, i.e. if you get 8/10 right, this returns 0.8, NOT 8\n",
    "    \"\"\"\n",
    "\n",
    "    #round predictions to the closest integer\n",
    "    rounded_preds = torch.round(torch.sigmoid(preds))\n",
    "    correct = (rounded_preds == y).float() #convert into float for division \n",
    "    acc = correct.sum() / len(correct)\n",
    "    return acc"
   ]
  },
  {
   "cell_type": "markdown",
   "metadata": {
    "id": "CniP8EEtfblB"
   },
   "source": [
    "# 訓練函式"
   ]
  },
  {
   "cell_type": "code",
   "execution_count": 19,
   "metadata": {
    "executionInfo": {
     "elapsed": 8,
     "status": "ok",
     "timestamp": 1625622736552,
     "user": {
      "displayName": "Brian Lin",
      "photoUrl": "",
      "userId": "12010684563378800672"
     },
     "user_tz": -480
    },
    "id": "0nPfNFs0WeV-"
   },
   "outputs": [],
   "source": [
    "def train(model, iterator, optimizer, criterion):\n",
    "    \n",
    "    epoch_loss = 0\n",
    "    epoch_acc = 0\n",
    "    \n",
    "    model.train()\n",
    "    \n",
    "    for batch in iterator:\n",
    "        \n",
    "        optimizer.zero_grad()\n",
    "        \n",
    "        text, text_lengths = batch.text\n",
    "        \n",
    "        predictions = model(text, text_lengths).squeeze(1)\n",
    "        \n",
    "        loss = criterion(predictions, batch.label)\n",
    "        \n",
    "        acc = binary_accuracy(predictions, batch.label)\n",
    "        \n",
    "        loss.backward()\n",
    "        \n",
    "        optimizer.step()\n",
    "        \n",
    "        epoch_loss += loss.item()\n",
    "        epoch_acc += acc.item()\n",
    "        \n",
    "    return epoch_loss / len(iterator), epoch_acc / len(iterator)"
   ]
  },
  {
   "cell_type": "markdown",
   "metadata": {
    "id": "L57HS44_fduC"
   },
   "source": [
    "# 測試模型的方法"
   ]
  },
  {
   "cell_type": "code",
   "execution_count": 20,
   "metadata": {
    "executionInfo": {
     "elapsed": 8,
     "status": "ok",
     "timestamp": 1625622736553,
     "user": {
      "displayName": "Brian Lin",
      "photoUrl": "",
      "userId": "12010684563378800672"
     },
     "user_tz": -480
    },
    "id": "RzX2oJmSWiEX"
   },
   "outputs": [],
   "source": [
    "def evaluate(model, iterator, criterion):\n",
    "    \n",
    "    epoch_loss = 0\n",
    "    epoch_acc = 0\n",
    "    \n",
    "    model.eval()\n",
    "    \n",
    "    with torch.no_grad():\n",
    "    \n",
    "        for batch in iterator:\n",
    "\n",
    "            text, text_lengths = batch.text\n",
    "            \n",
    "            predictions = model(text, text_lengths).squeeze(1)\n",
    "            \n",
    "            loss = criterion(predictions, batch.label)\n",
    "            \n",
    "            acc = binary_accuracy(predictions, batch.label)\n",
    "\n",
    "            epoch_loss += loss.item()\n",
    "            epoch_acc += acc.item()\n",
    "        \n",
    "    return epoch_loss / len(iterator), epoch_acc / len(iterator)"
   ]
  },
  {
   "cell_type": "code",
   "execution_count": 21,
   "metadata": {
    "executionInfo": {
     "elapsed": 8,
     "status": "ok",
     "timestamp": 1625622736553,
     "user": {
      "displayName": "Brian Lin",
      "photoUrl": "",
      "userId": "12010684563378800672"
     },
     "user_tz": -480
    },
    "id": "G0gcUAY0Wl0X"
   },
   "outputs": [],
   "source": [
    "# 查看訓練進度以及花費的時間\n",
    "def epoch_time(start_time, end_time):\n",
    "    elapsed_time = end_time - start_time\n",
    "    elapsed_mins = int(elapsed_time / 60)\n",
    "    elapsed_secs = int(elapsed_time - (elapsed_mins * 60))\n",
    "    return elapsed_mins, elapsed_secs"
   ]
  },
  {
   "cell_type": "code",
   "execution_count": 23,
   "metadata": {
    "colab": {
     "base_uri": "https://localhost:8080/"
    },
    "executionInfo": {
     "elapsed": 91764,
     "status": "ok",
     "timestamp": 1625623601532,
     "user": {
      "displayName": "Brian Lin",
      "photoUrl": "",
      "userId": "12010684563378800672"
     },
     "user_tz": -480
    },
    "id": "lsS1TdWkWpoH",
    "outputId": "e55257ff-ba7a-4dd4-d960-22a0d1ee62bf"
   },
   "outputs": [
    {
     "name": "stdout",
     "output_type": "stream",
     "text": [
      "Epoch: 01 | Epoch Time: 0m 9s\n",
      "\tTrain Loss: 0.625 | Train Acc: 64.66%\n",
      "\t Val. Loss: 0.682 |  Val. Acc: 59.07%\n",
      "Epoch: 02 | Epoch Time: 0m 9s\n",
      "\tTrain Loss: 0.666 | Train Acc: 59.99%\n",
      "\t Val. Loss: 0.664 |  Val. Acc: 59.34%\n",
      "Epoch: 03 | Epoch Time: 0m 9s\n",
      "\tTrain Loss: 0.495 | Train Acc: 76.07%\n",
      "\t Val. Loss: 0.421 |  Val. Acc: 81.05%\n",
      "Epoch: 04 | Epoch Time: 0m 9s\n",
      "\tTrain Loss: 0.318 | Train Acc: 86.82%\n",
      "\t Val. Loss: 0.300 |  Val. Acc: 87.35%\n",
      "Epoch: 05 | Epoch Time: 0m 9s\n",
      "\tTrain Loss: 0.243 | Train Acc: 90.51%\n",
      "\t Val. Loss: 0.294 |  Val. Acc: 87.96%\n",
      "Epoch: 06 | Epoch Time: 0m 9s\n",
      "\tTrain Loss: 0.200 | Train Acc: 92.48%\n",
      "\t Val. Loss: 0.278 |  Val. Acc: 89.25%\n",
      "Epoch: 07 | Epoch Time: 0m 9s\n",
      "\tTrain Loss: 0.161 | Train Acc: 94.14%\n",
      "\t Val. Loss: 0.289 |  Val. Acc: 88.97%\n",
      "Epoch: 08 | Epoch Time: 0m 9s\n",
      "\tTrain Loss: 0.135 | Train Acc: 95.08%\n",
      "\t Val. Loss: 0.323 |  Val. Acc: 88.74%\n",
      "Epoch: 09 | Epoch Time: 0m 8s\n",
      "\tTrain Loss: 0.119 | Train Acc: 95.76%\n",
      "\t Val. Loss: 0.329 |  Val. Acc: 89.13%\n",
      "Epoch: 10 | Epoch Time: 0m 9s\n",
      "\tTrain Loss: 0.099 | Train Acc: 96.57%\n",
      "\t Val. Loss: 0.371 |  Val. Acc: 88.20%\n"
     ]
    }
   ],
   "source": [
    "# 開始訓練\n",
    "\n",
    "N_EPOCHS = 10\n",
    "\n",
    "\n",
    "best_valid_loss = float('inf')\n",
    "\n",
    "for epoch in range(N_EPOCHS):\n",
    "\n",
    "    start_time = time.time()\n",
    "    \n",
    "    train_loss, train_acc = train(model, train_iterator, optimizer, criterion)\n",
    "    valid_loss, valid_acc = evaluate(model, valid_iterator, criterion)\n",
    "    \n",
    "    end_time = time.time()\n",
    "\n",
    "    epoch_mins, epoch_secs = epoch_time(start_time, end_time)\n",
    "    \n",
    "    if valid_loss < best_valid_loss:\n",
    "        best_valid_loss = valid_loss\n",
    "        torch.save(model.state_dict(), 'tut2-model.pt')\n",
    "    \n",
    "    print(f'Epoch: {epoch+1:02} | Epoch Time: {epoch_mins}m {epoch_secs}s')\n",
    "    print(f'\\tTrain Loss: {train_loss:.3f} | Train Acc: {train_acc*100:.2f}%')\n",
    "    print(f'\\t Val. Loss: {valid_loss:.3f} |  Val. Acc: {valid_acc*100:.2f}%')"
   ]
  },
  {
   "cell_type": "code",
   "execution_count": 24,
   "metadata": {
    "colab": {
     "base_uri": "https://localhost:8080/"
    },
    "executionInfo": {
     "elapsed": 3651,
     "status": "ok",
     "timestamp": 1625623651619,
     "user": {
      "displayName": "Brian Lin",
      "photoUrl": "",
      "userId": "12010684563378800672"
     },
     "user_tz": -480
    },
    "id": "yD_rluqZXV0c",
    "outputId": "77f2a334-fdd4-4f08-ab25-8305044507b8"
   },
   "outputs": [
    {
     "name": "stdout",
     "output_type": "stream",
     "text": [
      "Test Loss: 0.330 | Test Acc: 86.78%\n"
     ]
    }
   ],
   "source": [
    "# 測試模型的準確度\n",
    "model.load_state_dict(torch.load('tut2-model.pt'))\n",
    "\n",
    "test_loss, test_acc = evaluate(model, test_iterator, criterion)\n",
    "\n",
    "print(f'Test Loss: {test_loss:.3f} | Test Acc: {test_acc*100:.2f}%')"
   ]
  },
  {
   "cell_type": "markdown",
   "metadata": {
    "id": "hcBlp5-GgWPq"
   },
   "source": [
    "# Demo 函式\n",
    "\n",
    "最後我們來建立一個 Demo 的函式讓使用者可以輸入任意的句子來看看模型是否可以正確的做好情緒分類。"
   ]
  },
  {
   "cell_type": "code",
   "execution_count": 25,
   "metadata": {
    "executionInfo": {
     "elapsed": 771,
     "status": "ok",
     "timestamp": 1625623656864,
     "user": {
      "displayName": "Brian Lin",
      "photoUrl": "",
      "userId": "12010684563378800672"
     },
     "user_tz": -480
    },
    "id": "BbbdKofMZC58"
   },
   "outputs": [],
   "source": [
    "import spacy\n",
    "nlp = spacy.load('en')\n",
    "\n",
    "def predict_sentiment(model, sentence):\n",
    "    model.eval()\n",
    "    tokenized = [tok.text for tok in nlp.tokenizer(sentence)]\n",
    "    indexed = [TEXT.vocab.stoi[t] for t in tokenized]\n",
    "    length = [len(indexed)]\n",
    "    tensor = torch.LongTensor(indexed).to(device)\n",
    "    tensor = tensor.unsqueeze(1)\n",
    "    length_tensor = torch.LongTensor(length)\n",
    "    prediction = torch.sigmoid(model(tensor, length_tensor))\n",
    "    return prediction.item()"
   ]
  },
  {
   "cell_type": "markdown",
   "metadata": {
    "id": "xvKEbRaYgg_g"
   },
   "source": [
    "# Demo"
   ]
  },
  {
   "cell_type": "code",
   "execution_count": 36,
   "metadata": {
    "colab": {
     "base_uri": "https://localhost:8080/"
    },
    "executionInfo": {
     "elapsed": 300,
     "status": "ok",
     "timestamp": 1625624747869,
     "user": {
      "displayName": "Brian Lin",
      "photoUrl": "",
      "userId": "12010684563378800672"
     },
     "user_tz": -480
    },
    "id": "ksCpObYbZMT8",
    "outputId": "4797c709-6a35-4c00-fc74-3867f1408e21"
   },
   "outputs": [
    {
     "name": "stdout",
     "output_type": "stream",
     "text": [
      "This film is bad --> Negtive\n",
      "This film is good --> Positive\n"
     ]
    }
   ],
   "source": [
    "sentences = [\"This film is bad\", \"This film is good\"]\n",
    "for sentence in sentences:\n",
    "  if predict_sentiment(model, sentence) < 0.5:\n",
    "    print(\"{} --> Positive\".format(sentence))\n",
    "  else:\n",
    "    print(\"{} --> Negtive\".format(sentence))"
   ]
  }
 ],
 "metadata": {
  "accelerator": "GPU",
  "colab": {
   "authorship_tag": "ABX9TyN7pFCfqj676OK7tyBhax3b",
   "name": "Day020.ipynb",
   "provenance": []
  },
  "kernelspec": {
   "display_name": "Python 3",
   "language": "python",
   "name": "python3"
  },
  "language_info": {
   "codemirror_mode": {
    "name": "ipython",
    "version": 3
   },
   "file_extension": ".py",
   "mimetype": "text/x-python",
   "name": "python",
   "nbconvert_exporter": "python",
   "pygments_lexer": "ipython3",
   "version": "3.7.10"
  },
  "widgets": {
   "application/vnd.jupyter.widget-state+json": {
    "026008f86bb24033ae31a03cb197f357": {
     "model_module": "@jupyter-widgets/base",
     "model_name": "LayoutModel",
     "state": {
      "_model_module": "@jupyter-widgets/base",
      "_model_module_version": "1.2.0",
      "_model_name": "LayoutModel",
      "_view_count": null,
      "_view_module": "@jupyter-widgets/base",
      "_view_module_version": "1.2.0",
      "_view_name": "LayoutView",
      "align_content": null,
      "align_items": null,
      "align_self": null,
      "border": null,
      "bottom": null,
      "display": null,
      "flex": null,
      "flex_flow": null,
      "grid_area": null,
      "grid_auto_columns": null,
      "grid_auto_flow": null,
      "grid_auto_rows": null,
      "grid_column": null,
      "grid_gap": null,
      "grid_row": null,
      "grid_template_areas": null,
      "grid_template_columns": null,
      "grid_template_rows": null,
      "height": null,
      "justify_content": null,
      "justify_items": null,
      "left": null,
      "margin": null,
      "max_height": null,
      "max_width": null,
      "min_height": null,
      "min_width": null,
      "object_fit": null,
      "object_position": null,
      "order": null,
      "overflow": null,
      "overflow_x": null,
      "overflow_y": null,
      "padding": null,
      "right": null,
      "top": null,
      "visibility": null,
      "width": null
     }
    },
    "0b9ab8a426824b53912fb5a02562bb19": {
     "model_module": "@jupyter-widgets/base",
     "model_name": "LayoutModel",
     "state": {
      "_model_module": "@jupyter-widgets/base",
      "_model_module_version": "1.2.0",
      "_model_name": "LayoutModel",
      "_view_count": null,
      "_view_module": "@jupyter-widgets/base",
      "_view_module_version": "1.2.0",
      "_view_name": "LayoutView",
      "align_content": null,
      "align_items": null,
      "align_self": null,
      "border": null,
      "bottom": null,
      "display": null,
      "flex": null,
      "flex_flow": null,
      "grid_area": null,
      "grid_auto_columns": null,
      "grid_auto_flow": null,
      "grid_auto_rows": null,
      "grid_column": null,
      "grid_gap": null,
      "grid_row": null,
      "grid_template_areas": null,
      "grid_template_columns": null,
      "grid_template_rows": null,
      "height": null,
      "justify_content": null,
      "justify_items": null,
      "left": null,
      "margin": null,
      "max_height": null,
      "max_width": null,
      "min_height": null,
      "min_width": null,
      "object_fit": null,
      "object_position": null,
      "order": null,
      "overflow": null,
      "overflow_x": null,
      "overflow_y": null,
      "padding": null,
      "right": null,
      "top": null,
      "visibility": null,
      "width": null
     }
    },
    "0da20101cca54a588a6b5fcc0a245022": {
     "model_module": "@jupyter-widgets/base",
     "model_name": "LayoutModel",
     "state": {
      "_model_module": "@jupyter-widgets/base",
      "_model_module_version": "1.2.0",
      "_model_name": "LayoutModel",
      "_view_count": null,
      "_view_module": "@jupyter-widgets/base",
      "_view_module_version": "1.2.0",
      "_view_name": "LayoutView",
      "align_content": null,
      "align_items": null,
      "align_self": null,
      "border": null,
      "bottom": null,
      "display": null,
      "flex": null,
      "flex_flow": null,
      "grid_area": null,
      "grid_auto_columns": null,
      "grid_auto_flow": null,
      "grid_auto_rows": null,
      "grid_column": null,
      "grid_gap": null,
      "grid_row": null,
      "grid_template_areas": null,
      "grid_template_columns": null,
      "grid_template_rows": null,
      "height": null,
      "justify_content": null,
      "justify_items": null,
      "left": null,
      "margin": null,
      "max_height": null,
      "max_width": null,
      "min_height": null,
      "min_width": null,
      "object_fit": null,
      "object_position": null,
      "order": null,
      "overflow": null,
      "overflow_x": null,
      "overflow_y": null,
      "padding": null,
      "right": null,
      "top": null,
      "visibility": null,
      "width": null
     }
    },
    "0ffae3d510714b45b9e9e40d7e0f405c": {
     "model_module": "@jupyter-widgets/base",
     "model_name": "LayoutModel",
     "state": {
      "_model_module": "@jupyter-widgets/base",
      "_model_module_version": "1.2.0",
      "_model_name": "LayoutModel",
      "_view_count": null,
      "_view_module": "@jupyter-widgets/base",
      "_view_module_version": "1.2.0",
      "_view_name": "LayoutView",
      "align_content": null,
      "align_items": null,
      "align_self": null,
      "border": null,
      "bottom": null,
      "display": null,
      "flex": null,
      "flex_flow": null,
      "grid_area": null,
      "grid_auto_columns": null,
      "grid_auto_flow": null,
      "grid_auto_rows": null,
      "grid_column": null,
      "grid_gap": null,
      "grid_row": null,
      "grid_template_areas": null,
      "grid_template_columns": null,
      "grid_template_rows": null,
      "height": null,
      "justify_content": null,
      "justify_items": null,
      "left": null,
      "margin": null,
      "max_height": null,
      "max_width": null,
      "min_height": null,
      "min_width": null,
      "object_fit": null,
      "object_position": null,
      "order": null,
      "overflow": null,
      "overflow_x": null,
      "overflow_y": null,
      "padding": null,
      "right": null,
      "top": null,
      "visibility": null,
      "width": null
     }
    },
    "144519161b7244559707e4bec904b5fd": {
     "model_module": "@jupyter-widgets/controls",
     "model_name": "FloatProgressModel",
     "state": {
      "_dom_classes": [],
      "_model_module": "@jupyter-widgets/controls",
      "_model_module_version": "1.5.0",
      "_model_name": "FloatProgressModel",
      "_view_count": null,
      "_view_module": "@jupyter-widgets/controls",
      "_view_module_version": "1.5.0",
      "_view_name": "ProgressView",
      "bar_style": "success",
      "description": "100%",
      "description_tooltip": null,
      "layout": "IPY_MODEL_026008f86bb24033ae31a03cb197f357",
      "max": 25000,
      "min": 0,
      "orientation": "horizontal",
      "style": "IPY_MODEL_9942e2558fce4108a548bf19f782d418",
      "value": 25000
     }
    },
    "145dc2fda79342c1bb8ea45d0851ab62": {
     "model_module": "@jupyter-widgets/controls",
     "model_name": "ProgressStyleModel",
     "state": {
      "_model_module": "@jupyter-widgets/controls",
      "_model_module_version": "1.5.0",
      "_model_name": "ProgressStyleModel",
      "_view_count": null,
      "_view_module": "@jupyter-widgets/base",
      "_view_module_version": "1.2.0",
      "_view_name": "StyleView",
      "bar_color": null,
      "description_width": "initial"
     }
    },
    "210834cdf5e94bd785cc2d1999303373": {
     "model_module": "@jupyter-widgets/controls",
     "model_name": "HBoxModel",
     "state": {
      "_dom_classes": [],
      "_model_module": "@jupyter-widgets/controls",
      "_model_module_version": "1.5.0",
      "_model_name": "HBoxModel",
      "_view_count": null,
      "_view_module": "@jupyter-widgets/controls",
      "_view_module_version": "1.5.0",
      "_view_name": "HBoxView",
      "box_style": "",
      "children": [
       "IPY_MODEL_e5c1db9a527640539803c557fbdbbcb1",
       "IPY_MODEL_afd04b29f7204822bc32f6b316788ab4"
      ],
      "layout": "IPY_MODEL_6112593a96164a9b9915cb50cd66b588"
     }
    },
    "340b76edf5e84e6cad74242781564f9b": {
     "model_module": "@jupyter-widgets/controls",
     "model_name": "FloatProgressModel",
     "state": {
      "_dom_classes": [],
      "_model_module": "@jupyter-widgets/controls",
      "_model_module_version": "1.5.0",
      "_model_name": "FloatProgressModel",
      "_view_count": null,
      "_view_module": "@jupyter-widgets/controls",
      "_view_module_version": "1.5.0",
      "_view_name": "ProgressView",
      "bar_style": "success",
      "description": "100%",
      "description_tooltip": null,
      "layout": "IPY_MODEL_3aee3d16bfbd488eac1230962e953eeb",
      "max": 25000,
      "min": 0,
      "orientation": "horizontal",
      "style": "IPY_MODEL_df62ce5009fa422cb8cb2c1ecf2e60af",
      "value": 25000
     }
    },
    "387a2f17ea3c4e76b66980cc96db4ce6": {
     "model_module": "@jupyter-widgets/controls",
     "model_name": "ProgressStyleModel",
     "state": {
      "_model_module": "@jupyter-widgets/controls",
      "_model_module_version": "1.5.0",
      "_model_name": "ProgressStyleModel",
      "_view_count": null,
      "_view_module": "@jupyter-widgets/base",
      "_view_module_version": "1.2.0",
      "_view_name": "StyleView",
      "bar_color": null,
      "description_width": "initial"
     }
    },
    "3aee3d16bfbd488eac1230962e953eeb": {
     "model_module": "@jupyter-widgets/base",
     "model_name": "LayoutModel",
     "state": {
      "_model_module": "@jupyter-widgets/base",
      "_model_module_version": "1.2.0",
      "_model_name": "LayoutModel",
      "_view_count": null,
      "_view_module": "@jupyter-widgets/base",
      "_view_module_version": "1.2.0",
      "_view_name": "LayoutView",
      "align_content": null,
      "align_items": null,
      "align_self": null,
      "border": null,
      "bottom": null,
      "display": null,
      "flex": null,
      "flex_flow": null,
      "grid_area": null,
      "grid_auto_columns": null,
      "grid_auto_flow": null,
      "grid_auto_rows": null,
      "grid_column": null,
      "grid_gap": null,
      "grid_row": null,
      "grid_template_areas": null,
      "grid_template_columns": null,
      "grid_template_rows": null,
      "height": null,
      "justify_content": null,
      "justify_items": null,
      "left": null,
      "margin": null,
      "max_height": null,
      "max_width": null,
      "min_height": null,
      "min_width": null,
      "object_fit": null,
      "object_position": null,
      "order": null,
      "overflow": null,
      "overflow_x": null,
      "overflow_y": null,
      "padding": null,
      "right": null,
      "top": null,
      "visibility": null,
      "width": null
     }
    },
    "3c2c118bee754d8096a048dc784e0840": {
     "model_module": "@jupyter-widgets/controls",
     "model_name": "FloatProgressModel",
     "state": {
      "_dom_classes": [],
      "_model_module": "@jupyter-widgets/controls",
      "_model_module_version": "1.5.0",
      "_model_name": "FloatProgressModel",
      "_view_count": null,
      "_view_module": "@jupyter-widgets/controls",
      "_view_module_version": "1.5.0",
      "_view_name": "ProgressView",
      "bar_style": "success",
      "description": "100%",
      "description_tooltip": null,
      "layout": "IPY_MODEL_52d54ab9d88c47bc8d132c2e9a742b98",
      "max": 25000,
      "min": 0,
      "orientation": "horizontal",
      "style": "IPY_MODEL_387a2f17ea3c4e76b66980cc96db4ce6",
      "value": 25000
     }
    },
    "49e202880a8441f5aaec8f06aef22082": {
     "model_module": "@jupyter-widgets/base",
     "model_name": "LayoutModel",
     "state": {
      "_model_module": "@jupyter-widgets/base",
      "_model_module_version": "1.2.0",
      "_model_name": "LayoutModel",
      "_view_count": null,
      "_view_module": "@jupyter-widgets/base",
      "_view_module_version": "1.2.0",
      "_view_name": "LayoutView",
      "align_content": null,
      "align_items": null,
      "align_self": null,
      "border": null,
      "bottom": null,
      "display": null,
      "flex": null,
      "flex_flow": null,
      "grid_area": null,
      "grid_auto_columns": null,
      "grid_auto_flow": null,
      "grid_auto_rows": null,
      "grid_column": null,
      "grid_gap": null,
      "grid_row": null,
      "grid_template_areas": null,
      "grid_template_columns": null,
      "grid_template_rows": null,
      "height": null,
      "justify_content": null,
      "justify_items": null,
      "left": null,
      "margin": null,
      "max_height": null,
      "max_width": null,
      "min_height": null,
      "min_width": null,
      "object_fit": null,
      "object_position": null,
      "order": null,
      "overflow": null,
      "overflow_x": null,
      "overflow_y": null,
      "padding": null,
      "right": null,
      "top": null,
      "visibility": null,
      "width": null
     }
    },
    "52d54ab9d88c47bc8d132c2e9a742b98": {
     "model_module": "@jupyter-widgets/base",
     "model_name": "LayoutModel",
     "state": {
      "_model_module": "@jupyter-widgets/base",
      "_model_module_version": "1.2.0",
      "_model_name": "LayoutModel",
      "_view_count": null,
      "_view_module": "@jupyter-widgets/base",
      "_view_module_version": "1.2.0",
      "_view_name": "LayoutView",
      "align_content": null,
      "align_items": null,
      "align_self": null,
      "border": null,
      "bottom": null,
      "display": null,
      "flex": null,
      "flex_flow": null,
      "grid_area": null,
      "grid_auto_columns": null,
      "grid_auto_flow": null,
      "grid_auto_rows": null,
      "grid_column": null,
      "grid_gap": null,
      "grid_row": null,
      "grid_template_areas": null,
      "grid_template_columns": null,
      "grid_template_rows": null,
      "height": null,
      "justify_content": null,
      "justify_items": null,
      "left": null,
      "margin": null,
      "max_height": null,
      "max_width": null,
      "min_height": null,
      "min_width": null,
      "object_fit": null,
      "object_position": null,
      "order": null,
      "overflow": null,
      "overflow_x": null,
      "overflow_y": null,
      "padding": null,
      "right": null,
      "top": null,
      "visibility": null,
      "width": null
     }
    },
    "555841da651b4aeeafa26f6cb67eb860": {
     "model_module": "@jupyter-widgets/controls",
     "model_name": "HTMLModel",
     "state": {
      "_dom_classes": [],
      "_model_module": "@jupyter-widgets/controls",
      "_model_module_version": "1.5.0",
      "_model_name": "HTMLModel",
      "_view_count": null,
      "_view_module": "@jupyter-widgets/controls",
      "_view_module_version": "1.5.0",
      "_view_name": "HTMLView",
      "description": "",
      "description_tooltip": null,
      "layout": "IPY_MODEL_9667f9cf0f984b26b045229aa9ac72b4",
      "placeholder": "​",
      "style": "IPY_MODEL_72328ac80e5a415a98bd12c01c071fa2",
      "value": " 25000/25000 [11:22&lt;00:00, 36.61it/s]"
     }
    },
    "59e10e62674d46c7be29e0a9d10b83f4": {
     "model_module": "@jupyter-widgets/controls",
     "model_name": "DescriptionStyleModel",
     "state": {
      "_model_module": "@jupyter-widgets/controls",
      "_model_module_version": "1.5.0",
      "_model_name": "DescriptionStyleModel",
      "_view_count": null,
      "_view_module": "@jupyter-widgets/base",
      "_view_module_version": "1.2.0",
      "_view_name": "StyleView",
      "description_width": ""
     }
    },
    "5ac0df798c4648daa02db2e750a65290": {
     "model_module": "@jupyter-widgets/controls",
     "model_name": "HTMLModel",
     "state": {
      "_dom_classes": [],
      "_model_module": "@jupyter-widgets/controls",
      "_model_module_version": "1.5.0",
      "_model_name": "HTMLModel",
      "_view_count": null,
      "_view_module": "@jupyter-widgets/controls",
      "_view_module_version": "1.5.0",
      "_view_name": "HTMLView",
      "description": "",
      "description_tooltip": null,
      "layout": "IPY_MODEL_e437a171377d461ba9c06939329e0fc7",
      "placeholder": "​",
      "style": "IPY_MODEL_59e10e62674d46c7be29e0a9d10b83f4",
      "value": " 25000/25000 [26:22&lt;00:00, 15.79it/s]"
     }
    },
    "5bbe1893c1cb4022a6670fb33a457ae1": {
     "model_module": "@jupyter-widgets/controls",
     "model_name": "HBoxModel",
     "state": {
      "_dom_classes": [],
      "_model_module": "@jupyter-widgets/controls",
      "_model_module_version": "1.5.0",
      "_model_name": "HBoxModel",
      "_view_count": null,
      "_view_module": "@jupyter-widgets/controls",
      "_view_module_version": "1.5.0",
      "_view_name": "HBoxView",
      "box_style": "",
      "children": [
       "IPY_MODEL_144519161b7244559707e4bec904b5fd",
       "IPY_MODEL_5ac0df798c4648daa02db2e750a65290"
      ],
      "layout": "IPY_MODEL_49e202880a8441f5aaec8f06aef22082"
     }
    },
    "60b7a5c716684ae3bd8028c7243308d2": {
     "model_module": "@jupyter-widgets/controls",
     "model_name": "DescriptionStyleModel",
     "state": {
      "_model_module": "@jupyter-widgets/controls",
      "_model_module_version": "1.5.0",
      "_model_name": "DescriptionStyleModel",
      "_view_count": null,
      "_view_module": "@jupyter-widgets/base",
      "_view_module_version": "1.2.0",
      "_view_name": "StyleView",
      "description_width": ""
     }
    },
    "6112593a96164a9b9915cb50cd66b588": {
     "model_module": "@jupyter-widgets/base",
     "model_name": "LayoutModel",
     "state": {
      "_model_module": "@jupyter-widgets/base",
      "_model_module_version": "1.2.0",
      "_model_name": "LayoutModel",
      "_view_count": null,
      "_view_module": "@jupyter-widgets/base",
      "_view_module_version": "1.2.0",
      "_view_name": "LayoutView",
      "align_content": null,
      "align_items": null,
      "align_self": null,
      "border": null,
      "bottom": null,
      "display": null,
      "flex": null,
      "flex_flow": null,
      "grid_area": null,
      "grid_auto_columns": null,
      "grid_auto_flow": null,
      "grid_auto_rows": null,
      "grid_column": null,
      "grid_gap": null,
      "grid_row": null,
      "grid_template_areas": null,
      "grid_template_columns": null,
      "grid_template_rows": null,
      "height": null,
      "justify_content": null,
      "justify_items": null,
      "left": null,
      "margin": null,
      "max_height": null,
      "max_width": null,
      "min_height": null,
      "min_width": null,
      "object_fit": null,
      "object_position": null,
      "order": null,
      "overflow": null,
      "overflow_x": null,
      "overflow_y": null,
      "padding": null,
      "right": null,
      "top": null,
      "visibility": null,
      "width": null
     }
    },
    "6a7fa9a35e9242da845e0f630d95535c": {
     "model_module": "@jupyter-widgets/base",
     "model_name": "LayoutModel",
     "state": {
      "_model_module": "@jupyter-widgets/base",
      "_model_module_version": "1.2.0",
      "_model_name": "LayoutModel",
      "_view_count": null,
      "_view_module": "@jupyter-widgets/base",
      "_view_module_version": "1.2.0",
      "_view_name": "LayoutView",
      "align_content": null,
      "align_items": null,
      "align_self": null,
      "border": null,
      "bottom": null,
      "display": null,
      "flex": null,
      "flex_flow": null,
      "grid_area": null,
      "grid_auto_columns": null,
      "grid_auto_flow": null,
      "grid_auto_rows": null,
      "grid_column": null,
      "grid_gap": null,
      "grid_row": null,
      "grid_template_areas": null,
      "grid_template_columns": null,
      "grid_template_rows": null,
      "height": null,
      "justify_content": null,
      "justify_items": null,
      "left": null,
      "margin": null,
      "max_height": null,
      "max_width": null,
      "min_height": null,
      "min_width": null,
      "object_fit": null,
      "object_position": null,
      "order": null,
      "overflow": null,
      "overflow_x": null,
      "overflow_y": null,
      "padding": null,
      "right": null,
      "top": null,
      "visibility": null,
      "width": null
     }
    },
    "72328ac80e5a415a98bd12c01c071fa2": {
     "model_module": "@jupyter-widgets/controls",
     "model_name": "DescriptionStyleModel",
     "state": {
      "_model_module": "@jupyter-widgets/controls",
      "_model_module_version": "1.5.0",
      "_model_name": "DescriptionStyleModel",
      "_view_count": null,
      "_view_module": "@jupyter-widgets/base",
      "_view_module_version": "1.2.0",
      "_view_name": "StyleView",
      "description_width": ""
     }
    },
    "8b4216206b2b423fae80b52b9445b4c7": {
     "model_module": "@jupyter-widgets/controls",
     "model_name": "HTMLModel",
     "state": {
      "_dom_classes": [],
      "_model_module": "@jupyter-widgets/controls",
      "_model_module_version": "1.5.0",
      "_model_name": "HTMLModel",
      "_view_count": null,
      "_view_module": "@jupyter-widgets/controls",
      "_view_module_version": "1.5.0",
      "_view_name": "HTMLView",
      "description": "",
      "description_tooltip": null,
      "layout": "IPY_MODEL_6a7fa9a35e9242da845e0f630d95535c",
      "placeholder": "​",
      "style": "IPY_MODEL_a544d04bd9624a60890767731893224b",
      "value": " 25000/25000 [26:23&lt;00:00, 15.78it/s]"
     }
    },
    "9667f9cf0f984b26b045229aa9ac72b4": {
     "model_module": "@jupyter-widgets/base",
     "model_name": "LayoutModel",
     "state": {
      "_model_module": "@jupyter-widgets/base",
      "_model_module_version": "1.2.0",
      "_model_name": "LayoutModel",
      "_view_count": null,
      "_view_module": "@jupyter-widgets/base",
      "_view_module_version": "1.2.0",
      "_view_name": "LayoutView",
      "align_content": null,
      "align_items": null,
      "align_self": null,
      "border": null,
      "bottom": null,
      "display": null,
      "flex": null,
      "flex_flow": null,
      "grid_area": null,
      "grid_auto_columns": null,
      "grid_auto_flow": null,
      "grid_auto_rows": null,
      "grid_column": null,
      "grid_gap": null,
      "grid_row": null,
      "grid_template_areas": null,
      "grid_template_columns": null,
      "grid_template_rows": null,
      "height": null,
      "justify_content": null,
      "justify_items": null,
      "left": null,
      "margin": null,
      "max_height": null,
      "max_width": null,
      "min_height": null,
      "min_width": null,
      "object_fit": null,
      "object_position": null,
      "order": null,
      "overflow": null,
      "overflow_x": null,
      "overflow_y": null,
      "padding": null,
      "right": null,
      "top": null,
      "visibility": null,
      "width": null
     }
    },
    "9942e2558fce4108a548bf19f782d418": {
     "model_module": "@jupyter-widgets/controls",
     "model_name": "ProgressStyleModel",
     "state": {
      "_model_module": "@jupyter-widgets/controls",
      "_model_module_version": "1.5.0",
      "_model_name": "ProgressStyleModel",
      "_view_count": null,
      "_view_module": "@jupyter-widgets/base",
      "_view_module_version": "1.2.0",
      "_view_name": "StyleView",
      "bar_color": null,
      "description_width": "initial"
     }
    },
    "a544d04bd9624a60890767731893224b": {
     "model_module": "@jupyter-widgets/controls",
     "model_name": "DescriptionStyleModel",
     "state": {
      "_model_module": "@jupyter-widgets/controls",
      "_model_module_version": "1.5.0",
      "_model_name": "DescriptionStyleModel",
      "_view_count": null,
      "_view_module": "@jupyter-widgets/base",
      "_view_module_version": "1.2.0",
      "_view_name": "StyleView",
      "description_width": ""
     }
    },
    "a93be84524d34f1ca8d6a3adfbc91766": {
     "model_module": "@jupyter-widgets/base",
     "model_name": "LayoutModel",
     "state": {
      "_model_module": "@jupyter-widgets/base",
      "_model_module_version": "1.2.0",
      "_model_name": "LayoutModel",
      "_view_count": null,
      "_view_module": "@jupyter-widgets/base",
      "_view_module_version": "1.2.0",
      "_view_name": "LayoutView",
      "align_content": null,
      "align_items": null,
      "align_self": null,
      "border": null,
      "bottom": null,
      "display": null,
      "flex": null,
      "flex_flow": null,
      "grid_area": null,
      "grid_auto_columns": null,
      "grid_auto_flow": null,
      "grid_auto_rows": null,
      "grid_column": null,
      "grid_gap": null,
      "grid_row": null,
      "grid_template_areas": null,
      "grid_template_columns": null,
      "grid_template_rows": null,
      "height": null,
      "justify_content": null,
      "justify_items": null,
      "left": null,
      "margin": null,
      "max_height": null,
      "max_width": null,
      "min_height": null,
      "min_width": null,
      "object_fit": null,
      "object_position": null,
      "order": null,
      "overflow": null,
      "overflow_x": null,
      "overflow_y": null,
      "padding": null,
      "right": null,
      "top": null,
      "visibility": null,
      "width": null
     }
    },
    "ac6b3fe2f9714fd7a9bf599748b03ee4": {
     "model_module": "@jupyter-widgets/controls",
     "model_name": "HBoxModel",
     "state": {
      "_dom_classes": [],
      "_model_module": "@jupyter-widgets/controls",
      "_model_module_version": "1.5.0",
      "_model_name": "HBoxModel",
      "_view_count": null,
      "_view_module": "@jupyter-widgets/controls",
      "_view_module_version": "1.5.0",
      "_view_name": "HBoxView",
      "box_style": "",
      "children": [
       "IPY_MODEL_340b76edf5e84e6cad74242781564f9b",
       "IPY_MODEL_8b4216206b2b423fae80b52b9445b4c7"
      ],
      "layout": "IPY_MODEL_0b9ab8a426824b53912fb5a02562bb19"
     }
    },
    "afd04b29f7204822bc32f6b316788ab4": {
     "model_module": "@jupyter-widgets/controls",
     "model_name": "HTMLModel",
     "state": {
      "_dom_classes": [],
      "_model_module": "@jupyter-widgets/controls",
      "_model_module_version": "1.5.0",
      "_model_name": "HTMLModel",
      "_view_count": null,
      "_view_module": "@jupyter-widgets/controls",
      "_view_module_version": "1.5.0",
      "_view_name": "HTMLView",
      "description": "",
      "description_tooltip": null,
      "layout": "IPY_MODEL_0ffae3d510714b45b9e9e40d7e0f405c",
      "placeholder": "​",
      "style": "IPY_MODEL_60b7a5c716684ae3bd8028c7243308d2",
      "value": " 25000/25000 [07:37&lt;00:00, 54.61it/s]"
     }
    },
    "df62ce5009fa422cb8cb2c1ecf2e60af": {
     "model_module": "@jupyter-widgets/controls",
     "model_name": "ProgressStyleModel",
     "state": {
      "_model_module": "@jupyter-widgets/controls",
      "_model_module_version": "1.5.0",
      "_model_name": "ProgressStyleModel",
      "_view_count": null,
      "_view_module": "@jupyter-widgets/base",
      "_view_module_version": "1.2.0",
      "_view_name": "StyleView",
      "bar_color": null,
      "description_width": "initial"
     }
    },
    "e437a171377d461ba9c06939329e0fc7": {
     "model_module": "@jupyter-widgets/base",
     "model_name": "LayoutModel",
     "state": {
      "_model_module": "@jupyter-widgets/base",
      "_model_module_version": "1.2.0",
      "_model_name": "LayoutModel",
      "_view_count": null,
      "_view_module": "@jupyter-widgets/base",
      "_view_module_version": "1.2.0",
      "_view_name": "LayoutView",
      "align_content": null,
      "align_items": null,
      "align_self": null,
      "border": null,
      "bottom": null,
      "display": null,
      "flex": null,
      "flex_flow": null,
      "grid_area": null,
      "grid_auto_columns": null,
      "grid_auto_flow": null,
      "grid_auto_rows": null,
      "grid_column": null,
      "grid_gap": null,
      "grid_row": null,
      "grid_template_areas": null,
      "grid_template_columns": null,
      "grid_template_rows": null,
      "height": null,
      "justify_content": null,
      "justify_items": null,
      "left": null,
      "margin": null,
      "max_height": null,
      "max_width": null,
      "min_height": null,
      "min_width": null,
      "object_fit": null,
      "object_position": null,
      "order": null,
      "overflow": null,
      "overflow_x": null,
      "overflow_y": null,
      "padding": null,
      "right": null,
      "top": null,
      "visibility": null,
      "width": null
     }
    },
    "e5c1db9a527640539803c557fbdbbcb1": {
     "model_module": "@jupyter-widgets/controls",
     "model_name": "FloatProgressModel",
     "state": {
      "_dom_classes": [],
      "_model_module": "@jupyter-widgets/controls",
      "_model_module_version": "1.5.0",
      "_model_name": "FloatProgressModel",
      "_view_count": null,
      "_view_module": "@jupyter-widgets/controls",
      "_view_module_version": "1.5.0",
      "_view_name": "ProgressView",
      "bar_style": "success",
      "description": "100%",
      "description_tooltip": null,
      "layout": "IPY_MODEL_a93be84524d34f1ca8d6a3adfbc91766",
      "max": 25000,
      "min": 0,
      "orientation": "horizontal",
      "style": "IPY_MODEL_145dc2fda79342c1bb8ea45d0851ab62",
      "value": 25000
     }
    },
    "f9c7e68f1e4e4dafb58311507ef7ae2c": {
     "model_module": "@jupyter-widgets/controls",
     "model_name": "HBoxModel",
     "state": {
      "_dom_classes": [],
      "_model_module": "@jupyter-widgets/controls",
      "_model_module_version": "1.5.0",
      "_model_name": "HBoxModel",
      "_view_count": null,
      "_view_module": "@jupyter-widgets/controls",
      "_view_module_version": "1.5.0",
      "_view_name": "HBoxView",
      "box_style": "",
      "children": [
       "IPY_MODEL_3c2c118bee754d8096a048dc784e0840",
       "IPY_MODEL_555841da651b4aeeafa26f6cb67eb860"
      ],
      "layout": "IPY_MODEL_0da20101cca54a588a6b5fcc0a245022"
     }
    }
   }
  }
 },
 "nbformat": 4,
 "nbformat_minor": 1
}
