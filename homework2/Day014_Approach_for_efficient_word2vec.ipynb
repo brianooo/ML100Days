{
 "cells": [
  {
   "cell_type": "markdown",
   "metadata": {},
   "source": [
    "### 作業目的: 更加了解word2vec高速化\n",
    "本次作業主要是幫同學更熟悉與了解透過各項技巧來加速word2vec的原理，同學可以參考章節講義來回答下列問題。"
   ]
  },
  {
   "cell_type": "markdown",
   "metadata": {},
   "source": [
    "### Q1 - 請問word2vec原本的設計有何問題以及可以怎麼對相對應的問題做改善?\n",
    "\n",
    "\n",
    "Answer:\n",
    "\n",
    "當文字量太大時，輸入的文字 one-hot 向量大部分都是 0 ，在矩陣計算時會耗費非常大的記憶體容量和計算量做0運算，另外在 softmax 運算時因為需要使用指數運算，計算量則會非常大\n",
    "\n",
    "1.在輸入層做矩陣運算時，只要知道輸入的文字 one-hot 向量中哪一個 index 是 1，就可以直接對應到權重矩陣 W 的列向量，就不需要做矩陣乘法\n",
    "2.激勵函數 softmax 這段，可以用 Hierarchical softmax 或是 Negative sampling 轉換成 sigmoid 來取代"
   ]
  },
  {
   "cell_type": "markdown",
   "metadata": {},
   "source": [
    "### Q2 - 請問在Negative Sampling中的次方係數，會如何影響字詞的抽取?\n",
    "Hint: 如何影響高頻詞與低頻詞的抽取機率\n",
    "\n",
    "Answer:\n",
    "次方係數若是 1，抽取機率就以詞頻來表現，高頻詞的機率會大於低頻詞；若次方係數降低，則抽取機率逐漸不受詞頻控制，直到次方係數為 0 的話，抽取機率就變成均勻分布，每個詞的機率都是一樣。"
   ]
  },
  {
   "cell_type": "code",
   "execution_count": null,
   "metadata": {},
   "outputs": [],
   "source": []
  }
 ],
 "metadata": {
  "kernelspec": {
   "display_name": "Python 3",
   "language": "python",
   "name": "python3"
  },
  "language_info": {
   "codemirror_mode": {
    "name": "ipython",
    "version": 3
   },
   "file_extension": ".py",
   "mimetype": "text/x-python",
   "name": "python",
   "nbconvert_exporter": "python",
   "pygments_lexer": "ipython3",
   "version": "3.7.10"
  }
 },
 "nbformat": 4,
 "nbformat_minor": 2
}
