{
 "cells": [
  {
   "cell_type": "code",
   "execution_count": 1,
   "metadata": {
    "tags": []
   },
   "outputs": [],
   "source": [
    "# !python --version"
   ]
  },
  {
   "cell_type": "code",
   "execution_count": 2,
   "metadata": {
    "tags": []
   },
   "outputs": [],
   "source": [
    "# !pip install -q -U pip\n",
    "# !pip install -q numpy\n",
    "# !pip install -q pandas\n",
    "# !pip install -q ckiptagger\n",
    "# !pip install -q tqdm\n",
    "# !pip install -q tensorflow==1.14.0\n",
    "# !pip install -q ipywidgets"
   ]
  },
  {
   "cell_type": "code",
   "execution_count": 3,
   "metadata": {},
   "outputs": [],
   "source": [
    "import pandas as pd\n",
    "import numpy as np\n",
    "\n",
    "from ckiptagger import data_utils, WS, POS\n",
    "from tqdm.notebook import tqdm"
   ]
  },
  {
   "cell_type": "code",
   "execution_count": 4,
   "metadata": {},
   "outputs": [],
   "source": [
    "df_train = pd.read_csv('news_clustering_train.tsv', sep='\\t')\n",
    "df_test = pd.read_csv('news_clustering_test.tsv', sep='\\t')"
   ]
  },
  {
   "cell_type": "code",
   "execution_count": 5,
   "metadata": {},
   "outputs": [
    {
     "data": {
      "text/html": [
       "<div>\n",
       "<style scoped>\n",
       "    .dataframe tbody tr th:only-of-type {\n",
       "        vertical-align: middle;\n",
       "    }\n",
       "\n",
       "    .dataframe tbody tr th {\n",
       "        vertical-align: top;\n",
       "    }\n",
       "\n",
       "    .dataframe thead th {\n",
       "        text-align: right;\n",
       "    }\n",
       "</style>\n",
       "<table border=\"1\" class=\"dataframe\">\n",
       "  <thead>\n",
       "    <tr style=\"text-align: right;\">\n",
       "      <th></th>\n",
       "      <th>index</th>\n",
       "      <th>class</th>\n",
       "      <th>title</th>\n",
       "    </tr>\n",
       "  </thead>\n",
       "  <tbody>\n",
       "    <tr>\n",
       "      <td>0</td>\n",
       "      <td>0</td>\n",
       "      <td>體育</td>\n",
       "      <td>亞洲杯奪冠賠率：日本、伊朗領銜 中國竟與泰國並列</td>\n",
       "    </tr>\n",
       "    <tr>\n",
       "      <td>1</td>\n",
       "      <td>1</td>\n",
       "      <td>體育</td>\n",
       "      <td>9輪4球本土射手僅次武磊 黃紫昌要搶最強U23頭銜</td>\n",
       "    </tr>\n",
       "    <tr>\n",
       "      <td>2</td>\n",
       "      <td>2</td>\n",
       "      <td>體育</td>\n",
       "      <td>如果今年勇士奪冠，下賽季詹姆斯何去何從？</td>\n",
       "    </tr>\n",
       "    <tr>\n",
       "      <td>3</td>\n",
       "      <td>3</td>\n",
       "      <td>體育</td>\n",
       "      <td>超級替補！科斯塔本賽季替補出場貢獻7次助攻</td>\n",
       "    </tr>\n",
       "    <tr>\n",
       "      <td>4</td>\n",
       "      <td>4</td>\n",
       "      <td>體育</td>\n",
       "      <td>騎士6天里發生了啥？從首輪搶七到次輪3-0猛龍</td>\n",
       "    </tr>\n",
       "    <tr>\n",
       "      <td>...</td>\n",
       "      <td>...</td>\n",
       "      <td>...</td>\n",
       "      <td>...</td>\n",
       "    </tr>\n",
       "    <tr>\n",
       "      <td>1795</td>\n",
       "      <td>1795</td>\n",
       "      <td>遊戲</td>\n",
       "      <td>LOL：麻辣香鍋韓服Rank不合成打野刀？電刀巨魔新套路連勝中</td>\n",
       "    </tr>\n",
       "    <tr>\n",
       "      <td>1796</td>\n",
       "      <td>1796</td>\n",
       "      <td>遊戲</td>\n",
       "      <td>穩住，我們能贏！因為我們擁有這種強大的力量</td>\n",
       "    </tr>\n",
       "    <tr>\n",
       "      <td>1797</td>\n",
       "      <td>1797</td>\n",
       "      <td>遊戲</td>\n",
       "      <td>騰訊是怎樣毀掉《鬥戰神》這款可能成神的作品的？</td>\n",
       "    </tr>\n",
       "    <tr>\n",
       "      <td>1798</td>\n",
       "      <td>1798</td>\n",
       "      <td>遊戲</td>\n",
       "      <td>LOL你不知道的黑科技打法！</td>\n",
       "    </tr>\n",
       "    <tr>\n",
       "      <td>1799</td>\n",
       "      <td>1799</td>\n",
       "      <td>遊戲</td>\n",
       "      <td>遊戲拳皇各代的劇情都在講些什麼？</td>\n",
       "    </tr>\n",
       "  </tbody>\n",
       "</table>\n",
       "<p>1800 rows × 3 columns</p>\n",
       "</div>"
      ],
      "text/plain": [
       "      index class                            title\n",
       "0         0    體育         亞洲杯奪冠賠率：日本、伊朗領銜 中國竟與泰國並列\n",
       "1         1    體育        9輪4球本土射手僅次武磊 黃紫昌要搶最強U23頭銜\n",
       "2         2    體育             如果今年勇士奪冠，下賽季詹姆斯何去何從？\n",
       "3         3    體育            超級替補！科斯塔本賽季替補出場貢獻7次助攻\n",
       "4         4    體育          騎士6天里發生了啥？從首輪搶七到次輪3-0猛龍\n",
       "...     ...   ...                              ...\n",
       "1795   1795    遊戲  LOL：麻辣香鍋韓服Rank不合成打野刀？電刀巨魔新套路連勝中\n",
       "1796   1796    遊戲            穩住，我們能贏！因為我們擁有這種強大的力量\n",
       "1797   1797    遊戲          騰訊是怎樣毀掉《鬥戰神》這款可能成神的作品的？\n",
       "1798   1798    遊戲                   LOL你不知道的黑科技打法！\n",
       "1799   1799    遊戲                 遊戲拳皇各代的劇情都在講些什麼？\n",
       "\n",
       "[1800 rows x 3 columns]"
      ]
     },
     "execution_count": 5,
     "metadata": {},
     "output_type": "execute_result"
    }
   ],
   "source": [
    "df_train"
   ]
  },
  {
   "cell_type": "code",
   "execution_count": 6,
   "metadata": {},
   "outputs": [
    {
     "name": "stdout",
     "output_type": "stream",
     "text": [
      "0 index                           0\n",
      "class                          體育\n",
      "title    亞洲杯奪冠賠率：日本、伊朗領銜 中國竟與泰國並列\n",
      "Name: 0, dtype: object\n",
      "1 index                            1\n",
      "class                           體育\n",
      "title    9輪4球本土射手僅次武磊 黃紫昌要搶最強U23頭銜\n",
      "Name: 1, dtype: object\n",
      "2 index                       2\n",
      "class                      體育\n",
      "title    如果今年勇士奪冠，下賽季詹姆斯何去何從？\n",
      "Name: 2, dtype: object\n",
      "3 index                        3\n",
      "class                       體育\n",
      "title    超級替補！科斯塔本賽季替補出場貢獻7次助攻\n",
      "Name: 3, dtype: object\n",
      "4 index                          4\n",
      "class                         體育\n",
      "title    騎士6天里發生了啥？從首輪搶七到次輪3-0猛龍\n",
      "Name: 4, dtype: object\n"
     ]
    }
   ],
   "source": [
    "count = 0 \n",
    "for index, row in df_train.iterrows():\n",
    "    if count == 5:\n",
    "        break\n",
    "    print(index, row)\n",
    "    count += 1"
   ]
  },
  {
   "cell_type": "code",
   "execution_count": 7,
   "metadata": {},
   "outputs": [],
   "source": [
    "train_titles = {row['index']: row['title'] for _, row in df_train.iterrows()}\n",
    "train_classes = {row['index']: row['class'] for _, row in df_train.iterrows()}\n",
    "\n",
    "test_titles = {row['index']: row['title'] for _, row in df_test.iterrows()}\n",
    "test_classes = {row['index']: row['class'] for _, row in df_test.iterrows()}"
   ]
  },
  {
   "cell_type": "code",
   "execution_count": 8,
   "metadata": {},
   "outputs": [],
   "source": [
    "all_news_class = ['體育', '財經', '科技', '旅遊', '農業', '遊戲']"
   ]
  },
  {
   "cell_type": "markdown",
   "metadata": {},
   "source": [
    "# 斷詞 + POS"
   ]
  },
  {
   "cell_type": "code",
   "execution_count": 9,
   "metadata": {
    "tags": []
   },
   "outputs": [],
   "source": [
    "# data_utils.downlaod_data_gdown('./')\n",
    "ws = WS('./data/')\n",
    "pos = POS('./data/')"
   ]
  },
  {
   "cell_type": "code",
   "execution_count": 14,
   "metadata": {
    "tags": []
   },
   "outputs": [
    {
     "data": {
      "application/vnd.jupyter.widget-view+json": {
       "model_id": "c6199fd062ce40fb9d986e0765189c9a",
       "version_major": 2,
       "version_minor": 0
      },
      "text/plain": [
       "HBox(children=(IntProgress(value=0, max=1800), HTML(value='')))"
      ]
     },
     "metadata": {},
     "output_type": "display_data"
    },
    {
     "name": "stdout",
     "output_type": "stream",
     "text": [
      "\n"
     ]
    }
   ],
   "source": [
    "train_title_cuts = {}\n",
    "for index, title in tqdm(train_titles.items()):\n",
    "    # YOUR CODE HERE\n",
    "    word_s = ws([title], sentence_segmentation=True, segment_delimiter_set={'?', '？', '!', '！', '。', ',', '，', ';', ':', '、'})\n",
    "    word_p = pos(word_s)\n",
    "\n",
    "    # END YOUR CODE\n",
    "    train_title_cuts[index] = list(zip(word_s[0], word_p[0]))"
   ]
  },
  {
   "cell_type": "code",
   "execution_count": 15,
   "metadata": {},
   "outputs": [
    {
     "data": {
      "text/plain": [
       "[('亞洲杯', 'Nb'),\n",
       " ('奪冠賠率', 'Na'),\n",
       " ('：', 'COLONCATEGORY'),\n",
       " ('日本', 'Nc'),\n",
       " ('、', 'PAUSECATEGORY'),\n",
       " ('伊朗', 'Nc'),\n",
       " ('領銜', 'VB'),\n",
       " (' ', 'WHITESPACE'),\n",
       " ('中國', 'Nc'),\n",
       " ('竟', 'D'),\n",
       " ('與', 'P'),\n",
       " ('泰國', 'Nc'),\n",
       " ('並列', 'VG')]"
      ]
     },
     "execution_count": 15,
     "metadata": {},
     "output_type": "execute_result"
    }
   ],
   "source": [
    "train_title_cuts[0]"
   ]
  },
  {
   "cell_type": "code",
   "execution_count": 16,
   "metadata": {
    "tags": []
   },
   "outputs": [
    {
     "data": {
      "application/vnd.jupyter.widget-view+json": {
       "model_id": "5308e6872f094f7fb45b2a49374955c6",
       "version_major": 2,
       "version_minor": 0
      },
      "text/plain": [
       "HBox(children=(IntProgress(value=0, max=600), HTML(value='')))"
      ]
     },
     "metadata": {},
     "output_type": "display_data"
    },
    {
     "name": "stdout",
     "output_type": "stream",
     "text": [
      "\n"
     ]
    }
   ],
   "source": [
    "test_title_cuts = {}\n",
    "for index, title in tqdm(test_titles.items()):\n",
    "    # YOUR CODE HERE\n",
    "    word_s = ws([title], sentence_segmentation=True, segment_delimiter_set={'?', '？', '!', '！', '。', ',', '，', ';', ':', '、'})\n",
    "    word_p = pos(word_s)\n",
    "    # END YOUR CODE\n",
    "    test_title_cuts[index] = list(zip(word_s[0], word_p[0]))"
   ]
  },
  {
   "cell_type": "code",
   "execution_count": 17,
   "metadata": {},
   "outputs": [
    {
     "data": {
      "text/plain": [
       "[('國腳', 'Na'),\n",
       " ('張呈棟', 'Nb'),\n",
       " ('：', 'COLONCATEGORY'),\n",
       " ('從', 'D'),\n",
       " ('沒', 'D'),\n",
       " ('想', 'VE'),\n",
       " ('過', 'Di'),\n",
       " ('自己', 'Nh'),\n",
       " ('會', 'D'),\n",
       " ('出', 'VC'),\n",
       " ('一', 'Neu'),\n",
       " ('本', 'Nf'),\n",
       " ('書', 'Na')]"
      ]
     },
     "execution_count": 17,
     "metadata": {},
     "output_type": "execute_result"
    }
   ],
   "source": [
    "train_title_cuts[120]"
   ]
  },
  {
   "cell_type": "code",
   "execution_count": 11,
   "metadata": {},
   "outputs": [
    {
     "data": {
      "text/plain": [
       "[('國腳', 'Na'),\n",
       " ('張呈棟', 'Nb'),\n",
       " ('：', 'COLONCATEGORY'),\n",
       " ('從', 'D'),\n",
       " ('沒', 'D'),\n",
       " ('想', 'VE'),\n",
       " ('過', 'Di'),\n",
       " ('自己', 'Nh'),\n",
       " ('會', 'D'),\n",
       " ('出', 'VC'),\n",
       " ('一', 'Neu'),\n",
       " ('本', 'Nf'),\n",
       " ('書', 'Na')]"
      ]
     },
     "execution_count": 11,
     "metadata": {},
     "output_type": "execute_result"
    }
   ],
   "source": [
    "# train_title_cuts[120]"
   ]
  },
  {
   "cell_type": "markdown",
   "metadata": {},
   "source": [
    "# Bag of Words (BOW)"
   ]
  },
  {
   "cell_type": "code",
   "execution_count": 18,
   "metadata": {},
   "outputs": [],
   "source": [
    "word2index = {}\n",
    "index2word = {}\n",
    "# 產生字與index對應的關係\n",
    "# YOUR CODE HERE\n",
    "n = 0\n",
    "for _, item in train_title_cuts.items():\n",
    "    for word, pos in item:\n",
    "        if word not in word2index:\n",
    "            index2word[n] = word\n",
    "            word2index[word] = n\n",
    "            n += 1\n",
    "        \n",
    "# END YOUR CODE"
   ]
  },
  {
   "cell_type": "code",
   "execution_count": 19,
   "metadata": {},
   "outputs": [
    {
     "data": {
      "text/plain": [
       "1512"
      ]
     },
     "execution_count": 19,
     "metadata": {},
     "output_type": "execute_result"
    }
   ],
   "source": [
    "word2index['溫暖']"
   ]
  },
  {
   "cell_type": "code",
   "execution_count": 20,
   "metadata": {},
   "outputs": [
    {
     "data": {
      "text/plain": [
       "'許'"
      ]
     },
     "execution_count": 20,
     "metadata": {},
     "output_type": "execute_result"
    }
   ],
   "source": [
    "index2word[1520]"
   ]
  },
  {
   "cell_type": "code",
   "execution_count": 13,
   "metadata": {},
   "outputs": [
    {
     "data": {
      "text/plain": [
       "1520"
      ]
     },
     "execution_count": 13,
     "metadata": {},
     "output_type": "execute_result"
    }
   ],
   "source": [
    "#word2index['溫暖']"
   ]
  },
  {
   "cell_type": "code",
   "execution_count": 14,
   "metadata": {},
   "outputs": [
    {
     "data": {
      "text/plain": [
       "'溫暖'"
      ]
     },
     "execution_count": 14,
     "metadata": {},
     "output_type": "execute_result"
    }
   ],
   "source": [
    "#index2word[1520]"
   ]
  },
  {
   "cell_type": "code",
   "execution_count": 23,
   "metadata": {},
   "outputs": [],
   "source": [
    "def get_bow_vector(pairs, word2index):\n",
    "    # YOUR CODE HERE\n",
    "    vector = np.zeros(len(word2index))\n",
    "    for word, pos in pairs:\n",
    "        vector[word2index[word]] += 1\n",
    "\n",
    "    # END YOUR CODE\n",
    "    return vector"
   ]
  },
  {
   "cell_type": "code",
   "execution_count": 24,
   "metadata": {},
   "outputs": [
    {
     "data": {
      "text/plain": [
       "array([0., 0., 1., ..., 0., 0., 0.])"
      ]
     },
     "execution_count": 24,
     "metadata": {},
     "output_type": "execute_result"
    }
   ],
   "source": [
    "get_bow_vector(train_title_cuts[120], word2index)"
   ]
  },
  {
   "cell_type": "markdown",
   "metadata": {},
   "source": [
    "# 排除較無意義的詞性"
   ]
  },
  {
   "cell_type": "code",
   "execution_count": 25,
   "metadata": {
    "tags": []
   },
   "outputs": [
    {
     "name": "stdout",
     "output_type": "stream",
     "text": [
      "Nb : ['G7', '馬化騰', '雷軍', '張藝謀', '帕克成', '董明珠', '宇通', '尤文', '慧商', '嘉年華', '盼保', '張某', '綠心', '微博', '瓜迪奧拉', '王者榮耀', '韓信', '克羅托內 ', '伯德', '李秋平', '余小C', '宋清輝', '亞特拉斯賽', '阿里舜宇', '劉偉', '科斯塔', '張呈棟', '拉卡拉', 'NBA', 'U23', '朱嘯虎', '火箭隊', '英特爾', '馬里奧', '切沃', '周琦', '單薇恩', '朱婷', '男乒', '劉熾平', '堪比比薩', '王者榮', '朗多', '蓋倫', '安永', '恆大', '切爾西', '大豐', '瑞和寶', '阿里', '泰森', '米切爾西蒙斯', '阿珂', '衛報', '·瞻', '石川佳純', '淘寶', '里坦克', '卡拉黑', '金英權', '侯森', '萊萬', '拜仁續', '東皇', '群里', '康德', '林員', '裴擒虎', '泰山', '神武', '林斌', '斐濟', '寶二', '楊柳夏', '雅桑克萊', '娜迦王海伯倫', '陶華碧', '拳皇', '星巴克', '詹姆斯', '波爾', '王', '山東隊', '趙雲', '騰訊王', '武磊', '比格利亞', '力帆', '尤納斯', '施之皓', '泰拳王西', '龔方雄', 'V10', '昌圖', '桑德羅', '騎士隊', '權健', '威廉姆斯', '卡納瓦羅', '碧生源']\n",
      "=======================\n",
      "Na : ['身', '建築', '心理', ' 馬雲', '聯盟', '搏擊', '命運', '薪令', '櫻花', '自建房', '廠長', '大洋鏈', '排行榜', '王者榮耀', '姐', '總冠軍', '作物', '螃蟹', '梭', '滄桑', '公路', '情報', '大水', '獨角獸', '黑土', '鴨', '生物', '插秧期', '麥塊', '合規性', '損害', '成長股', '定制', '地確權', '空地', '慘案', '價格', '世錦賽', '門票', '馬哈魚', '地鐵', '可可', '客場', '巨頭', '單位', '好兄弟', '心意', '雨傘', '鬥戰神', '地圖', '東北人', '幹部', '概要', '心態', '農資', '豆腐渣', '元素', '大胃王', '公鏈', '眼', '醬果', '女子', '陰影', '股價', '金幣', '時代', '虎牙索泰杯', '德國隊', '球隊', '銳氣', '漲停板', '中小盤', '強勢', '上單', '凱爾特人', '狂魔', '水利', '配額', '名單', '大蒜', '絕壁', '排位', '沙漠', '田園', '蜂', '天文', '群里', '規範', '老菜農', '書', '信號', '盤', '遊人', '車釐子', '紅豆', '天色', '香果', '店鋪', '人里', '好處']\n",
      "=======================\n",
      "COLONCATEGORY : [':', '：']\n",
      "=======================\n",
      "Nc : ['珠海', '營口', '亞索', '基輔', '南粵', '瑞士', '北控', '泰國', '超京', '沿途', '巴黎', '唐人街', '大連', '東北', '小學', '冠格局', '趙集鎮', '國外', '嵐皋', '洗車店', '網站', '呼倫貝爾', '華僑城', '馬德里', '朝邑鎮', '尼斯湖', '寶閣', '村', '證監局', '洛杉磯', '風景區', '洛陽', '英國', '伊朗', '深市', '維希', '燴面店', '珠寶店', '川藏線', '美', '裕安區', '體校', '中科院', '紅河谷', '九龍', '宜賓', '漁場', '工行', '體育場', '泰安', '目的地', '我國', '南非', '電競站', '大學', '南沙河鎮', '牛場', '縣城', '華', '巴釐島', '切爾西', '貴州省', '廣交會', '果園地', '耿店村', '屏', '劇情里', '早市', '浙江', '天津', '鎮', '溫室', '葉縣', '東城', '內蒙古', '波蘭', '大理', '加拿大', '體壇', '塞班', '上川島', '衛生室', '石鼓園', '天下', '免稅店', '世界', '集市', '波密', '泰山', '拉薩', '畢節', '納米比亞', '洛克菲勒', '銀川', '舟山', '培田', '寶雞', '貨源里', '奧蘭多', '烏魯木齊']\n",
      "=======================\n",
      "PAUSECATEGORY : ['、']\n",
      "=======================\n",
      "VB : ['鋪平', '定位', '執教', '加冕', '導航', '一網打盡', '復仇', '扣分', '護航', '罵屌絲', '拍照', '開戰', '上架', '效力', '加油', '分組', '加工', '退改', '通話', '罰款', '應對', '加起來', '代打', '退款', '提前', '相比', '領銜', '融資', '站台', '抓來', '收回來', '解惑', '解密', '分紅', '再見', '加持', '充飢', '助威', '解體', '分段', '退貨', '騙錢', '入賬', '鍍金', '充氣', '解圍', '計算出來']\n",
      "=======================\n",
      "WHITESPACE : [' ']\n",
      "=======================\n",
      "D : ['大力', '可否', '剛', '竟', '能', '專職', '盡情', '本', '必', '終', '親身', '白', '快', '結伴', '永遠', '始', '要', '一定', '一般', '悄悄', '重新', '依舊', '趕快', '必須', '一頭', '絕對', '不應該', '相互', '屢屢', '應當', '反', '攜手', '更', '進一步', '也', '正', '依然', '初', '所', '多', '帶頭', '剛剛', '不料', '還是', '不能', '吃起來', '總是', '立即', '從來', '該不該', '能否', '不再', '完全', '從中', '來', '及時', '首', '曾', '可能', '曾經', '亂', '那麼', '竟然', '簡直', '每', '很少', '差點', '已經', '難以', '屢', '全力', '只有', '難道', '到底', '一手', '老是', '好像', '其實', '去', '獨', '逐漸', '千萬', '會', '盡', '到處', '不可以', '總', '怎樣', '天天', '不會', '仍', '全面', '常常', '大幅', '趁早', '聯合', '屢次', '接著', '先', '多多少少']\n",
      "=======================\n",
      "P : ['比', '被', '跟', '把', '靠', '就', '將', '直至', '待', '自從', '隨', '往', '於', '如', '和', '比如', '按', '至', '從', '向', '臨', '為了', '趁著', '根據', '趁', '在', '憑', '針對', '離', '繼', '像', '受', '除了', '隨了', '等', '距離', '幫', '除', '因', '當', '對', '遭', '慘遭', '給', '用', '為', '自', '關於', '與', '以', '到']\n",
      "=======================\n",
      "VG : ['理解為', '算', '排行', '算是', '成為', '疑似', '屬於', '類似', '等於', '稱為', '居', '如', '當上', '評選', '成', '排名', '變', '升任', '叫', '非', '譽為', '建成', '似', '當成', '戰成', '猶如', '彷彿', '美成', '封號', '合成', '並列', '竟是', '任', '稱得上', '姓', '應聘', '像', '投票成', '排', '集成', '變成', '叫做', '誤認成', '酷似', '堪稱', '作為', '當', '形成', '賣成', '當作', '化', '稱作', '為', '泛濫成', '改造成', '稱', '做成', '充當', '名叫', '做', '屈居']\n",
      "=======================\n",
      "Neu : ['300萬', '2.37億', '18', '15.60', '六', '3100', '千千萬', '百', '600億', '150', '80', '百萬', '五一', '2.93億', '1268', '（二）', '九', '第33', '15萬', '47', '四', '1688', '兩', '第三', '115', ' 360', '100多', '百億', '0-1', '十六', '七', '2018.5.6', 'b120', '2018', '0', '20萬', '5000', '60多', '4', '第9', '5', '42', '4000', '三', '千', '47億', '1318', '(00926)', '數千萬', '9-0', '30', '90', '一千', '16', '萬', '第1', '10', '第114', '1000萬', '15', '120', '392億', '3000萬', '3', '幾千', '4.7億', '幾', '36萬', '400萬', '7300', '5.5', '十', '318', '第一', '0.2', '500萬', '980', '5萬', '三百', '24億', '第3', '120萬', '24', '91', '2599', '二十', '十三', '四五', '4G+64', '第十四', '730萬', '58', '十多萬', '千萬', '2萬', '幾百', '1300', '5050', '17', '135']\n",
      "=======================\n",
      "Nf : ['畝', '把', '樣', '晚', '部', '本', '類', '行', '回', '些', '件', '只', '場', '支', '所', '次', '英吋', '股', '袋', '個', '周', '門', '期', '號', '關', '道', '色', '美元', '歲', '塊', '碗', '款', '筆', '頓', '屆', '頁', '株', '種', '天', '班', '票', '番', '掛', '公里', '項', '處', '週', '分', '名', '胎', '張', '槍', '鍋', '元', '斤', '輛', '招', '米', '批', '遍', '棵', '盤', '篇', '對', '條', '年', '隊', '位', '家', '級', '座', '節', '套', '度', '戶', '串', '群', '方', '口', '層', 'K', '則', '頭', '港元', '局', '步', '隻', '刻', '毛', '輪', '句', '噸', '點', '台', '檔', '分鐘', '日', '秒', '路', '片']\n",
      "=======================\n",
      "VJ : ['曬', '關注', '冷落', '充', '失', '出於', '耗', '贏下', '減持', '發揮', '認', '超過', '服', '新增', '錯過', '從事', '歸', '過完', '受', '吸引', '養有', '含有', '共有', '仇', '獨佔', '錯失', '嫌棄', '替代', '看懂', '適用', '降至', '震撼到', '認識', '領跑', '煥發', '珍惜', '恭喜', '平', '來自', '高達', '不到', '值', '擁有', '賽', '羨慕', '心疼', '同情', '獲得', '衝', '輸掉', '爆發', '忽視', '失去', '痛失', '懷念', '享', '維持', '無', '不如', '歡迎', '熱心', '蘊藏', '超', '為', '缺少', '要價', '達', '透', '緊缺', '吃上', '分享', '入圍', '享受', '沒有', '富', '適應', '偏愛', '看好', '處於', '毫無', '連接', '僅次', '曝限', '負於', '領先', '負', '強過', '惜', '得', '納入', '脫', '遺傳', '受到', '身臨', '近', '逾', '忽略', '翻倍', '欣賞', '贊同']\n",
      "=======================\n",
      "VD : ['貸款', '郵給', '白送', '配', '貸', '搶', '借', '轉讓', '賣', '送', '發放', '供應', '發', '傳', '借貸', '輸給', '拒賠', '清繳', '發給', '速遞', '坑', '付', '補繳', '禁售', '支付', '收費', '寄予', '提供', '贏', '售', '交付', '欠', '給予', '還', '給', '補貼', '分', '輸', '予']\n",
      "=======================\n",
      "Dfa : ['有些', '這麼', '如此', '還要', '同樣', '太', '更為', '越來越', '頗', '很', '極', '不大', '遠', '更', '非常', '有點', '好', '較', '過', '還', '超', '十分', '多', '過於', '最', '遠遠', '比較']\n",
      "=======================\n",
      "VH : ['發酵', '紅', '過時', '低開', '中興', '密集', '受害', '藍', '不得了', '熱門', '雄厚', '詹吹', '前列', '甜蜜', '高效', '無懼', '行', '功不可', '次輪', '轉旺', '力輓狂瀾', '未果', '暴躁', '狂', '恐怖', '黑', '悠久', '撲朔迷離', '熱別', '復活', '方便', '純', '呆滯', '百出', '專業', '偉大', '真不少', '失落', '壯觀', '霸氣', '佳', '神秘', '親切', '血刃', '機智', '頻繁', '蒼', '重大', '美', '旺', '虛', '樂', '平庸', '大敗', '怎麼辦', '足', '開始', '映美', '高速', '熱刺托大', '清淡', '理想', '險勝', '炫酷', '通車', '成功', '暗', '當之無愧', '勝利', '濃', '果真如此', '大跌', '免費', '短', '可口', '有名', '跌停', '滑滑', '深', '正常', '小', '秀', '大漲', '免息', '算數', '悲壯', '透', '跌', '開幕', '零零', '理智', '漲停板', '強勢', '犀利', '別具一格', '竊喜', '獨立', '太少', '虛脫', '深入']\n",
      "=======================\n",
      "Cbb : ['反而', '不僅', '雖然', '只有', '並', '只要', '還不如', '如果', '不過', '要是', '就算', '若', '因為', '而是', '縱使', '假如', '跟著', '但', '否則', '可是', '既', '不管', '即使', '不如', '因', '另外', '並且', '但是', '不然', '既然', '致', '而', '連', '只是']\n",
      "=======================\n",
      "Nd : ['週末', '何時', '2018年度', '明日', '六', '最後', '同時', '一下', '90年', '四月', '採摘節', '永久', '隆慶', '下旬', '2018年', '五月份', '後期', '夜', '寒武紀', '月季', '2018', '米節', '8日', '今年', '夏', '一大早', '那時', '花季', '38+7', '當前', '夏天', '2017年', '2019年', '後來', '4月', '周', '7日', '中期', '立夏', '熱天', '今夏', '2035年', '雍正', '8月', '荒古', '2020年', '七月份', '五月', '中旬', '23日', '6日', '明', '旅遊節', '明年', '00年', '19年', '早晨', '昨天', '5號', '夏季', '長期', '幾月份', '不久', '6月', '1日', '6旬', '近日', '春天', '5月份', '以前', '今日', '15日', '7號', '晚上', '2005年', '當年', '明晚', '目後', '秋', '小時候', '一會', '過去', '週一', '春季', '1點', '現代', '最近', '4日', '5日', '1990年', '目前', '一日', '週二', '晚間', '12日', '3月', '夏窗', '大中', '今天', '現在']\n",
      "=======================\n",
      "VA : ['抄底', '閉嘴', '毀號', '探洞', '關機', '聯通', '度假', '花錢', '入院', '行', '抽籤', '打球', '下馬', '爭霸', '續約', '除權', '出高地', '壓槍', '逆襲', '提額', '相克', '控股', '握手', '養家糊口', '來', '觀光', '坐穩', '運營', '擾民', '入手', '出單', '存在', '變身', '坐', '看盤', '變陣', '轉農', '遊玩', '騎行', '共贏', '暴走', '回落', '換股', '健身', '掃碼', '收錢', '奔', '搭檔', '投訴', '開票', '排兵', '買單', '跌', '行走', '翻身', '釣魚', '投標', '產仔', '轟趴', '抓頂', '現身', '扶貧', '來臨', '建功', '發貨', '生財', '划溝', '開業', '鬥智', '倒下', '奔馳', '掉幀', '誕生', '開團', '傳宗接代', '走起', '打卡', '播種', '吃飯', '立刷', '絕殺', '避暑', '求生', '下雨', '答復', '聊天', '下山', '下滑', '嬉戲', '徜徉', '放光', '出來', '休閒', '做生意', '炒房', '爭冠', '報名', '收尾', '滑雪', '挺進']\n"
     ]
    },
    {
     "name": "stdout",
     "output_type": "stream",
     "text": [
      "=======================\n",
      "COMMACATEGORY : [',', '，']\n",
      "=======================\n",
      "Nes : ['近', '何', '頭', '上', '下', '另', '每', '某', '本', '各', '同', '後', '前', '貴', '首', '該']\n",
      "=======================\n",
      "QUESTIONCATEGORY : ['？']\n",
      "=======================\n",
      "VC : ['移', '送走', '繼承', '吃到', '指認', '指責', '打', '嫁', '發文', '列', '賒', '喜出', '治療', '養恩', '打野', '行', '追上', '吸收', '攻略', '搞', '堆上', '分擔', '叫出', '利用', '取代', '帶', '看待', '創新', '遇上', '擊', '影響', '收割', '換', '飲', '接', '挑', '清理', '發展', '套現', '推動', '堵', '迎來', '收', '加盟', '進出口', '戰釀', '引爆', '打造', '比較', '鋪開', '等到', '虧', '領取', '貢獻', '分析', '報', '結', '評價', '丟棄', '製造', '閃', '買錯', '催收', '取消', '更新', '削弱', '包裝', '零售', '募', '更換', '擔', '考', '藏', '戲耍', '誤觸', '引進', '整理', '採訪', '打開', '扣', '栽', '蒸', '唱', '打贏', '封禁', '踢', '重建', '割', '掛', '迎接', '秀', '探訪', '攢', '避開', '定', '花', '尋', '抽', '逼死', '登記']\n",
      "=======================\n",
      "EXCLAMATIONCATEGORY : ['！', '!']\n",
      "=======================\n",
      "Di : ['了', '起來', '個', '過', '著']\n",
      "=======================\n",
      "Nep : ['此', '哪', '這', '什麼', '啥', '那', '其中', '其']\n",
      "=======================\n",
      "Caa : ['比', '暨', '至', '跟', '又', '或是', '與', 'VS', '還是', '及', '或', '到', '和', '或者']\n",
      "=======================\n",
      "VCL : ['走訪', '前來', '入', '遠離', '到達', '栽進', '住', '往', '走過', '升至', '深入', '重回', '進', '盤踞', '進入', '去', '赴', '走到', '回', '跌出', '留在', '在', '橫掃', '遊覽', '暗渡', '出發到', '來到', '走下', '重返', '前往', '穿透', '退出', '上', '用於', '直達', '路過', '存進', '穿過', '度過', '回歸', '穿越', '跌至', '過', '回到', '玩遍', '蒞臨', '抵達', '登陸', '出', '到', '走進']\n",
      "=======================\n",
      "Neqa : ['有些', '一點', '41.8%', '哪些', '10%', '一半', '大多數', '8%', '有的', '0.8%', '步步', '半', '其他', '滴滴', '更多', '遍', '三分之一', '四成', '6%', '9.89%', '大量', '大多', '80%', '句句', '不少', '一處處', '1%', '部分', '一些', '這麼多', '很多', '90%', '個個', '那些', '任何', '其它', '15%', '20%', '67%', '多', '一切', '百分之八十', '許多', '12%', '無數', '100%', '30%', '這些', '多少', '全', '所有', '1/4', '多點']\n",
      "=======================\n",
      "Nh : ['各自', '自我', '他', '她們', '大家', '她', '它', '誰', '自己', '俺們', '他們', '父子倆', '私人', '我們', '我', '自身', '各位', '你', '它們', '一方', '你們', '屌絲', '個人', '雙方', '本人', '人家', '對方', '小眾', '您', '別人']\n",
      "=======================\n",
      "FW : ['cosplay', 'i7', 'RNG', 'kpl', ' CCR', 'Kakao', 'CP', 'WF.D', 'SSG', 'UZI', 'A', 'wifi', 'app', 'G+', 'CPI', '+', 'PGM 0-1 SUP', 'VR', 'Aloha', 'cpu', ' 比', 'B', 'Q', 'CBA', ' 28', 'SIo', 'Disneyland', 'S11', 'CCR', 'mix2', 'EVO', 'W', '丨', 'DNF ', ' vs 利物浦', 'vip', 'CFO', '~', ' + ', 'MSCI', 'AG', 'Pro', 'Aurum ', 'AI', 'GuruFocus', 'U23', 'GPP', 'CEO', 'Cotswolds', 'LSPL', 'adc', '―', 'ST', 'XQ', 'PPP', 'AP', 'DASH', 'iPhone X', ' MDL', 'IOS', 'pro7', 'dota', 'Brian Kelly', 'Rookie', 'AIC', 'h', 'OV', 'N7', ' VS ', 'ABCC', 'mc', 'BCH', '2', 'PK', 'King James', 'qq', '4AM', 'mAh+', 'FF ', 'etc', 'OMG', 'l ', 'Xbox ', 'CCTV5', 'dnf', 'FOF', 'CF', 'DOTA2 ', 'UI', '6G', 'GDP', '-0', 'PS', 'ios', 'G3', 'iPhone X Plus', 'MARVEL X', 'OB', 'QDC', 'QM']\n",
      "=======================\n",
      "SHI : ['是', '像是']\n",
      "=======================\n",
      "VE : ['提', '反對', '賭約', '想要', '呼', '申卡', '聊', '講解', '問', '想好', '證明', '要', '預計', '設想', '聽到', '形容', '聽', '訴說', '公告', '識別', '考慮', '呼籲', '深思', '鑒定', '炫耀', '談', '預期', '認為', '准', '感嘆', '避免', '想到', '算', '預防', '聯想', '回答', '看出', '見', '發佈', '言', '暗示', '預定', '估值', '公佈', '預測', '樂見', '查', '爆料', '知詢', '精准', '宣佈', '提起', '報道', '廣播', '預告', '自嘲', '判斷', '賭', '慶祝', '討說', '提到', '探討', '提醒', '發現', '說', '披露', '做到', '說明', '判罰', '幻想', '允許', '承諾', '判定', '見證', '證', '見到', '看到', '提猜', '探索', '講', '查看', '聽說', '防止', '以為', '示範', '檢測', '抱怨', '稱', '限制', '調研', '查找', '研究', '發誓', '公示', '看看', '商量', '揭曉', '確認', '管', '安排']\n",
      "=======================\n",
      "DE : ['的', '之', '得', '地']\n",
      "=======================\n",
      "VHC : ['滿足', '產生', '增 ', '冷卻', '還原', '愁死', '停', '可憐', '機構化', '開', '加快', '煩', '強化', '恢復', '增強', '縮小', '降低', '平衡', '現代化', '團結', '公開', '暫停', '繁榮', '辛苦', '穩定', '感動', '增加', '豐富', '下來', '淡化', '寶智能化', '麻煩', '壞', '告破', '結束', '震驚', '溫暖', '愁壞', '增長', '肥', '熱', '國際化', '普及', '減少', '優化', '斷', '凍', '變動', '傷', '陷', '擴張', '規模化', '破']\n",
      "=======================\n",
      "Ng : ['之後', '起', '裡', '下', '時', '為止', '以來', '般', '中', '之中', '以下', '左右', '外', '之外', '之下', '之內', '以後', '以外', '以上', '間', '上', '之間', '底', '後', '前', '初', '之上', '之前', '內', '來']\n",
      "=======================\n",
      "VK : ['討厭', '懂得', '回憶', '願意', '介意', '小心', '奇怪', '想見', '懷疑', '擔心', '不忘', '不滿', '同意', '意想不到', '需要', '堅持', '忘', '有利於', '流傳', '覺', '遇', '感謝', '感受', '願', '面臨', '瞭解', '依賴', '肯定', '遺憾', '知道', '期待', '顯示', '意味', '意外', '所謂', '信', '忘記', '害怕', '欲', '怕', '覺得', '抱歉', '放心', '懂', '恐', '確定', '感覺', '感覺到', '明白', '知', '需', '曲解', '恨', '希望', '注意', '理解', '指望', '盼', '喜歡']\n",
      "=======================\n",
      "Ncd : ['那裡', '裡面', '哪', '下', '裡', '中部', '那邊', '一帶', '上方', '哪裡', '中間', '中', '方', '以下', '當中', '東西部', '底部', '外', '末端', '東部', '東方', '旁邊', '間', '上', '西', '前沿', '上面', '這裡', '邊', '旁', '東', '西部', '畔', '外面', '哪兒', '對面', '哪下', '內']\n",
      "=======================\n",
      "A : ['寶有', '基層', '必備', '真正', '母', '長途', '業餘', '基礎', '新興', '額外', '上上', '前置', '中', '雙', '非', '後置', '超級', '重磅', '一般', '優質', '共同', '主', '麻辣', '小本', '碧藍', '彩色', '頭號', '總', '大幅度', '乒乓', '綜合', '唯一', '地下', '眾', '火紅', '常務', '單', '同等', '歐式', '獨家', '原', '超', '二手', '高度', '獨門', '現行', '新一代', '現役', '野生', '獨角', '中西', '最佳', '多餘', '國產']\n",
      "=======================\n",
      "V_2 : ['有']\n",
      "=======================\n",
      "VL : ['後悔', '喜好', '能', '用來', '便利', '趨於', '令', '故意', '使', '持續', '愛', '開始', '愛好', '讓', '敢', '導致', '肯', '習慣', '使得', '致', '甘願', '不惜']\n",
      "=======================\n",
      "T : ['了', '去', '嘛', '啦', '嗎', '的', '矣', '呢', '唄', '哪', '咯', '麼', '哦', '吧', '來', '啊']\n",
      "=======================\n",
      "VI : ['取勝', '驚艷', '著稱', '專用']\n",
      "=======================\n",
      "DASHCATEGORY : ['—', '-']\n",
      "=======================\n",
      "I : ['瑪法里奧', '哦']\n",
      "=======================\n",
      "Dk : ['那麼', '反過來', '據聞', '據說', '想不到', '那', '外傳', '結果']\n",
      "=======================\n",
      "VF : ['繼續', '推選', '帶領', '打算', '邀', '要求', '叫', '申請', '判', '率領', '請', '策劃', '助', '準備', '拒', '催', '試', '停止', '勸說', '逼', '圖', '勸住', '止住', '鼓勵', '拒絕', '試試', '告誡', '擬']\n",
      "=======================\n",
      "Da : ['近', '約', '光', '最多', '共', '僅', '才', '足足', '將近', '唯獨', '幾近', '正好', '幾乎', '不下', '只']\n",
      "=======================\n",
      "PARENTHESISCATEGORY : ['「', '）', '》', '（', '(', '」', '《']\n",
      "=======================\n",
      "Nv : ['錄制', '體驗', '航海', '開發', '遊樂', '代理', '度假', '疊加', '關聯', '問', '增發', '絕殺', '工作', '思考', '判罰', '翻譯', '組合', '輔助', '批發', '旅遊', '經歷', '安全', '兼職', '銷售', '管理', '護髮', '配置', '推薦', '燃燒', '供電', '創業', '生產', '營銷', '回歸', '灌籃', '私募', '射擊', '抗戰', '防治', '登山', '解救', '買單', '研究', '訴訟', '崩潰', '分銷']\n",
      "=======================\n",
      "PERIODCATEGORY : ['。', '·']\n",
      "=======================\n",
      "VAC : ['動', '蒸發', '集合', '移動', '推進', '上演']\n",
      "=======================\n",
      "Dfb : ['些', '一點', '極了', '夠']\n",
      "=======================\n",
      "Cab : ['等', '等等']\n",
      "=======================\n",
      "SEMICOLONCATEGORY : ['；']\n",
      "=======================\n",
      "Neqb : ['以上', '半', '多']\n",
      "=======================\n",
      "ETCCATEGORY : ['…']\n",
      "=======================\n",
      "Cba : ['的話']\n",
      "=======================\n",
      "DOTCATEGORY : ['.']\n",
      "=======================\n"
     ]
    }
   ],
   "source": [
    "pos_analysis = {}\n",
    "for _, pairs in train_title_cuts.items():\n",
    "    for word, flag in pairs:\n",
    "        if flag not in pos_analysis:\n",
    "            pos_analysis[flag] = set()\n",
    "        pos_analysis[flag].add(word)\n",
    "\n",
    "for flag, words in pos_analysis.items():\n",
    "    print(flag, ':', list(words)[:100])\n",
    "    print('=======================')"
   ]
  },
  {
   "cell_type": "markdown",
   "metadata": {},
   "source": [
    "|         Type        |     Description    |\n",
    "|:-------------------:|:------------------:|\n",
    "| A                   | 非謂形容詞         |\n",
    "| Caa                 | 對等連接詞         |\n",
    "| Cab                 | 連接詞，如：等等   |\n",
    "| Cba                 | 連接詞，如：的話   |\n",
    "| Cbb                 | 關聯連接詞         |\n",
    "| D                   | 副詞               |\n",
    "| Da                  | 數量副詞           |\n",
    "| Dfa                 | 動詞前程度副詞     |\n",
    "| Dfb                 | 動詞後程度副詞     |\n",
    "| Di                  | 時態標記           |\n",
    "| Dk                  | 句副詞             |\n",
    "| DM                  | 定量式             |\n",
    "| I                   | 感嘆詞             |\n",
    "| Na                  | 普通名詞           |\n",
    "| Nb                  | 專有名詞           |\n",
    "| Nc                  | 地方詞             |\n",
    "| Ncd                 | 位置詞             |\n",
    "| Nd                  | 時間詞             |\n",
    "| Nep                 | 指代定詞           |\n",
    "| Neqa                | 數量定詞           |\n",
    "| Neqb                | 後置數量定詞       |\n",
    "| Nes                 | 特指定詞           |\n",
    "| Neu                 | 數詞定詞           |\n",
    "| Nf                  | 量詞               |\n",
    "| Ng                  | 後置詞             |\n",
    "| Nh                  | 代名詞             |\n",
    "| Nv                  | 名物化動詞         |\n",
    "| P                   | 介詞               |\n",
    "| T                   | 語助詞             |\n",
    "| VA                  | 動作不及物動詞     |\n",
    "| VAC                 | 動作使動動詞       |\n",
    "| VB                  | 動作類及物動詞     |\n",
    "| VC                  | 動作及物動詞       |\n",
    "| VCL                 | 動作接地方賓語動詞 |\n",
    "| VD                  | 雙賓動詞           |\n",
    "| VF                  | 動作謂賓動詞       |\n",
    "| VE                  | 動作句賓動詞       |\n",
    "| VG                  | 分類動詞           |\n",
    "| VH                  | 狀態不及物動詞     |\n",
    "| VHC                 | 狀態使動動詞       |\n",
    "| VI                  | 狀態類及物動詞     |\n",
    "| VJ                  | 狀態及物動詞       |\n",
    "| VK                  | 狀態句賓動詞       |\n",
    "| VL                  | 狀態謂賓動詞       |\n",
    "| V_2                 | 有                 |\n",
    "|                     |                    |\n",
    "| DE                  | 的之得地           |\n",
    "| SHI                 | 是                 |\n",
    "| FW                  | 外文               |\n",
    "|                     |                    |\n",
    "| COLONCATEGORY       | 冒號               |\n",
    "| COMMACATEGORY       | 逗號               |\n",
    "| DASHCATEGORY        | 破折號             |\n",
    "| DOTCATEGORY         | 點號               |\n",
    "| ETCCATEGORY         | 刪節號             |\n",
    "| EXCLAMATIONCATEGORY | 驚嘆號             |\n",
    "| PARENTHESISCATEGORY | 括號               |\n",
    "| PAUSECATEGORY       | 頓號               |\n",
    "| PERIODCATEGORY      | 句號               |\n",
    "| QUESTIONCATEGORY    | 問號               |\n",
    "| SEMICOLONCATEGORY   | 分號               |\n",
    "| SPCHANGECATEGORY    | 雙直線             |\n",
    "| WHITESPACE          | 空白               |"
   ]
  },
  {
   "cell_type": "code",
   "execution_count": 31,
   "metadata": {},
   "outputs": [],
   "source": [
    "def get_bow_vector_with_selection(pairs, word2index):\n",
    "    excluded_flags = [\n",
    "        # 根據以上列舉出來的文字以及詞性表，請列出想要排除的詞性\n",
    "        # YOUR CODE HERE\n",
    "        'COLONCATEGORY', 'COMMACATEGORY', 'DASHCATEGORY', 'DOTCATEGORY', 'ETCCATEGORY', 'EXCLAMATIONCATEGORY', \n",
    "        'PARENTHESISCATEGORY', 'PAUSECATEGORY', 'PERIODCATEGORY','SEMICOLONCATEGORY', 'SPCHANGECATEGORY', 'WHITESPACE',\n",
    "        'QUESTIONCATEGORY', 'V_2', 'DE', 'SHI', 'I', 'T'\n",
    "        # END YOUR CODE\n",
    "    ]\n",
    "    vector = np.zeros(len(word2index))\n",
    "    for word, flag in pairs:\n",
    "        if word in word2index and flag not in excluded_flags:\n",
    "            vector[word2index[word]] += 1\n",
    "    return vector"
   ]
  },
  {
   "cell_type": "markdown",
   "metadata": {},
   "source": [
    "# Cosine Similarity"
   ]
  },
  {
   "cell_type": "code",
   "execution_count": 27,
   "metadata": {},
   "outputs": [],
   "source": [
    "def cosine_similarity(bow1, bow2):\n",
    "    # YOUR CODE HERE\n",
    "    similarity = np.dot(bow1, bow2)/(np.linalg.norm(bow1)*np.linalg.norm(bow2))\n",
    "\n",
    "    # END YOUR CODE\n",
    "    return similarity"
   ]
  },
  {
   "cell_type": "code",
   "execution_count": 28,
   "metadata": {},
   "outputs": [
    {
     "data": {
      "text/plain": [
       "0.08703882797784893"
      ]
     },
     "execution_count": 28,
     "metadata": {},
     "output_type": "execute_result"
    }
   ],
   "source": [
    "bow1 = get_bow_vector(train_title_cuts[100], word2index)\n",
    "bow2 = get_bow_vector(train_title_cuts[130], word2index)\n",
    "cosine_similarity(bow1, bow2)"
   ]
  },
  {
   "cell_type": "code",
   "execution_count": 29,
   "metadata": {},
   "outputs": [
    {
     "data": {
      "text/plain": [
       "[('山東', 'Nc'),\n",
       " ('魯能', 'Nb'),\n",
       " ('有沒有', 'D'),\n",
       " ('可能', 'D'),\n",
       " ('拿到', 'VC'),\n",
       " ('今年', 'Nd'),\n",
       " ('的', 'DE'),\n",
       " ('中', 'A'),\n",
       " ('超', 'A'),\n",
       " ('冠軍', 'Na'),\n",
       " ('？', 'QUESTIONCATEGORY')]"
      ]
     },
     "execution_count": 29,
     "metadata": {},
     "output_type": "execute_result"
    }
   ],
   "source": [
    "train_title_cuts[100]"
   ]
  },
  {
   "cell_type": "code",
   "execution_count": 30,
   "metadata": {},
   "outputs": [
    {
     "data": {
      "text/plain": [
       "[('NBA', 'Nb'),\n",
       " ('和', 'Caa'),\n",
       " ('CBA', 'FW'),\n",
       " ('差距', 'Na'),\n",
       " ('在', 'P'),\n",
       " ('哪裡', 'Ncd'),\n",
       " ('？', 'QUESTIONCATEGORY'),\n",
       " ('6', 'Neu'),\n",
       " ('張', 'Nf'),\n",
       " ('圖', 'VF'),\n",
       " ('一目瞭然', 'VH'),\n",
       " ('！', 'EXCLAMATIONCATEGORY')]"
      ]
     },
     "execution_count": 30,
     "metadata": {},
     "output_type": "execute_result"
    }
   ],
   "source": [
    "train_title_cuts[130]"
   ]
  },
  {
   "cell_type": "markdown",
   "metadata": {},
   "source": [
    "# Group mean vector"
   ]
  },
  {
   "cell_type": "code",
   "execution_count": 32,
   "metadata": {},
   "outputs": [
    {
     "data": {
      "text/plain": [
       "{'體育': array([0.04      , 0.00333333, 0.        , ..., 0.        , 0.        ,\n",
       "        0.        ]),\n",
       " '財經': array([0., 0., 0., ..., 0., 0., 0.]),\n",
       " '科技': array([0., 0., 0., ..., 0., 0., 0.]),\n",
       " '旅遊': array([0., 0., 0., ..., 0., 0., 0.]),\n",
       " '農業': array([0., 0., 0., ..., 0., 0., 0.]),\n",
       " '遊戲': array([0.        , 0.        , 0.        , ..., 0.00333333, 0.00333333,\n",
       "        0.00333333])}"
      ]
     },
     "execution_count": 32,
     "metadata": {},
     "output_type": "execute_result"
    }
   ],
   "source": [
    "group_vectors = {news_class: [] for news_class in all_news_class}\n",
    "for index, pairs in sorted(train_title_cuts.items()):\n",
    "    vector = get_bow_vector_with_selection(pairs, word2index)\n",
    "    news_class = train_classes[index]\n",
    "    group_vectors[news_class].append(vector)\n",
    "\n",
    "group_mean_vector = {}\n",
    "for news_class, vectors in group_vectors.items():\n",
    "    group_mean_vector[news_class] = np.mean(vectors, axis=0)\n",
    "group_mean_vector"
   ]
  },
  {
   "cell_type": "code",
   "execution_count": 33,
   "metadata": {},
   "outputs": [],
   "source": [
    "# group_vectors = {news_class: [] for news_class in all_news_class}\n",
    "# for index, pairs in sorted(train_title_cuts.items()):\n",
    "#     vector = get_bow_vector_with_selection(pairs, word2index)\n",
    "#     news_class = train_classes[index]\n",
    "#     group_vectors[news_class].append(vector)\n",
    "\n",
    "# group_mean_vector = {}\n",
    "# for news_class, vectors in group_vectors.items():\n",
    "#     group_mean_vector[news_class] = np.mean(vectors, axis=0)\n",
    "# group_mean_vector"
   ]
  },
  {
   "cell_type": "markdown",
   "metadata": {},
   "source": [
    "# Group mean vector: 測試"
   ]
  },
  {
   "cell_type": "code",
   "execution_count": 34,
   "metadata": {
    "tags": []
   },
   "outputs": [],
   "source": [
    "classification = {news_class: [] for news_class in all_news_class}\n",
    "for index, pairs in sorted(test_title_cuts.items()):\n",
    "    vector = get_bow_vector_with_selection(pairs, word2index)\n",
    "    if np.sum(np.square(vector)) == 0:\n",
    "        continue\n",
    "\n",
    "    max_val = -2.0\n",
    "    max_class = None\n",
    "    for news_class, ref_vector in group_mean_vector.items():\n",
    "        val = cosine_similarity(ref_vector, vector)\n",
    "        if val > max_val:\n",
    "            max_class = news_class\n",
    "            max_val = val\n",
    "\n",
    "    classification[max_class].append(index)"
   ]
  },
  {
   "cell_type": "code",
   "execution_count": 35,
   "metadata": {
    "tags": []
   },
   "outputs": [
    {
     "name": "stdout",
     "output_type": "stream",
     "text": [
      "predict 體育 :  Counter({'體育': 72, '遊戲': 10, '農業': 6, '財經': 5, '旅遊': 3, '科技': 2})\n",
      "predict 財經 :  Counter({'財經': 65, '科技': 21, '農業': 11, '遊戲': 6, '體育': 5, '旅遊': 5})\n",
      "predict 科技 :  Counter({'科技': 61, '財經': 16, '體育': 9, '農業': 9, '旅遊': 8, '遊戲': 6})\n",
      "predict 旅遊 :  Counter({'旅遊': 68, '農業': 8, '財經': 6, '體育': 2, '科技': 1, '遊戲': 1})\n",
      "predict 農業 :  Counter({'農業': 61, '旅遊': 6, '科技': 4, '體育': 3, '財經': 3, '遊戲': 1})\n",
      "predict 遊戲 :  Counter({'遊戲': 76, '科技': 10, '旅遊': 10, '體育': 8, '財經': 5, '農業': 4})\n"
     ]
    }
   ],
   "source": [
    "from collections import Counter\n",
    "\n",
    "for group, ids in classification.items():\n",
    "    counter = Counter([test_classes[id] for id in ids])\n",
    "    print('predict', group, ': ', counter)"
   ]
  },
  {
   "cell_type": "code",
   "execution_count": null,
   "metadata": {},
   "outputs": [],
   "source": []
  }
 ],
 "metadata": {
  "kernelspec": {
   "display_name": "Python 3",
   "language": "python",
   "name": "python3"
  },
  "language_info": {
   "codemirror_mode": {
    "name": "ipython",
    "version": 3
   },
   "file_extension": ".py",
   "mimetype": "text/x-python",
   "name": "python",
   "nbconvert_exporter": "python",
   "pygments_lexer": "ipython3",
   "version": "3.7.4"
  }
 },
 "nbformat": 4,
 "nbformat_minor": 2
}
