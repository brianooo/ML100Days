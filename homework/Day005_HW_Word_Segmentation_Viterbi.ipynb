{
 "cells": [
  {
   "cell_type": "markdown",
   "metadata": {},
   "source": [
    "## 作業目標: 了解斷詞演算法的背後計算"
   ]
  },
  {
   "cell_type": "markdown",
   "metadata": {},
   "source": [
    "### 根據課程講述的內容, 請計算出下列剩餘所有情況的\n",
    "若有一個人連續觀察到三天水草都是乾燥的(Dry), 則這三天的天氣機率為何？(可參考講義第13頁)\n",
    "(Hint: 共有8種可能機率)\n",
    "\n",
    "```python\n",
    "states = ('sunny', 'rainy')\n",
    "observations = ('dry', 'damp', 'soggy')\n",
    "start_probability = {'sunny': 0.4, 'rainy': 0.6}\n",
    "transition_probability = {'sunny':{'sunny':0.6, 'rainy':0.4},\n",
    "                          'rainy': {'sunny':0.3, 'rainy':0.7}}\n",
    "emission_probatility = {'sunny': {'dry':0.6, 'damp':0.3, 'soggy':0.1},\n",
    "                        'rainy': {'dry':0.1, 'damp':0.4, 'soggy':0.5}}\n",
    "```"
   ]
  },
  {
   "cell_type": "markdown",
   "metadata": {},
   "source": [
    "```\n",
    "觀察狀態 = 'dry', 'dry', 'dry'\n",
    "Sunny, Sunny, Sunny: 0.4*(0.6)*0.6*(0.6)*0.6*(0.6) = 0.031104\n",
    "Rainy, Sunny, Sunny: 0.6*(0.1)*0.3*(0.6)*0.6*(0.6) = 0.003888\n",
    "\n",
    "Sunny, Rainy, Sunny: 0.4*(0.6)*0.4*(0.1)*0.3*(0.6) = 0.001728\n",
    "Rainy, Rainy, Sunny: 0.6*(0.1)*0.7*(0.1)*0.3*(0.6) = 0.000756\n",
    "\n",
    "Sunny, Sunny, Rainy: 0.4*(0.6)*0.6*(0.6)*0.4*(0.1) = 0.003456\n",
    "Rainy, Sunny, Rainy: 0.6*(0.1)*0.3*(0.6)*0.4*(0.1) = 0.000432\n",
    "\n",
    "\n",
    "Sunny, Rainy, Rainy: 0.4*(0.6)*0.4*(0.1)*0.7*(0.1) = 0.000672\n",
    "Rainy, Rainy, Rainy: 0.6*(0.1)*0.7*(0.1)*0.7*(0.1) = 0.000294\n",
    "\n",
    "最大機率為: Sunny, Sunny, Sunny\n",
    "```"
   ]
  },
  {
   "cell_type": "markdown",
   "metadata": {},
   "source": [
    "### 根據上述條件, 寫出Viterbi應用程式"
   ]
  },
  {
   "cell_type": "code",
   "execution_count": 19,
   "metadata": {},
   "outputs": [],
   "source": [
    "observations = ('dry', 'dry', 'dry') #實際上觀察到的狀態為dry, dry, dry\n",
    "observations1 = ('damp', 'damp', 'dry')\n",
    "states = ('sunny', 'rainy')\n",
    "start_probability = {'sunny': 0.4, 'rainy': 0.6}\n",
    "transition_probability = {'sunny':{'sunny':0.6, 'rainy':0.4},\n",
    "                          'rainy': {'sunny':0.3, 'rainy':0.7}}\n",
    "emission_probatility = {'sunny': {'dry':0.6, 'damp':0.3, 'soggy':0.1},\n",
    "                        'rainy': {'dry':0.1, 'damp':0.4, 'soggy':0.5}}"
   ]
  },
  {
   "cell_type": "code",
   "execution_count": 10,
   "metadata": {},
   "outputs": [],
   "source": [
    "def viterbi(obs, states, start_p, trans_p, emit_p):\n",
    "    V = [{}]\n",
    "    path = {}\n",
    "    \n",
    "    # Initialize base cases (t == 0)\n",
    "    for y in states:                                             # t = 0, 狀態為某 state 的機率\n",
    "        V[0][y] = start_p[y]*emit_p[y][obs[0]]                   # 某狀態下的機率 = 初始機率 * 觀察水草所得發射矩陣中機率\n",
    "        path[y] = [y]                                            # 紀錄 t = 0 的狀態路徑\n",
    "    \n",
    "    print(V)\n",
    "    # Run Viterbi for t > 0\n",
    "    for t in range(1,len(obs)):                                   # 到時間 t, 狀態為某 state 的機率\n",
    "        v = {}\n",
    "        newpath = {}\n",
    "        for y in states:                                          # 比較從 t-1 的各狀態 x 轉移到時間 t 狀態為某狀態 y的機率\n",
    "            mx = 0                                                # 取最大值作為 : 到時間 t, 該狀態 y 的機率\n",
    "            for x in states:                                      # 並記錄新的狀態路徑\n",
    "                m = V[t-1][x]*trans_p[x][y]*emit_p[y][obs[t]]\n",
    "                if m > mx:\n",
    "                    mx = m\n",
    "                    pre_state = path[x]\n",
    "            v[y] = mx\n",
    "            newpath[y] = pre_state + [y]\n",
    "        \n",
    "        V.append(v)\n",
    "        # Don't need to remember the old paths\n",
    "        path = newpath\n",
    "    \n",
    "    print(V)\n",
    "    print(path)\n",
    "    (prob, state) = max([(V[len(obs) - 1][final_state], final_state) for final_state in states])\n",
    "    return (prob, path[state])"
   ]
  },
  {
   "cell_type": "code",
   "execution_count": 11,
   "metadata": {},
   "outputs": [
    {
     "name": "stdout",
     "output_type": "stream",
     "text": [
      "[{'sunny': 0.24, 'rainy': 0.06}]\n",
      "[{'sunny': 0.24, 'rainy': 0.06}, {'sunny': 0.08639999999999999, 'rainy': 0.009600000000000001}, {'sunny': 0.031103999999999993, 'rainy': 0.0034560000000000003}]\n",
      "{'sunny': ['sunny', 'sunny', 'sunny'], 'rainy': ['sunny', 'sunny', 'rainy']}\n"
     ]
    }
   ],
   "source": [
    "result = viterbi(observations,\n",
    "                 states,\n",
    "                 start_probability,\n",
    "                 transition_probability,\n",
    "                 emission_probatility)"
   ]
  },
  {
   "cell_type": "code",
   "execution_count": 12,
   "metadata": {},
   "outputs": [
    {
     "data": {
      "text/plain": [
       "(0.031103999999999993, ['sunny', 'sunny', 'sunny'])"
      ]
     },
     "execution_count": 12,
     "metadata": {},
     "output_type": "execute_result"
    }
   ],
   "source": [
    "result"
   ]
  },
  {
   "cell_type": "code",
   "execution_count": 20,
   "metadata": {},
   "outputs": [
    {
     "name": "stdout",
     "output_type": "stream",
     "text": [
      "[{'sunny': 0.12, 'rainy': 0.24}]\n",
      "[{'sunny': 0.12, 'rainy': 0.24}, {'sunny': 0.021599999999999998, 'rainy': 0.0672}, {'sunny': 0.012095999999999997, 'rainy': 0.004704}]\n",
      "{'sunny': ['rainy', 'rainy', 'sunny'], 'rainy': ['rainy', 'rainy', 'rainy']}\n"
     ]
    }
   ],
   "source": [
    "result1 = viterbi(observations1,\n",
    "                 states,\n",
    "                 start_probability,\n",
    "                 transition_probability,\n",
    "                 emission_probatility)"
   ]
  },
  {
   "cell_type": "code",
   "execution_count": 21,
   "metadata": {},
   "outputs": [
    {
     "data": {
      "text/plain": [
       "(0.012095999999999997, ['rainy', 'rainy', 'sunny'])"
      ]
     },
     "execution_count": 21,
     "metadata": {},
     "output_type": "execute_result"
    }
   ],
   "source": [
    "result1"
   ]
  },
  {
   "cell_type": "code",
   "execution_count": null,
   "metadata": {},
   "outputs": [],
   "source": []
  }
 ],
 "metadata": {
  "kernelspec": {
   "display_name": "Python 3",
   "language": "python",
   "name": "python3"
  },
  "language_info": {
   "codemirror_mode": {
    "name": "ipython",
    "version": 3
   },
   "file_extension": ".py",
   "mimetype": "text/x-python",
   "name": "python",
   "nbconvert_exporter": "python",
   "pygments_lexer": "ipython3",
   "version": "3.7.4"
  }
 },
 "nbformat": 4,
 "nbformat_minor": 2
}
