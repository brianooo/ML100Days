{
 "cells": [
  {
   "cell_type": "code",
   "execution_count": 1,
   "metadata": {
    "tags": []
   },
   "outputs": [
    {
     "name": "stdout",
     "output_type": "stream",
     "text": [
      "Python 3.7.4\n"
     ]
    }
   ],
   "source": [
    "# !python --version"
   ]
  },
  {
   "cell_type": "code",
   "execution_count": 2,
   "metadata": {},
   "outputs": [],
   "source": [
    "# !pip install -q -U pip\n",
    "# !pip install -q numpy\n",
    "# !pip install -q pandas\n",
    "# !pip install -q ckiptagger\n",
    "# !pip install -q tqdm\n",
    "# !pip install -q tensorflow==1.14.0\n",
    "# !pip install -q ipywidgets\n",
    "# !pip install -q matplotlib"
   ]
  },
  {
   "cell_type": "code",
   "execution_count": 1,
   "metadata": {},
   "outputs": [],
   "source": [
    "import pandas as pd\n",
    "import numpy as np\n",
    "\n",
    "from ckiptagger import WS, POS\n",
    "from tqdm.notebook import tqdm"
   ]
  },
  {
   "cell_type": "code",
   "execution_count": 2,
   "metadata": {},
   "outputs": [],
   "source": [
    "df_train = pd.read_csv('news_clustering_train.tsv', sep='\\t')\n",
    "df_test = pd.read_csv('news_clustering_test.tsv', sep='\\t')"
   ]
  },
  {
   "cell_type": "code",
   "execution_count": 3,
   "metadata": {},
   "outputs": [],
   "source": [
    "train_titles = {row['index']: row['title'] for _, row in df_train.iterrows()}\n",
    "train_classes = {row['index']: row['class'] for _, row in df_train.iterrows()}\n",
    "\n",
    "test_titles = {row['index']: row['title'] for _, row in df_test.iterrows()}\n",
    "test_classes = {row['index']: row['class'] for _, row in df_test.iterrows()}"
   ]
  },
  {
   "cell_type": "code",
   "execution_count": 4,
   "metadata": {},
   "outputs": [],
   "source": [
    "all_news_class = ['體育', '財經', '科技', '旅遊', '農業', '遊戲']"
   ]
  },
  {
   "cell_type": "markdown",
   "metadata": {},
   "source": [
    "# 斷詞 + POS"
   ]
  },
  {
   "cell_type": "code",
   "execution_count": 5,
   "metadata": {
    "tags": []
   },
   "outputs": [],
   "source": [
    "ws = WS('./data/')\n",
    "pos = POS('./data/')"
   ]
  },
  {
   "cell_type": "code",
   "execution_count": 6,
   "metadata": {
    "tags": []
   },
   "outputs": [
    {
     "data": {
      "application/vnd.jupyter.widget-view+json": {
       "model_id": "0cd9c94682fd48058776c7046c42ce05",
       "version_major": 2,
       "version_minor": 0
      },
      "text/plain": [
       "HBox(children=(IntProgress(value=0, max=1800), HTML(value='')))"
      ]
     },
     "metadata": {},
     "output_type": "display_data"
    },
    {
     "name": "stdout",
     "output_type": "stream",
     "text": [
      "\n"
     ]
    }
   ],
   "source": [
    "train_title_cuts = {}\n",
    "for index, title in tqdm(train_titles.items()):\n",
    "    word_s = ws([title])\n",
    "    word_p = pos(word_s)\n",
    "    train_title_cuts[index] = list(zip(word_s[0], word_p[0]))"
   ]
  },
  {
   "cell_type": "code",
   "execution_count": 7,
   "metadata": {
    "tags": []
   },
   "outputs": [
    {
     "data": {
      "application/vnd.jupyter.widget-view+json": {
       "model_id": "a511ffcb74ba4afeb381d5af87361560",
       "version_major": 2,
       "version_minor": 0
      },
      "text/plain": [
       "HBox(children=(IntProgress(value=0, max=600), HTML(value='')))"
      ]
     },
     "metadata": {},
     "output_type": "display_data"
    },
    {
     "name": "stdout",
     "output_type": "stream",
     "text": [
      "\n"
     ]
    }
   ],
   "source": [
    "test_title_cuts = {}\n",
    "for index, title in tqdm(test_titles.items()):\n",
    "    word_s = ws([title])\n",
    "    word_p = pos(word_s)\n",
    "    test_title_cuts[index] = list(zip(word_s[0], word_p[0]))"
   ]
  },
  {
   "cell_type": "code",
   "execution_count": 8,
   "metadata": {},
   "outputs": [
    {
     "name": "stdout",
     "output_type": "stream",
     "text": [
      "0\n",
      "[('亞洲杯', 'Nb'), ('奪', 'VC'), ('冠賠率', 'Na'), ('：', 'COLONCATEGORY'), ('日本', 'Nc'), ('、', 'PAUSECATEGORY'), ('伊朗', 'Nc'), ('領銜', 'VB'), (' ', 'WHITESPACE'), ('中國', 'Nc'), ('竟', 'D'), ('與', 'P'), ('泰國', 'Nc'), ('並列', 'VG')]\n"
     ]
    }
   ],
   "source": [
    "for key, value in train_title_cuts.items():\n",
    "    print(key)\n",
    "    print(value)\n",
    "    break   "
   ]
  },
  {
   "cell_type": "markdown",
   "metadata": {},
   "source": [
    "# Bag of Words (BOW)"
   ]
  },
  {
   "cell_type": "code",
   "execution_count": 9,
   "metadata": {},
   "outputs": [],
   "source": [
    "word2index = {}\n",
    "index2word = {}\n",
    "n = 0\n",
    "for index in train_title_cuts:\n",
    "    for word, flag in train_title_cuts[index]:\n",
    "        if word in word2index:\n",
    "            continue\n",
    "        word2index[word] = n \n",
    "        index2word[n] = word\n",
    "        n += 1"
   ]
  },
  {
   "cell_type": "code",
   "execution_count": 10,
   "metadata": {},
   "outputs": [],
   "source": [
    "def get_bow_vector_with_selection(pairs, word2index):\n",
    "    excluded_flags = [\n",
    "        'Nh', 'Nep', 'Nes', 'DE', 'T', 'P', 'V_2', 'SHI',\n",
    "        'Dfa', 'Dfb', 'Da', 'Di', 'Dk',\n",
    "        'Caa', 'Cab', 'Cba', 'Cbb',\n",
    "        'COLONCATEGORY', 'COMMACATEGORY', 'DASHCATEGORY', 'DOTCATEGORY', 'ETCCATEGORY', 'EXCLAMATIONCATEGORY',\n",
    "        'PARENTHESISCATEGORY', 'PAUSECATEGORY', 'PERIODCATEGORY', 'QUESTIONCATEGORY', 'SEMICOLONCATEGORY',\n",
    "        'SPCHANGECATEGORY', 'WHITESPACE'\n",
    "    ]\n",
    "    vector = np.zeros(len(word2index))\n",
    "    for word, flag in pairs:\n",
    "        if word in word2index and flag not in excluded_flags:\n",
    "            vector[word2index[word]] += 1\n",
    "    return vector"
   ]
  },
  {
   "cell_type": "code",
   "execution_count": 11,
   "metadata": {},
   "outputs": [],
   "source": [
    "train_bow_vectors = {\n",
    "    index: get_bow_vector_with_selection(pairs, word2index)\n",
    "    for index, pairs in train_title_cuts.items()\n",
    "}\n",
    "\n",
    "test_bow_vectors = {\n",
    "    index: get_bow_vector_with_selection(pairs, word2index)\n",
    "    for index, pairs in test_title_cuts.items()\n",
    "}"
   ]
  },
  {
   "cell_type": "markdown",
   "metadata": {},
   "source": [
    "# TFIDF"
   ]
  },
  {
   "cell_type": "code",
   "execution_count": 12,
   "metadata": {},
   "outputs": [],
   "source": [
    "from sklearn.feature_extraction.text import TfidfTransformer"
   ]
  },
  {
   "cell_type": "code",
   "execution_count": 13,
   "metadata": {},
   "outputs": [],
   "source": [
    "train_index_array, train_vector_array = list(zip(*train_bow_vectors.items()))\n",
    "\n",
    "# 使用`TfidfTransformer`來將`train_vector_array`轉換成`train_tfidf_vector_array`\n",
    "# YOUR CODE HERE\n",
    "tfidf = TfidfTransformer()\n",
    "train_tfidf_vector_array = tfidf.fit_transform(train_vector_array)\n",
    "\n",
    "# END YOUR CODE"
   ]
  },
  {
   "cell_type": "code",
   "execution_count": 14,
   "metadata": {},
   "outputs": [
    {
     "data": {
      "text/plain": [
       "<1800x6690 sparse matrix of type '<class 'numpy.float64'>'\n",
       "\twith 17126 stored elements in Compressed Sparse Row format>"
      ]
     },
     "execution_count": 14,
     "metadata": {},
     "output_type": "execute_result"
    }
   ],
   "source": [
    "train_tfidf_vector_array"
   ]
  },
  {
   "cell_type": "code",
   "execution_count": 15,
   "metadata": {},
   "outputs": [
    {
     "data": {
      "text/plain": [
       "scipy.sparse.csr.csr_matrix"
      ]
     },
     "execution_count": 15,
     "metadata": {},
     "output_type": "execute_result"
    }
   ],
   "source": [
    "type(train_tfidf_vector_array)               # scipy matrix 才有 getrow()"
   ]
  },
  {
   "cell_type": "code",
   "execution_count": 16,
   "metadata": {},
   "outputs": [],
   "source": [
    "train_tfidf_vectors = {}\n",
    "for i, index in enumerate(train_index_array):\n",
    "    vector = train_tfidf_vector_array.getrow(i).toarray()[0]           # toarray 後變成 [[v1, v2, ...]] 所以要取 [0]\n",
    "    train_tfidf_vectors[index] = vector"
   ]
  },
  {
   "cell_type": "code",
   "execution_count": 17,
   "metadata": {},
   "outputs": [
    {
     "data": {
      "text/plain": [
       "array([0., 0., 0., ..., 0., 0., 0.])"
      ]
     },
     "execution_count": 17,
     "metadata": {},
     "output_type": "execute_result"
    }
   ],
   "source": [
    "train_tfidf_vectors[120]"
   ]
  },
  {
   "cell_type": "code",
   "execution_count": 18,
   "metadata": {},
   "outputs": [],
   "source": [
    "test_index_array, test_vector_array = list(zip(*test_bow_vectors.items()))\n",
    "\n",
    "# 使用同一個`TfidfTransformer`來轉換testing dataset\n",
    "# YOUR CODE HERE\n",
    "test_tfidf_vector_array = tfidf.transform(test_vector_array)\n",
    "# END YOUR CODE"
   ]
  },
  {
   "cell_type": "code",
   "execution_count": 19,
   "metadata": {},
   "outputs": [],
   "source": [
    "test_tfidf_vectors = {}\n",
    "for i, index in enumerate(test_index_array):\n",
    "    vector = test_tfidf_vector_array.getrow(i).toarray()\n",
    "    test_tfidf_vectors[index] = vector"
   ]
  },
  {
   "cell_type": "markdown",
   "metadata": {},
   "source": [
    "# TFIDF + Group mean vector: 測試"
   ]
  },
  {
   "cell_type": "code",
   "execution_count": 20,
   "metadata": {},
   "outputs": [
    {
     "data": {
      "text/plain": [
       "{'體育': array([0.01151249, 0.00394476, 0.00120532, ..., 0.        , 0.        ,\n",
       "        0.        ]),\n",
       " '財經': array([0., 0., 0., ..., 0., 0., 0.]),\n",
       " '科技': array([0., 0., 0., ..., 0., 0., 0.]),\n",
       " '旅遊': array([0., 0., 0., ..., 0., 0., 0.]),\n",
       " '農業': array([0., 0., 0., ..., 0., 0., 0.]),\n",
       " '遊戲': array([0.        , 0.        , 0.        , ..., 0.00171764, 0.00152024,\n",
       "        0.00152024])}"
      ]
     },
     "execution_count": 20,
     "metadata": {},
     "output_type": "execute_result"
    }
   ],
   "source": [
    "group_vectors = {news_class: [] for news_class in all_news_class}\n",
    "for index, vector in sorted(train_tfidf_vectors.items()):\n",
    "    news_class = train_classes[index]\n",
    "    group_vectors[news_class].append(vector)\n",
    "\n",
    "group_mean_vector = {}\n",
    "for news_class, vectors in group_vectors.items():\n",
    "    group_mean_vector[news_class] = np.mean(vectors, axis=0)\n",
    "group_mean_vector"
   ]
  },
  {
   "cell_type": "code",
   "execution_count": 21,
   "metadata": {},
   "outputs": [],
   "source": [
    "def cosine_similarity(bow1, bow2):\n",
    "    len_bow1 = np.sqrt(np.sum(np.square(bow1)))\n",
    "    len_bow2 = np.sqrt(np.sum(np.square(bow2)))\n",
    "    return np.sum(bow1 * bow2) / (len_bow1 * len_bow2)"
   ]
  },
  {
   "cell_type": "code",
   "execution_count": 22,
   "metadata": {},
   "outputs": [],
   "source": [
    "classification = {news_class: [] for news_class in all_news_class}\n",
    "for index, vector in sorted(test_tfidf_vectors.items()):\n",
    "    if np.sum(np.square(vector)) == 0:\n",
    "        continue\n",
    "\n",
    "    max_val = -2.0\n",
    "    max_class = None\n",
    "    for news_class, ref_vector in group_mean_vector.items():\n",
    "        val = cosine_similarity(ref_vector, vector)\n",
    "        if val > max_val:\n",
    "            max_class = news_class\n",
    "            max_val = val\n",
    "\n",
    "    classification[max_class].append(index)"
   ]
  },
  {
   "cell_type": "code",
   "execution_count": 23,
   "metadata": {},
   "outputs": [
    {
     "name": "stdout",
     "output_type": "stream",
     "text": [
      "predict 體育 :  Counter({'體育': 83, '遊戲': 7, '財經': 6, '旅遊': 6, '農業': 4, '科技': 2})\n",
      "predict 財經 :  Counter({'財經': 75, '科技': 15, '旅遊': 7, '農業': 6, '體育': 4, '遊戲': 2})\n",
      "predict 科技 :  Counter({'科技': 67, '財經': 11, '農業': 6, '體育': 3, '遊戲': 3, '旅遊': 2})\n",
      "predict 旅遊 :  Counter({'旅遊': 78, '農業': 9, '科技': 4, '財經': 3, '遊戲': 1})\n",
      "predict 農業 :  Counter({'農業': 74, '科技': 7, '旅遊': 5, '體育': 4, '財經': 3, '遊戲': 1})\n",
      "predict 遊戲 :  Counter({'遊戲': 86, '體育': 4, '科技': 4, '財經': 2})\n"
     ]
    }
   ],
   "source": [
    "from collections import Counter\n",
    "\n",
    "for group, ids in classification.items():\n",
    "    counter = Counter([test_classes[id] for id in ids])\n",
    "    print('predict', group, ': ', counter)"
   ]
  },
  {
   "cell_type": "markdown",
   "metadata": {},
   "source": [
    "# Visualization"
   ]
  },
  {
   "cell_type": "code",
   "execution_count": 24,
   "metadata": {},
   "outputs": [],
   "source": [
    "from sklearn.decomposition import PCA\n",
    "\n",
    "pca = PCA(n_components=2, svd_solver='full')\n",
    "\n",
    "anchor_classes, anchor_vectors = list(zip(*group_mean_vector.items()))\n",
    "# 為了看清楚Group Mean Vector怎麼幫助我們做分類問題，我們針對Group Mean Vector (anchor) 來進行PCA降維\n",
    "# YOUR CODE HERE\n",
    "reduced_anchor_vectors = pca.fit_transform(anchor_vectors)\n",
    "reduced_test_tfidf_vector_array = pca.transform(test_tfidf_vector_array.toarray())\n",
    "# END YOUR CODE"
   ]
  },
  {
   "cell_type": "code",
   "execution_count": 25,
   "metadata": {},
   "outputs": [
    {
     "data": {
      "text/plain": [
       "array([[-0.0237776 , -0.03045768],\n",
       "       [ 0.03089514, -0.08325018],\n",
       "       [-0.02799609, -0.04679851],\n",
       "       ...,\n",
       "       [ 0.0402831 , -0.04660735],\n",
       "       [ 0.09522959, -0.04196424],\n",
       "       [ 0.03325491, -0.03344588]])"
      ]
     },
     "execution_count": 25,
     "metadata": {},
     "output_type": "execute_result"
    }
   ],
   "source": [
    "reduced_test_tfidf_vector_array"
   ]
  },
  {
   "cell_type": "code",
   "execution_count": 27,
   "metadata": {},
   "outputs": [
    {
     "data": {
      "image/png": "[encoded data removed]",
      "text/plain": [
       "<Figure size 576x576 with 1 Axes>"
      ]
     },
     "metadata": {
      "needs_background": "light"
     },
     "output_type": "display_data"
    }
   ],
   "source": [
    "import matplotlib\n",
    "import matplotlib.pyplot as plt\n",
    "%matplotlib inline\n",
    "\n",
    "test_class_array = np.vectorize(test_classes.get)(test_index_array)\n",
    "\n",
    "label_mapping = {\n",
    "    '體育': 'sport',\n",
    "    '財經': 'financial',\n",
    "    '科技': 'tech',\n",
    "    '旅遊': 'travel',\n",
    "    '農業': 'agriculture',\n",
    "    '遊戲': 'game'\n",
    "}\n",
    "\n",
    "plt.figure(figsize=(8, 8))\n",
    "for real_class in all_news_class:\n",
    "    plt.scatter(reduced_test_tfidf_vector_array[test_class_array == real_class, 0],\n",
    "                reduced_test_tfidf_vector_array[test_class_array == real_class, 1],\n",
    "                label=label_mapping[real_class],\n",
    "                alpha=0.3)\n",
    "    i = anchor_classes.index(real_class)\n",
    "    plt.plot([0, reduced_anchor_vectors[i, 0]], [0, reduced_anchor_vectors[i, 1]])\n",
    "plt.legend(loc=\"best\", shadow=False, scatterpoints=1)\n",
    "\n",
    "plt.show()"
   ]
  }
 ],
 "metadata": {
  "kernelspec": {
   "display_name": "Python 3",
   "language": "python",
   "name": "python3"
  },
  "language_info": {
   "codemirror_mode": {
    "name": "ipython",
    "version": 3
   },
   "file_extension": ".py",
   "mimetype": "text/x-python",
   "name": "python",
   "nbconvert_exporter": "python",
   "pygments_lexer": "ipython3",
   "version": "3.7.4"
  }
 },
 "nbformat": 4,
 "nbformat_minor": 2
}
