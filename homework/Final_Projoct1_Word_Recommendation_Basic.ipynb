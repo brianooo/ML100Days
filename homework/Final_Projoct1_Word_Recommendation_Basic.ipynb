{
 "cells": [
  {
   "cell_type": "markdown",
   "metadata": {
    "colab_type": "text",
    "id": "dpYyaBgoJLR4"
   },
   "source": [
    "# 自製智能中文選字系統  (1)"
   ]
  },
  {
   "cell_type": "code",
   "execution_count": 1,
   "metadata": {
    "colab": {},
    "colab_type": "code",
    "id": "6dC4iuglJLSB",
    "outputId": "8bcc939e-c1a3-46f5-f889-b0fcb97ed34f"
   },
   "outputs": [
    {
     "data": {
      "text/plain": [
       "'3.7.4 (default, Aug  9 2019, 18:34:13) [MSC v.1915 64 bit (AMD64)]'"
      ]
     },
     "execution_count": 1,
     "metadata": {},
     "output_type": "execute_result"
    }
   ],
   "source": [
    "import sys\n",
    "sys.version"
   ]
  },
  {
   "cell_type": "markdown",
   "metadata": {
    "colab_type": "text",
    "id": "9fQnVHVmJLSH"
   },
   "source": [
    "## 資料前處理"
   ]
  },
  {
   "cell_type": "markdown",
   "metadata": {
    "colab_type": "text",
    "id": "aQIl0BP5JLSH"
   },
   "source": [
    "確認版本為 python3"
   ]
  },
  {
   "cell_type": "code",
   "execution_count": 2,
   "metadata": {
    "colab": {},
    "colab_type": "code",
    "id": "8wG3IWB2JLSI"
   },
   "outputs": [],
   "source": [
    "import re"
   ]
  },
  {
   "cell_type": "code",
   "execution_count": 3,
   "metadata": {
    "colab": {},
    "colab_type": "code",
    "id": "xZXcaXMRJLSL"
   },
   "outputs": [],
   "source": [
    "def prepocess_line(line):\n",
    "    # 僅僅挑出中文字元，並且斷開不連續的中文字\n",
    "    # YOUR CODE HERE\n",
    "    segments = re.findall('[\\u4E00-\\u9FFF]+', line)\n",
    "    \n",
    "    # END YOUR CODE\n",
    "    return segments"
   ]
  },
  {
   "cell_type": "code",
   "execution_count": 4,
   "metadata": {},
   "outputs": [
    {
     "data": {
      "text/plain": [
       "['英語', '一詞源於遷居英格蘭的日耳曼部落盎格魯', '而', '盎格魯', '得名於']"
      ]
     },
     "execution_count": 4,
     "metadata": {},
     "output_type": "execute_result"
    }
   ],
   "source": [
    "prepocess_line('“英語”一詞源於遷居英格蘭的日耳曼部落盎格魯（），而“盎格魯”得名於')  \n",
    "# 應該為：['英語', '一詞源於遷居英格蘭的日耳曼部落盎格魯', '而', '盎格魯', '得名於']"
   ]
  },
  {
   "cell_type": "code",
   "execution_count": 5,
   "metadata": {
    "colab": {},
    "colab_type": "code",
    "id": "xuRTq3ptJLR6",
    "tags": []
   },
   "outputs": [],
   "source": [
    "segments = []\n",
    "with open('./wiki_zh_small.txt', encoding='utf-8') as fr:\n",
    "    for line in fr.readlines():\n",
    "        segments += prepocess_line(line)"
   ]
  },
  {
   "cell_type": "code",
   "execution_count": 6,
   "metadata": {},
   "outputs": [
    {
     "data": {
      "text/plain": [
       "['英語',\n",
       " '英語英語',\n",
       " '又稱爲英文',\n",
       " '是一種西日耳曼語言',\n",
       " '誕生於中世紀早期的英格蘭',\n",
       " '如今具有全球通用語的地位',\n",
       " '英語',\n",
       " '一詞源於遷居英格蘭的日耳曼部落盎格魯',\n",
       " '而',\n",
       " '盎格魯']"
      ]
     },
     "execution_count": 6,
     "metadata": {},
     "output_type": "execute_result"
    }
   ],
   "source": [
    "segments[:10]"
   ]
  },
  {
   "cell_type": "code",
   "execution_count": 7,
   "metadata": {},
   "outputs": [
    {
     "data": {
      "text/plain": [
       "371373"
      ]
     },
     "execution_count": 7,
     "metadata": {},
     "output_type": "execute_result"
    }
   ],
   "source": [
    "total = 0\n",
    "for segment in segments:          # 確認一下總共有多少字\n",
    "    total += len(segment)\n",
    "\n",
    "total"
   ]
  },
  {
   "cell_type": "code",
   "execution_count": 8,
   "metadata": {},
   "outputs": [
    {
     "data": {
      "text/plain": [
       "48767"
      ]
     },
     "execution_count": 8,
     "metadata": {},
     "output_type": "execute_result"
    }
   ],
   "source": [
    "len(segments)                     # 有多少句子"
   ]
  },
  {
   "cell_type": "markdown",
   "metadata": {
    "colab_type": "text",
    "id": "N-E0XU7lJLSQ"
   },
   "source": [
    "## Ngram\n",
    "\n",
    "一開始要先計算字詞出現的次數"
   ]
  },
  {
   "cell_type": "code",
   "execution_count": 9,
   "metadata": {
    "colab": {},
    "colab_type": "code",
    "id": "U0GNtfVnJLSR"
   },
   "outputs": [],
   "source": [
    "from collections import Counter\n",
    "\n",
    "class Counters:\n",
    "    def __init__(self, n):\n",
    "        self.n = n\n",
    "        self.counters = [Counter() for _ in range(n + 1)]  # 分別代表計算0、1、...個字的出現次數, 0 代表總共有多少字\n",
    "\n",
    "    def fit(self, segments):\n",
    "        # 因為 self.counters 分別代表計算0、1、...個字的出現次數\n",
    "        # 請在此實作利用 segments 以及函式 _skip 來統計次數\n",
    "        # YOUR CODE HERE\n",
    "        for segment in segments:\n",
    "            for i in range(self.n + 1):\n",
    "                if i == 0:\n",
    "                    self.counters[i][''] += len(segment)\n",
    "                else:\n",
    "                    result = self._skip(segment, i)\n",
    "                    if  result != []:\n",
    "                        for s in result:                        # generator 用 for 來逐個取出\n",
    "                            self.counters[i][s] += 1\n",
    "        \n",
    "        # END YOUR CODE\n",
    "\n",
    "    def __getitem__(self, k):\n",
    "        return self.counters[k]\n",
    "\n",
    "    def _skip(self, segment, n):\n",
    "        assert n > 0\n",
    "        if len(segment) < n:\n",
    "            return []\n",
    "        shift = n - 1\n",
    "        for i in range(len(segment) - shift):           # 理論上 _skip 要回傳很大的 'n個字' 的集合，但用 generator 形式\n",
    "            yield segment[i:i+shift+1]                  # 比較不占空間"
   ]
  },
  {
   "cell_type": "code",
   "execution_count": 10,
   "metadata": {
    "colab": {},
    "colab_type": "code",
    "id": "F4-d0YiMJLSU"
   },
   "outputs": [],
   "source": [
    "counters = Counters(n=3)\n",
    "counters.fit(segments)"
   ]
  },
  {
   "cell_type": "code",
   "execution_count": 11,
   "metadata": {
    "colab": {},
    "colab_type": "code",
    "id": "UpCDHjXHJLSW",
    "outputId": "a60d9344-c12b-4eed-d836-72a172b0ea1e"
   },
   "outputs": [
    {
     "data": {
      "text/plain": [
       "Counter({'': 371373})"
      ]
     },
     "execution_count": 11,
     "metadata": {},
     "output_type": "execute_result"
    }
   ],
   "source": [
    "counters[0]\n",
    "# 應該為： Counter({'': 371373})"
   ]
  },
  {
   "cell_type": "code",
   "execution_count": 12,
   "metadata": {},
   "outputs": [
    {
     "data": {
      "text/plain": [
       "371373"
      ]
     },
     "execution_count": 12,
     "metadata": {},
     "output_type": "execute_result"
    }
   ],
   "source": [
    "test = '又稱為英文'\n",
    "counters[0][test[1:1]]"
   ]
  },
  {
   "cell_type": "code",
   "execution_count": 13,
   "metadata": {},
   "outputs": [
    {
     "data": {
      "text/plain": [
       "(201, 181)"
      ]
     },
     "execution_count": 13,
     "metadata": {},
     "output_type": "execute_result"
    }
   ],
   "source": [
    "counters[1]['我'], counters[1]['思']"
   ]
  },
  {
   "cell_type": "code",
   "execution_count": 14,
   "metadata": {
    "colab": {},
    "colab_type": "code",
    "id": "x2gOKTEyJLSY"
   },
   "outputs": [],
   "source": [
    "class Ngram:\n",
    "    def __init__(self, n, counters):\n",
    "        assert n <= counters.n\n",
    "        self.n = n\n",
    "        self.major_counter = counters[n]\n",
    "        self.minor_counter = counters[n-1]\n",
    "\n",
    "    def predict_proba(self, prefix='', top_k=5):\n",
    "        try:\n",
    "            assert len(prefix) >= self.n - 1\n",
    "        except:                                      # 若設 n，則 prefix 至少需要 n-1 個字，否則計算會有問題，因此\n",
    "            return None                              # 對於這種狀況設定回傳 None\n",
    "        # 使用 Ngram 的公式計算出下一個字出現的機率\n",
    "        # 輸出為機率與字的tuple列表，詳見下方輸出範例\n",
    "        # YOUR CODE HERE\n",
    "        import math\n",
    "        prefix_prob = 1\n",
    "        if len(prefix) == self.n-1:                            # 若 prefix == n-1 則直接紀錄 post_item\n",
    "            post_item = prefix\n",
    "        else:                                                  # 從 prefix 去算已知的 prefix_prob，分子分母都多 +1，\n",
    "            for i in range(len(prefix)-(self.n-1)):            # 避免有 0 的狀況，最下方 demo 在輸入注音時，注音符號就造成\n",
    "                try:                                           # 因為找不到而出現 0 的 error\n",
    "                    prefix_prob += math.log((self.major_counter[prefix[i:i+self.n]]+1)/(self.minor_counter[prefix[i:i+(self.n-1)]]+1))\n",
    "                except Exception as e:\n",
    "                    print(e)\n",
    "#                    print('分子: ', self.major_counter[prefix[i:i+self.n]], 'prefix: ', prefix[i:i+self.n])\n",
    "#                    print('分母: ', self.minor_counter[prefix[i:i+(self.n-1)]], 'prefix: ', prefix[i:i+(self.n-1)])\n",
    "                    \n",
    "                if i == len(prefix)-(self.n-1)-1:             # 到最後一個 i 時，記錄下 post_item\n",
    "                    post_item = prefix[i+1:i+self.n]          # post_item 是給 post_prob 計算分母項\n",
    "\n",
    "\n",
    "        probs = list()\n",
    "        for key, value in self.major_counter.items():         # 搜尋每項中前面 n-1 個字是 post_item\n",
    "            if key[:-1] == post_item:                         # 而不同最後一個字的個別機率\n",
    "                post_prob = math.log(self.major_counter[key]+1/self.minor_counter[post_item]+1)\n",
    "                prob = math.exp(prefix_prob + post_prob)\n",
    "                probs.append([prob, key[-1]]) \n",
    "\n",
    "        # normalize\n",
    "        total = sum(item[0] for item in probs)\n",
    "        for i in range(len(probs)):\n",
    "            probs[i][0] /= total\n",
    "            probs[i] = tuple(probs[i])\n",
    "\n",
    "        sorted_probs = sorted(probs, key=lambda x:x[0], reverse=True)\n",
    "\n",
    "        # END YOUR CODE\n",
    "        return sorted_probs[:top_k] if top_k > 0 else sorted_probs\n",
    "\n",
    "\n",
    "    def get_proba_dict(self, prefix=''):\n",
    "        if self.predict_proba(prefix, top_k=-1) != None:\n",
    "            return {word: prob for prob, word in self.predict_proba(prefix, top_k=-1)}\n",
    "        else:\n",
    "            return None\n"
   ]
  },
  {
   "cell_type": "code",
   "execution_count": 15,
   "metadata": {
    "colab": {},
    "colab_type": "code",
    "id": "mErL4AtjJLSc"
   },
   "outputs": [],
   "source": [
    "unigram = Ngram(1, counters)"
   ]
  },
  {
   "cell_type": "code",
   "execution_count": 16,
   "metadata": {},
   "outputs": [
    {
     "data": {
      "text/plain": [
       "[(0.03536698042759946, '的'),\n",
       " (0.012797245126524493, '國'),\n",
       " (0.010513355274945636, '中'),\n",
       " (0.009884419446506181, '在'),\n",
       " (0.009753835312635285, '一')]"
      ]
     },
     "execution_count": 16,
     "metadata": {},
     "output_type": "execute_result"
    }
   ],
   "source": [
    "unigram.predict_proba('我')"
   ]
  },
  {
   "cell_type": "code",
   "execution_count": 17,
   "metadata": {
    "colab": {},
    "colab_type": "code",
    "id": "M8BZcC7lJLSe",
    "outputId": "e395b66c-7de6-49d7-d796-95d0cec00a1d",
    "tags": []
   },
   "outputs": [],
   "source": [
    "#unigram.predict_proba('我思')\n",
    "# 應該為：[(0.035732269174118744, '的'),\n",
    "#         (0.012927703414087723, '國'),\n",
    "#         (0.010620050461395955, '中'),\n",
    "#         (0.009984570768472667, '在'),\n",
    "#         (0.009852627950874188, '一')]"
   ]
  },
  {
   "cell_type": "code",
   "execution_count": 18,
   "metadata": {
    "colab": {},
    "colab_type": "code",
    "id": "vYRqughPJLSh"
   },
   "outputs": [],
   "source": [
    "bigram = Ngram(2, counters)\n",
    "trigram = Ngram(3, counters)"
   ]
  },
  {
   "cell_type": "code",
   "execution_count": 19,
   "metadata": {},
   "outputs": [
    {
     "data": {
      "text/plain": [
       "[(0.3224247877626069, '們'),\n",
       " (0.06292789796956295, '的'),\n",
       " (0.03933727162474079, '在'),\n",
       " (0.019678416337388975, '是'),\n",
       " (0.019678416337388975, '思')]"
      ]
     },
     "execution_count": 19,
     "metadata": {},
     "output_type": "execute_result"
    }
   ],
   "source": [
    "bigram.predict_proba('我')"
   ]
  },
  {
   "cell_type": "code",
   "execution_count": 20,
   "metadata": {},
   "outputs": [
    {
     "name": "stdout",
     "output_type": "stream",
     "text": [
      "None\n"
     ]
    }
   ],
   "source": [
    "p = trigram.predict_proba('我')\n",
    "print(p)"
   ]
  },
  {
   "cell_type": "markdown",
   "metadata": {
    "colab_type": "text",
    "id": "lG6TV-8iJLSj"
   },
   "source": [
    "## 使用Ngram來建立第一版選字系統"
   ]
  },
  {
   "cell_type": "code",
   "execution_count": 21,
   "metadata": {
    "colab": {},
    "colab_type": "code",
    "id": "Ak-zlXIGJLSk"
   },
   "outputs": [],
   "source": [
    "class ChineseWordRecommenderV1:\n",
    "    def __init__(self, unigram, bigram, trigram):\n",
    "        self.unigram = unigram\n",
    "        self.bigram = bigram\n",
    "        self.trigram = trigram\n",
    "    \n",
    "    def predict_proba(self, prefix='', top_k=5):\n",
    "        # 使用Ngram來建立選字系統\n",
    "        # YOUR CODE HERE\n",
    "        ngrams = [self.unigram, self.bigram, self.trigram]             # 建立 Ngram 串列，以 index 去識別不同的 n \n",
    "        results = []\n",
    "        for i in range(len(ngrams)):\n",
    "#            results.append(ngrams[i].predict_proba(prefix=prefix, top_k=-1))\n",
    "            results.append(ngrams[i].get_proba_dict(prefix=prefix))    # 取得字典形式的推薦字和機率\n",
    "        \n",
    "        recom = dict()\n",
    "        for i in range(len(results)):\n",
    "            if results[i] != None:\n",
    "                for word, prob in results[i].items():\n",
    "                    recom[word] = recom.get(word, 0) + (i+1)*prob      # 合併成一個字典，取加權計算個別機率和\n",
    "        \n",
    "        # normalize\n",
    "        total = 0\n",
    "        for value in recom.values():\n",
    "            total += value\n",
    "        \n",
    "        recom_final = list()\n",
    "        for key, value in recom.items():\n",
    "            recom_final.append((value/total, key))\n",
    "        \n",
    "        recommendation = sorted(recom_final, key=lambda x:x[0], reverse=True)\n",
    "        \n",
    "        return recommendation[:top_k] if top_k > 0 else recommendation\n",
    "        # END YOUR CODE"
   ]
  },
  {
   "cell_type": "code",
   "execution_count": 22,
   "metadata": {
    "colab": {},
    "colab_type": "code",
    "id": "0LS4xO4XJLSl"
   },
   "outputs": [],
   "source": [
    "model = ChineseWordRecommenderV1(unigram, bigram, trigram)"
   ]
  },
  {
   "cell_type": "code",
   "execution_count": 23,
   "metadata": {},
   "outputs": [
    {
     "data": {
      "text/plain": [
       "[(0.3339990972489473, '故'),\n",
       " (0.20647326391523002, '維'),\n",
       " (0.10874174156714446, '想'),\n",
       " (0.04042359130747717, '考'),\n",
       " (0.017383453933229157, '是'),\n",
       " (0.014046417838796026, '汗'),\n",
       " (0.011162292494646392, '的'),\n",
       " (0.010389071579385312, '爲'),\n",
       " (0.00689343497548566, '一'),\n",
       " (0.0059828993481545285, '成')]"
      ]
     },
     "execution_count": 23,
     "metadata": {},
     "output_type": "execute_result"
    }
   ],
   "source": [
    "probs = model.predict_proba('我思', top_k=10)\n",
    "probs"
   ]
  },
  {
   "cell_type": "code",
   "execution_count": 24,
   "metadata": {
    "colab": {},
    "colab_type": "code",
    "id": "j8pziwHnJLSn",
    "outputId": "70ec8b6a-c222-4981-8628-fc8357966621",
    "tags": []
   },
   "outputs": [],
   "source": [
    "# probs = model.predict_proba('我思', top_k=10)\n",
    "# probs"
   ]
  },
  {
   "cell_type": "markdown",
   "metadata": {
    "colab_type": "text",
    "id": "sM7_WCTmJLSq"
   },
   "source": [
    "## Demo"
   ]
  },
  {
   "cell_type": "code",
   "execution_count": 25,
   "metadata": {
    "colab": {},
    "colab_type": "code",
    "id": "8zOHOeYLJLSq",
    "outputId": "6ffedaa6-2bbb-49e2-b225-2eb1209da3c1",
    "tags": []
   },
   "outputs": [],
   "source": [
    "# !pip install -U pip\n",
    "# !pip install -q ipywidgets"
   ]
  },
  {
   "cell_type": "code",
   "execution_count": 26,
   "metadata": {},
   "outputs": [
    {
     "data": {
      "application/vnd.jupyter.widget-view+json": {
       "model_id": "1be5fe6aa65a4ff7b4b051e3f8a673df",
       "version_major": 2,
       "version_minor": 0
      },
      "text/plain": [
       "Label(value='')"
      ]
     },
     "metadata": {},
     "output_type": "display_data"
    },
    {
     "data": {
      "application/vnd.jupyter.widget-view+json": {
       "model_id": "c35f68c4b5b348d2b31e2dc1a6755a08",
       "version_major": 2,
       "version_minor": 0
      },
      "text/plain": [
       "Textarea(value='')"
      ]
     },
     "metadata": {},
     "output_type": "display_data"
    }
   ],
   "source": [
    "import ipywidgets as widgets\n",
    "\n",
    "text = widgets.Textarea()\n",
    "label = widgets.Label()\n",
    "display(label, text)\n",
    "\n",
    "def func(change):\n",
    "    probs = model.predict_proba(change.new, top_k=10)\n",
    "    label.value = ' ' + '\\t'.join([word for prob, word in probs])\n",
    "\n",
    "text.observe(func, names='value')"
   ]
  },
  {
   "cell_type": "code",
   "execution_count": null,
   "metadata": {
    "colab": {
     "referenced_widgets": [
      "671d1e5f6874463ab4f184d5e8606e81",
      "5e8aac42609740ecb19f192ac9542006"
     ]
    },
    "colab_type": "code",
    "id": "Qsupw9BoJLSs",
    "outputId": "90544490-4fc3-4350-8447-2673999a611f"
   },
   "outputs": [
    {
     "data": {
      "application/vnd.jupyter.widget-view+json": {
       "model_id": "671d1e5f6874463ab4f184d5e8606e81",
       "version_major": 2,
       "version_minor": 0
      },
      "text/plain": [
       "Label(value='')"
      ]
     },
     "metadata": {
      "tags": []
     },
     "output_type": "display_data"
    },
    {
     "data": {
      "application/vnd.jupyter.widget-view+json": {
       "model_id": "5e8aac42609740ecb19f192ac9542006",
       "version_major": 2,
       "version_minor": 0
      },
      "text/plain": [
       "Textarea(value='')"
      ]
     },
     "metadata": {
      "tags": []
     },
     "output_type": "display_data"
    }
   ],
   "source": [
    "# import ipywidgets as widgets\n",
    "\n",
    "# text = widgets.Textarea()\n",
    "# label = widgets.Label()\n",
    "# display(label, text)\n",
    "\n",
    "# def func(change):\n",
    "#     probs = model.predict_proba(change.new, top_k=10)\n",
    "#     label.value = ' ' + '\\t'.join([word for prob, word in probs])\n",
    "\n",
    "# text.observe(func, names='value')"
   ]
  },
  {
   "cell_type": "code",
   "execution_count": null,
   "metadata": {
    "colab": {},
    "colab_type": "code",
    "id": "pLrjn44rJLSu"
   },
   "outputs": [],
   "source": []
  },
  {
   "cell_type": "code",
   "execution_count": null,
   "metadata": {
    "colab": {},
    "colab_type": "code",
    "id": "2ezmZB9cJLSw"
   },
   "outputs": [],
   "source": []
  }
 ],
 "metadata": {
  "colab": {
   "name": "final_project_A_1.ipynb",
   "provenance": []
  },
  "kernelspec": {
   "display_name": "Python 3",
   "language": "python",
   "name": "python3"
  },
  "language_info": {
   "codemirror_mode": {
    "name": "ipython",
    "version": 3
   },
   "file_extension": ".py",
   "mimetype": "text/x-python",
   "name": "python",
   "nbconvert_exporter": "python",
   "pygments_lexer": "ipython3",
   "version": "3.7.4"
  }
 },
 "nbformat": 4,
 "nbformat_minor": 1
}
