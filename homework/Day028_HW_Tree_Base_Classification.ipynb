{
 "cells": [
  {
   "cell_type": "markdown",
   "metadata": {},
   "source": [
    "### 作業目的: 使用樹型模型進行文章分類\n",
    "\n",
    "本次作業主利用[Amazon Review data中的All Beauty](https://nijianmo.github.io/amazon/index.html)來進行review評價分類(文章分類)\n",
    "\n",
    "資料中將review分為1,2,3,4,5分，而在這份作業，我們將評論改分為差評價、普通評價、優良評價(1,2-->1差評、3-->2普通評價、4,5-->3優良評價)"
   ]
  },
  {
   "cell_type": "markdown",
   "metadata": {},
   "source": [
    "### 載入套件"
   ]
  },
  {
   "cell_type": "code",
   "execution_count": 1,
   "metadata": {},
   "outputs": [],
   "source": [
    "import json\n",
    "import re\n",
    "from sklearn.tree import DecisionTreeClassifier\n",
    "from sklearn.ensemble import AdaBoostClassifier, RandomForestClassifier\n",
    "from sklearn.metrics import classification_report, confusion_matrix\n",
    "from sklearn.model_selection import train_test_split\n",
    "from sklearn.feature_extraction.text import CountVectorizer, TfidfVectorizer, TfidfTransformer"
   ]
  },
  {
   "cell_type": "markdown",
   "metadata": {},
   "source": [
    "### 資料前處理\n",
    "文本資料較為龐大，這裡我們取前10000筆資料來進行作業練習"
   ]
  },
  {
   "cell_type": "code",
   "execution_count": 2,
   "metadata": {},
   "outputs": [
    {
     "data": {
      "text/plain": [
       "{'overall': 1.0,\n",
       " 'verified': True,\n",
       " 'reviewTime': '02 19, 2015',\n",
       " 'reviewerID': 'A1V6B6TNIC10QE',\n",
       " 'asin': '0143026860',\n",
       " 'reviewerName': 'theodore j bigham',\n",
       " 'reviewText': 'great',\n",
       " 'summary': 'One Star',\n",
       " 'unixReviewTime': 1424304000}"
      ]
     },
     "execution_count": 2,
     "metadata": {},
     "output_type": "execute_result"
    }
   ],
   "source": [
    "#load json data\n",
    "N = 10000\n",
    "all_reviews = []\n",
    "###<your code>###\n",
    "\n",
    "count = 0\n",
    "with open('All_Beauty.json') as file:\n",
    "    for review in file.readlines():\n",
    "        if count < N:\n",
    "            all_reviews.append(json.loads(review))\n",
    "            count += 1\n",
    "        else:\n",
    "            break\n",
    "            \n",
    "all_reviews[0]"
   ]
  },
  {
   "cell_type": "code",
   "execution_count": 3,
   "metadata": {},
   "outputs": [
    {
     "data": {
      "text/plain": [
       "10000"
      ]
     },
     "execution_count": 3,
     "metadata": {},
     "output_type": "execute_result"
    }
   ],
   "source": [
    "len(all_reviews)"
   ]
  },
  {
   "cell_type": "code",
   "execution_count": 4,
   "metadata": {},
   "outputs": [
    {
     "name": "stdout",
     "output_type": "stream",
     "text": [
      "<class 'float'>\n",
      "<class 'str'>\n",
      "9995 9995\n",
      "[1, 3, 3, 3, 3, 3, 3, 1, 3, 1]\n"
     ]
    }
   ],
   "source": [
    "#parse label(overall) and corpus(reviewText)\n",
    "corpus = []\n",
    "labels = []\n",
    "\n",
    "###<your code>###\n",
    "for review in all_reviews:\n",
    "    if review.get('overall') == None or review.get('reviewText') == None:\n",
    "        continue\n",
    "    else:\n",
    "        labels.append(review['overall'])\n",
    "        corpus.append(review['reviewText'])\n",
    "\n",
    "print(type(labels[0]))\n",
    "print(type(corpus[0]))\n",
    "#transform labels: 1,2 --> 1 and 3 --> 2 and 4,5 --> 3\n",
    "\n",
    "###<your code>###\n",
    "\n",
    "# for i in range(len(labels)):\n",
    "#     if labels[i] < 3:\n",
    "#         labels[i] = 1\n",
    "#     elif labels[i] == 3:\n",
    "#         labels[i] = 2\n",
    "#     else:\n",
    "#         labels[i] = 3\n",
    "\n",
    "def mapping(x):\n",
    "    if x < 3:\n",
    "        return 1\n",
    "    elif x == 3:\n",
    "        return 2\n",
    "    else:\n",
    "        return 3\n",
    "\n",
    "labels = list(map(mapping, labels))\n",
    "\n",
    "print(len(labels), len(corpus))\n",
    "print(labels[:10])"
   ]
  },
  {
   "cell_type": "code",
   "execution_count": 5,
   "metadata": {},
   "outputs": [
    {
     "name": "stdout",
     "output_type": "stream",
     "text": [
      "great\n",
      "\n",
      "My  husband wanted to reading about the Negro Baseball and this a great addition to his library\n",
      " Our library doesn't haveinformation so this book is his start. Tthank you\n",
      "\n",
      "This book was very informative, covering all aspects of game.\n",
      "\n",
      "I am already a baseball fan and knew a bit about the Negro leagues, but I learned a lot more reading this book.\n",
      "\n",
      "This was a good story of the Black leagues. I bought the book to teach in my high school reading class. I found it very informative and exciting. I would recommend to anyone interested in the history of the black leagues. It is well written, unlike a book of facts. The McKissack's continue to write good books for young audiences that can also be enjoyed by adults!\n",
      "\n",
      "Today I gave a book about the Negro Leagues of Baseball to a traveling friend. Its a book I've read more than once and felt that my friend would truly enjoy. It felt like giving a gift that you wanted to keep for yourself. I parted with the book knowing that my friend would enjoy reading it on his journey back east. Before giving him the book I spent about thirty minutes flipping through its pages and saying goodbye to some of the stories in it. I know I'll come across the book again, but for me, parting with books is like wishing a friend well on a journey, just as this friend of mine was journeying. Its great to send a visiting friend off with a friendly gift.\n",
      "\n",
      "Well, in leafing through the book's pages I came across a few paragraphs I wanted to retain as a memory of my friend the book. Here below are the book and the lines from it that show in words what the negro baseball players faced every day of their lives; a color barrier that prevented them from gaining national sports recognition as professionals of the game they loved so much, baseball. Though Negro men had proven themselves heroic, capable of soldiering bravely in foreign battles of World War II, America was still treating them as second class citizens or less here at home. Major League Baseball would lead the nation in recovering from its racial prejudicial past. The nation today, even with a Black President, is still playing catch up.\n",
      "\n",
      "excerpt from Black Diamond:  \"Only one thing is keeping them out of the big leagues, and that is the pigmentation of their skin.\" Shirley Povich washington post\n",
      "\n",
      "The story of race relations in American history is one of lost opportunity.  This concise history of the Negro Baseball Leagues for young adult readers illustrates this basic point.  The book discusses the names, dates, and circumstances of the major figures and events of the flip side of American baseball history. Legendary names such as Josh Gibson, \"Cool Papa\" Bell, and Satchel Page are just a few of the remarkable players who made important contributions to the game.  Among others, they played for teams with names such as The Homestead Grays, The St. Louis Stars, and The Kansas City Monarchs.  The book also tells the story of owners and managers, such names as Negro National League founder Rube Foster and the tough as nails woman owner of the Newark Eagles, Effa Manley spring to mind.  The book also briefly explains how the infamous Jim Crow tradition brought about the Negro Baseball saga.  In 1947, major league baseball was sucessfully integrated and that spelled the doom of the Negro Baseball leagues.  The text includes an ample number of photographs.  To assist younger readers, and for easy reference purposes, a player profile and time line section is provided at the back of the book.  Underlying the historical text, there is the theme that segregated baseball mirrored the nagging problem of racism in America.  A sense of fair play and even-handed justice demands that talent, skill, and just plain style should be celebrated, regardless of race.  To do otherwise cheats everybody of a rewarding experience.  Imagine if the great players of the Negro Baseball Leagues had the chance to play (with or against) the great players of the major leagues.  Consider the void created by lost opportunity.  ;-)\n",
      "\n",
      "I didn't like this product it smudged all under my eyes throughly the day\n",
      "\n",
      "I simply love the product. I appreciate print feed back regarding my order\n",
      "\n",
      "it burns your eyes when u put it on  and very light so u have to keep going back n forth a lot to get the dark eyeliner color.\n",
      "also it smudges lot. waste of money.\n",
      "\n"
     ]
    }
   ],
   "source": [
    "for text in corpus[:10]:\n",
    "    print(text)\n",
    "    print()"
   ]
  },
  {
   "cell_type": "code",
   "execution_count": 6,
   "metadata": {},
   "outputs": [
    {
     "name": "stderr",
     "output_type": "stream",
     "text": [
      "[nltk_data] Downloading package stopwords to\n",
      "[nltk_data]     C:\\Users\\brian\\AppData\\Roaming\\nltk_data...\n",
      "[nltk_data]   Package stopwords is already up-to-date!\n"
     ]
    }
   ],
   "source": [
    "#preprocessing data\n",
    "#remove email address, punctuations, and change line symbol(\\n)\n",
    "\n",
    "###<your code>###\n",
    "from nltk.corpus import stopwords, wordnet\n",
    "from nltk.stem import WordNetLemmatizer\n",
    "import nltk\n",
    "\n",
    "nltk.download('stopwords')\n",
    "lemmatizer = WordNetLemmatizer()\n",
    "\n",
    "def get_word_pos(word):\n",
    "    tag = nltk.pos_tag([word])[0][1][0].upper()\n",
    "    tag_mapping = {'J': wordnet.ADJ,\n",
    "                   'N': wordnet.NOUN,\n",
    "                   'V': wordnet.VERB,\n",
    "                   'R': wordnet.ADV}\n",
    "    return tag_mapping.get(tag, wordnet.NOUN)\n",
    "\n",
    "def clean_content(X):\n",
    "    # remove non-alphabet but ' - , then transfer to lowercase\n",
    "    X_remove_symbol = [re.sub('[^a-zA-Z\\'\\-]', ' ', x).lower() for x in X]\n",
    "    \n",
    "    # word tokenize\n",
    "    X_tokenize = [nltk.word_tokenize(x) for x in X_remove_symbol]\n",
    "    \n",
    "    # remove stopwords then lemmatize\n",
    "    stop_words = set(stopwords.words('english'))\n",
    "    X_lemmatize = []\n",
    "    for content in X_tokenize:\n",
    "        content_clean = []\n",
    "        for word in content:\n",
    "            if word not in stop_words:\n",
    "                word = lemmatizer.lemmatize(word, get_word_pos(word))\n",
    "                content_clean.append(word)\n",
    "        X_lemmatize.append(content_clean)\n",
    "    \n",
    "    X_output = [' '.join(x) for x in X_lemmatize]\n",
    "    \n",
    "    return X_output\n"
   ]
  },
  {
   "cell_type": "code",
   "execution_count": 7,
   "metadata": {},
   "outputs": [
    {
     "data": {
      "text/plain": [
       "(7996, 1999, 7996, 1999)"
      ]
     },
     "execution_count": 7,
     "metadata": {},
     "output_type": "execute_result"
    }
   ],
   "source": [
    "#split corpus and label into train and test\n",
    "###<your code>###\n",
    "X = clean_content(corpus)\n",
    "X_train, X_test, y_train, y_test = train_test_split(X, labels, test_size=0.2, stratify=labels, shuffle=True, random_state=2)\n",
    "\n",
    "len(X_train), len(X_test), len(y_train), len(y_test)"
   ]
  },
  {
   "cell_type": "code",
   "execution_count": 8,
   "metadata": {},
   "outputs": [
    {
     "data": {
      "text/plain": [
       "7844"
      ]
     },
     "execution_count": 8,
     "metadata": {},
     "output_type": "execute_result"
    }
   ],
   "source": [
    "# 確認總共有幾個字\n",
    "def how_many_words(X: list) -> int:\n",
    "    total = set()\n",
    "    for x in X:\n",
    "        content = x.split(' ')\n",
    "        total |= set(content)\n",
    "    return len(total)\n",
    "\n",
    "how_many_words(X_train)"
   ]
  },
  {
   "cell_type": "code",
   "execution_count": 9,
   "metadata": {},
   "outputs": [],
   "source": [
    "#change corpus into vector\n",
    "#you can use tfidf or BoW here\n",
    "\n",
    "###<your code>###\n",
    "\n",
    "cv = CountVectorizer(max_features=2000)\n",
    "\n",
    "#transform training and testing corpus into vector form\n",
    "x_train_cv = cv.fit_transform(X_train).toarray()\n",
    "x_test_cv = cv.transform(X_test).toarray()\n",
    "\n",
    "# TFIDF\n",
    "\n",
    "tfidf = TfidfVectorizer(max_features=2000, smooth_idf=True)\n",
    "\n",
    "#transform training and testing corpus into vector form\n",
    "x_train_tf = tfidf.fit_transform(X_train).toarray()\n",
    "x_test_tf = tfidf.transform(X_test).toarray()"
   ]
  },
  {
   "cell_type": "code",
   "execution_count": 16,
   "metadata": {},
   "outputs": [
    {
     "name": "stdout",
     "output_type": "stream",
     "text": [
      "finishing 501/7996\n",
      "finishing 1001/7996\n",
      "finishing 1501/7996\n",
      "finishing 2001/7996\n",
      "finishing 2501/7996\n",
      "finishing 3001/7996\n",
      "finishing 3501/7996\n",
      "finishing 4001/7996\n",
      "finishing 4501/7996\n",
      "finishing 5001/7996\n",
      "finishing 5501/7996\n",
      "finishing 6001/7996\n",
      "finishing 6501/7996\n",
      "finishing 7001/7996\n",
      "finishing 7501/7996\n",
      "Done\n"
     ]
    },
    {
     "data": {
      "text/plain": [
       "array([[1, 0, 0, ..., 0, 0, 0],\n",
       "       [0, 1, 0, ..., 0, 0, 0],\n",
       "       [0, 0, 1, ..., 0, 0, 0],\n",
       "       ...,\n",
       "       [0, 0, 0, ..., 1, 0, 0],\n",
       "       [0, 0, 0, ..., 0, 1, 0],\n",
       "       [0, 0, 0, ..., 0, 0, 1]])"
      ]
     },
     "execution_count": 16,
     "metadata": {},
     "output_type": "execute_result"
    }
   ],
   "source": [
    "# 共現矩陣 --> PPMI --> SVD 降維 --> 計算文本向量\n",
    "import numpy as np\n",
    "# 共現矩陣\n",
    "def create_co_matrix(corpus: list, vocab_list: list, word2idx: dict,\n",
    "                     window_size: int=1, use_weighting: bool=False, verbose: bool=False) -> np.ndarray:\n",
    "    '''Function to create co-occurrence matrix\n",
    "    '''\n",
    "    #initialize co-occurrence matrix\n",
    "    co_matrix = np.zeros(shape=(len(word2idx), len(word2idx)), dtype=np.int32)\n",
    "    \n",
    "    for idx, sms in enumerate(corpus):\n",
    "        sms_list = sms.split(' ')\n",
    "        sms_ids = list()\n",
    "        \n",
    "        for w in sms_list:\n",
    "            if w in word2idx:                                 # 將每一筆資料轉成 word index\n",
    "                sms_ids.append(word2idx[w])                   # 若不在 word index 裡的字都轉成 -1\n",
    "            else:\n",
    "                sms_ids.append(-1)\n",
    "        \n",
    "        for center_i, center_word_id in enumerate(sms_ids):\n",
    "            if center_word_id != -1:\n",
    "                left_center_i = center_i - window_size if center_i-window_size >= 0 else 0\n",
    "                context_ids = sms_ids[left_center_i:center_i]\n",
    "\n",
    "                for left_i, left_word_id in enumerate(context_ids):\n",
    "                    if left_word_id != -1:\n",
    "                        co_matrix[center_word_id, left_word_id] += 1\n",
    "                        co_matrix[left_word_id, center_word_id] += 1\n",
    "        \n",
    "        if verbose:\n",
    "            if idx != 0 and idx%500 == 0:\n",
    "                    print(f\"finishing {idx+1}/{len(corpus)}\")\n",
    "    print(\"Done\")\n",
    "    if use_weighting:\n",
    "        # if use weighting, then we set the co-occurrence with the word itself to 1.0\n",
    "        for i in range(len(word2idx)):\n",
    "            co_matrix[i, i] = 1\n",
    "        \n",
    "    return co_matrix\n",
    "\n",
    "co_matrix = create_co_matrix(X_train, tfidf.get_feature_names(), tfidf.vocabulary_,\n",
    "                            window_size=3, use_weighting=True, verbose=True)\n",
    "\n",
    "co_matrix"
   ]
  },
  {
   "cell_type": "code",
   "execution_count": 17,
   "metadata": {},
   "outputs": [
    {
     "name": "stderr",
     "output_type": "stream",
     "text": [
      "C:\\Users\\brian\\Anaconda3\\lib\\site-packages\\ipykernel_launcher.py:14: RuntimeWarning: divide by zero encountered in log2\n",
      "  \n"
     ]
    },
    {
     "data": {
      "text/plain": [
       "array([[4.154468  , 0.        , 0.        , ..., 0.        , 0.        ,\n",
       "        0.        ],\n",
       "       [0.        , 5.9564476 , 0.        , ..., 0.        , 0.        ,\n",
       "        0.        ],\n",
       "       [0.        , 0.        , 0.55104226, ..., 0.        , 0.        ,\n",
       "        0.        ],\n",
       "       ...,\n",
       "       [0.        , 0.        , 0.        , ..., 7.4699054 , 0.        ,\n",
       "        0.        ],\n",
       "       [0.        , 0.        , 0.        , ..., 0.        , 7.141132  ,\n",
       "        0.        ],\n",
       "       [0.        , 0.        , 0.        , ..., 0.        , 0.        ,\n",
       "        7.5200877 ]], dtype=float32)"
      ]
     },
     "execution_count": 17,
     "metadata": {},
     "output_type": "execute_result"
    }
   ],
   "source": [
    "# PPMI\n",
    "\n",
    "def ppmi(co_matrix: np.ndarray, eps: float=1e-8, verbose: bool=False):\n",
    "    import numpy as np\n",
    "    M = np.zeros_like(co_matrix, dtype=np.float32)\n",
    "    N = np.sum(co_matrix)\n",
    "    S = np.sum(co_matrix, axis=0)\n",
    "    total = co_matrix.shape[0]*co_matrix.shape[1]\n",
    "    \n",
    "    cnt = 0\n",
    "    \n",
    "    for i in range(co_matrix.shape[0]):\n",
    "        for j in range(co_matrix.shape[1]):\n",
    "            pmi = np.log2(co_matrix[i, j]*N / (S[i]*S[j]+eps))\n",
    "            M[i, j] = max(0, pmi)\n",
    "            \n",
    "            if verbose:\n",
    "                cnt += 1\n",
    "                if cnt % 10 == 0 or cnt == total:\n",
    "                    print(f\"{cnt}/{total} Done\")\n",
    "    \n",
    "    return M\n",
    "\n",
    "ppmi_matrix = ppmi(co_matrix, verbose=False)\n",
    "ppmi_matrix"
   ]
  },
  {
   "cell_type": "code",
   "execution_count": 21,
   "metadata": {},
   "outputs": [
    {
     "name": "stdout",
     "output_type": "stream",
     "text": [
      "Number of components = 50 and explained variance = 0.16709251701831818\n",
      "Number of components = 100 and explained variance = 0.2617502808570862\n",
      "Number of components = 150 and explained variance = 0.33791667222976685\n",
      "Number of components = 200 and explained variance = 0.4043768048286438\n",
      "Number of components = 250 and explained variance = 0.463849276304245\n",
      "Number of components = 300 and explained variance = 0.5179453492164612\n",
      "Number of components = 350 and explained variance = 0.5669411420822144\n",
      "Number of components = 400 and explained variance = 0.6118349432945251\n",
      "Number of components = 450 and explained variance = 0.6525866389274597\n",
      "Number of components = 500 and explained variance = 0.6897177696228027\n",
      "Number of components = 550 and explained variance = 0.7236347198486328\n",
      "Number of components = 600 and explained variance = 0.7544156312942505\n",
      "Number of components = 650 and explained variance = 0.7824419736862183\n",
      "Number of components = 700 and explained variance = 0.8079986572265625\n",
      "Number of components = 750 and explained variance = 0.8311662673950195\n",
      "Number of components = 800 and explained variance = 0.8520738482475281\n",
      "Number of components = 850 and explained variance = 0.8710288405418396\n",
      "Number of components = 900 and explained variance = 0.888054609298706\n",
      "Number of components = 950 and explained variance = 0.9033515453338623\n",
      "Number of components = 1000 and explained variance = 0.9170217514038086\n",
      "Number of components = 1050 and explained variance = 0.9291050434112549\n",
      "Number of components = 1100 and explained variance = 0.9398556351661682\n",
      "Number of components = 1150 and explained variance = 0.9492394924163818\n",
      "Number of components = 1200 and explained variance = 0.9576258659362793\n",
      "Number of components = 1250 and explained variance = 0.9652057886123657\n",
      "Number of components = 1300 and explained variance = 0.9719136953353882\n",
      "Number of components = 1350 and explained variance = 0.9776198267936707\n",
      "Number of components = 1400 and explained variance = 0.9824934005737305\n",
      "Number of components = 1450 and explained variance = 0.986579418182373\n",
      "Number of components = 1500 and explained variance = 0.9899716377258301\n",
      "Number of components = 1550 and explained variance = 0.9927217960357666\n",
      "Number of components = 1600 and explained variance = 0.994902491569519\n",
      "Number of components = 1650 and explained variance = 0.996594250202179\n",
      "Number of components = 1700 and explained variance = 0.9978748559951782\n",
      "Number of components = 1750 and explained variance = 0.9987766742706299\n",
      "Number of components = 1800 and explained variance = 0.9993801116943359\n",
      "Number of components = 1850 and explained variance = 0.9997401237487793\n",
      "Number of components = 1900 and explained variance = 0.9999226927757263\n",
      "Number of components = 1950 and explained variance = 0.9999904632568359\n"
     ]
    },
    {
     "data": {
      "image/png": "[encoded data removed]",
      "text/plain": [
       "<Figure size 432x288 with 1 Axes>"
      ]
     },
     "metadata": {
      "needs_background": "light"
     },
     "output_type": "display_data"
    }
   ],
   "source": [
    "# SVD reduce dimension\n",
    "# Program to find the optimal number of components for Truncated SVD\n",
    "from sklearn.decomposition import TruncatedSVD\n",
    "import matplotlib.pyplot as plt\n",
    "%matplotlib inline\n",
    "\n",
    "n_comp = range(50,2000,50) # list containing different values of components\n",
    "variance_sum = [] # explained variance ratio for each component of Truncated SVD\n",
    "\n",
    "for dim in n_comp:\n",
    "    svd = TruncatedSVD(n_components=dim)\n",
    "    svd.fit(ppmi_matrix)\n",
    "    variance_sum.append(svd.explained_variance_ratio_.sum())\n",
    "    print(f'Number of components = {dim} and explained variance = {variance_sum[-1]}')\n",
    "    \n",
    "plt.plot(n_comp, variance_sum)\n",
    "plt.xlabel('Number of components')\n",
    "plt.ylabel(\"Explained Variance\")\n",
    "plt.title(\"Plot of Number of components v/s explained variance\")\n",
    "plt.show()"
   ]
  },
  {
   "cell_type": "code",
   "execution_count": 22,
   "metadata": {},
   "outputs": [
    {
     "data": {
      "text/plain": [
       "(2000, 1300)"
      ]
     },
     "execution_count": 22,
     "metadata": {},
     "output_type": "execute_result"
    }
   ],
   "source": [
    "# reduce dimension, take dimension=1300\n",
    "\n",
    "svd = TruncatedSVD(n_components=1300)\n",
    "ppmi_transformed = svd.fit_transform(ppmi_matrix)\n",
    "\n",
    "ppmi_transformed.shape\n"
   ]
  },
  {
   "cell_type": "code",
   "execution_count": 27,
   "metadata": {},
   "outputs": [
    {
     "name": "stdout",
     "output_type": "stream",
     "text": [
      "Number of missing training:  36\n",
      "Number of missing testing:  15\n"
     ]
    }
   ],
   "source": [
    "# compute vector which represents document\n",
    "# get doc vector via take mean of all word vectors inside the corresponding document\n",
    "\n",
    "def make_doc_vectors(corpus: list, word2idx: dict, vocab_list: list):\n",
    "    \n",
    "    # vectorizing data \n",
    "    # and make document vector by take mean to all word vector\n",
    "    import numpy as np\n",
    "    doc_vec = []\n",
    "    empty_doc_list = []\n",
    "    for i, sms_msg in enumerate(corpus):\n",
    "        sms_msg = [word2idx[word] for word in sms_msg.split() if word in vocab_list] #tokenize\n",
    "        if len(sms_msg) > 0:\n",
    "            sms_msg = np.array([ppmi_transformed[ids] for ids in sms_msg]) #vectorize\n",
    "            doc_vec.append(sms_msg.mean(axis=0))\n",
    "        else:\n",
    "            empty_doc_list.append(i)\n",
    "#             print(f\"document {i} doesn't contain word in vocab_list\")\n",
    "#             print(corpus[i])\n",
    "#             print(\"\\n\")\n",
    "        \n",
    "    return np.vstack(doc_vec), empty_doc_list\n",
    "\n",
    "word2idx = tfidf.vocabulary_\n",
    "vocab_list = tfidf.get_feature_names()\n",
    "\n",
    "x_train_ppmi, missing_train_list = make_doc_vectors(X_train, word2idx, vocab_list)\n",
    "print('Number of missing training: ', len(missing_train_list))\n",
    "\n",
    "x_test_ppmi, missing_test_list = make_doc_vectors(X_test, word2idx, vocab_list)\n",
    "print('Number of missing testing: ', len(missing_test_list))"
   ]
  },
  {
   "cell_type": "code",
   "execution_count": 28,
   "metadata": {},
   "outputs": [],
   "source": [
    "# remove missing terms\n",
    "# y_train\n",
    "y_train_filter = np.delete(np.array(y_train), missing_train_list)\n",
    "\n",
    "# knn = KNeighborsClassifier()\n",
    "# knn.fit(doc_vec_train, y_train_filter)\n",
    "\n",
    "# y_test\n",
    "y_test_filter = np.delete(np.array(y_test), missing_test_list)\n",
    "# train_pred = knn.predict(doc_vec_train)\n",
    "# test_pred = knn.predict(doc_vec_test)"
   ]
  },
  {
   "cell_type": "markdown",
   "metadata": {},
   "source": [
    "### 訓練與預測"
   ]
  },
  {
   "cell_type": "code",
   "execution_count": 30,
   "metadata": {},
   "outputs": [
    {
     "name": "stdout",
     "output_type": "stream",
     "text": [
      "-------------------- Bag of Words --------------------\n",
      "Accuracy: 0.9044522261130565\n",
      "Depth: 10, Number of leaves: 59\n",
      "              precision    recall  f1-score   support\n",
      "\n",
      "           1       0.66      0.31      0.42       137\n",
      "           2       0.00      0.00      0.00        76\n",
      "           3       0.91      0.99      0.95      1786\n",
      "\n",
      "    accuracy                           0.90      1999\n",
      "   macro avg       0.52      0.43      0.46      1999\n",
      "weighted avg       0.86      0.90      0.88      1999\n",
      "\n",
      "[[  42    0   95]\n",
      " [   4    0   72]\n",
      " [  18    2 1766]]\n",
      "-------------------- TFIDF --------------------\n",
      "Accuracy: 0.9034517258629314\n",
      "Depth: 10, Number of leaves: 42\n",
      "              precision    recall  f1-score   support\n",
      "\n",
      "           1       0.70      0.22      0.33       137\n",
      "           2       0.00      0.00      0.00        76\n",
      "           3       0.91      0.99      0.95      1786\n",
      "\n",
      "    accuracy                           0.90      1999\n",
      "   macro avg       0.54      0.40      0.43      1999\n",
      "weighted avg       0.86      0.90      0.87      1999\n",
      "\n",
      "[[  30    0  107]\n",
      " [   3    0   73]\n",
      " [  10    0 1776]]\n",
      "-------------------- PPMI --------------------\n"
     ]
    },
    {
     "name": "stderr",
     "output_type": "stream",
     "text": [
      "C:\\Users\\brian\\Anaconda3\\lib\\site-packages\\sklearn\\metrics\\_classification.py:1221: UndefinedMetricWarning: Precision and F-score are ill-defined and being set to 0.0 in labels with no predicted samples. Use `zero_division` parameter to control this behavior.\n",
      "  _warn_prf(average, modifier, msg_start, len(result))\n"
     ]
    },
    {
     "name": "stdout",
     "output_type": "stream",
     "text": [
      "Accuracy: 0.8785282258064516\n",
      "Depth: 10, Number of leaves: 156\n",
      "              precision    recall  f1-score   support\n",
      "\n",
      "           1       0.41      0.29      0.34       137\n",
      "           2       0.03      0.01      0.02        75\n",
      "           3       0.92      0.96      0.94      1772\n",
      "\n",
      "    accuracy                           0.88      1984\n",
      "   macro avg       0.45      0.42      0.43      1984\n",
      "weighted avg       0.85      0.88      0.86      1984\n",
      "\n",
      "[[  40    7   90]\n",
      " [   9    1   65]\n",
      " [  48   22 1702]]\n"
     ]
    }
   ],
   "source": [
    "#build classification model (decision tree, random forest, or adaboost)\n",
    "#start training\n",
    "# Decision Tree\n",
    "def DT(x_train, x_test, y_train, y_test):\n",
    "    dt = DecisionTreeClassifier(criterion='entropy', max_depth=10, min_samples_split=20, min_samples_leaf=10)\n",
    "    dt.fit(x_train, y_train)\n",
    "\n",
    "    # 計算準確度\n",
    "    print(f\"Accuracy: {dt.score(x_test,y_test)}\")\n",
    "\n",
    "    # 查看決策樹深度與終端節點個數\n",
    "    print(f\"Depth: {dt.get_depth()}, Number of leaves: {dt.get_n_leaves()}\")\n",
    "    \n",
    "    #calculate confusion matrix, precision, recall, and f1-score\n",
    "    y_pred = dt.predict(x_test)\n",
    "    print(classification_report(y_test, y_pred))\n",
    "    print(confusion_matrix(y_test, y_pred))\n",
    "\n",
    "print('-'*20, 'Bag of Words', '-'*20)\n",
    "DT(x_train_cv, x_test_cv, y_train, y_test)\n",
    "\n",
    "print('-'*20, 'TFIDF', '-'*20)\n",
    "DT(x_train_tf, x_test_tf, y_train, y_test)\n",
    "\n",
    "print('-'*20, 'PPMI', '-'*20)\n",
    "DT(x_train_ppmi, x_test_ppmi, y_train_filter, y_test_filter)\n"
   ]
  },
  {
   "cell_type": "markdown",
   "metadata": {},
   "source": [
    "由上述資訊可以發現, 模型在好評的準確度高(precision, recall都高), 而在差評的部分表現較不理想, 在普通評價的部分大部分跟差評搞混,\n",
    "同學可以試著學習到的各種方法來提升模型的表現"
   ]
  },
  {
   "cell_type": "code",
   "execution_count": 31,
   "metadata": {},
   "outputs": [
    {
     "name": "stdout",
     "output_type": "stream",
     "text": [
      "-------------------- Bag of Words --------------------\n",
      "Accuracy: 0.8934467233616809\n",
      "              precision    recall  f1-score   support\n",
      "\n",
      "           1       0.00      0.00      0.00       137\n",
      "           2       0.00      0.00      0.00        76\n",
      "           3       0.89      1.00      0.94      1786\n",
      "\n",
      "    accuracy                           0.89      1999\n",
      "   macro avg       0.30      0.33      0.31      1999\n",
      "weighted avg       0.80      0.89      0.84      1999\n",
      "\n",
      "[[   0    0  137]\n",
      " [   0    0   76]\n",
      " [   0    0 1786]]\n",
      "-------------------- TFIDF --------------------\n"
     ]
    },
    {
     "name": "stderr",
     "output_type": "stream",
     "text": [
      "C:\\Users\\brian\\Anaconda3\\lib\\site-packages\\sklearn\\metrics\\_classification.py:1221: UndefinedMetricWarning: Precision and F-score are ill-defined and being set to 0.0 in labels with no predicted samples. Use `zero_division` parameter to control this behavior.\n",
      "  _warn_prf(average, modifier, msg_start, len(result))\n"
     ]
    },
    {
     "name": "stdout",
     "output_type": "stream",
     "text": [
      "Accuracy: 0.8934467233616809\n",
      "              precision    recall  f1-score   support\n",
      "\n",
      "           1       0.00      0.00      0.00       137\n",
      "           2       0.00      0.00      0.00        76\n",
      "           3       0.89      1.00      0.94      1786\n",
      "\n",
      "    accuracy                           0.89      1999\n",
      "   macro avg       0.30      0.33      0.31      1999\n",
      "weighted avg       0.80      0.89      0.84      1999\n",
      "\n",
      "[[   0    0  137]\n",
      " [   0    0   76]\n",
      " [   0    0 1786]]\n",
      "-------------------- PPMI --------------------\n"
     ]
    },
    {
     "name": "stderr",
     "output_type": "stream",
     "text": [
      "C:\\Users\\brian\\Anaconda3\\lib\\site-packages\\sklearn\\metrics\\_classification.py:1221: UndefinedMetricWarning: Precision and F-score are ill-defined and being set to 0.0 in labels with no predicted samples. Use `zero_division` parameter to control this behavior.\n",
      "  _warn_prf(average, modifier, msg_start, len(result))\n"
     ]
    },
    {
     "name": "stdout",
     "output_type": "stream",
     "text": [
      "Accuracy: 0.8936491935483871\n",
      "              precision    recall  f1-score   support\n",
      "\n",
      "           1       1.00      0.01      0.01       137\n",
      "           2       0.00      0.00      0.00        75\n",
      "           3       0.89      1.00      0.94      1772\n",
      "\n",
      "    accuracy                           0.89      1984\n",
      "   macro avg       0.63      0.34      0.32      1984\n",
      "weighted avg       0.87      0.89      0.84      1984\n",
      "\n",
      "[[   1    0  136]\n",
      " [   0    0   75]\n",
      " [   0    0 1772]]\n"
     ]
    },
    {
     "name": "stderr",
     "output_type": "stream",
     "text": [
      "C:\\Users\\brian\\Anaconda3\\lib\\site-packages\\sklearn\\metrics\\_classification.py:1221: UndefinedMetricWarning: Precision and F-score are ill-defined and being set to 0.0 in labels with no predicted samples. Use `zero_division` parameter to control this behavior.\n",
      "  _warn_prf(average, modifier, msg_start, len(result))\n"
     ]
    }
   ],
   "source": [
    "# Random Forest\n",
    "def RF(x_train, x_test, y_train, y_test):\n",
    "    rf = RandomForestClassifier(n_estimators=50, criterion='entropy', max_depth=10, min_samples_split=20, min_samples_leaf=10)\n",
    "    rf.fit(x_train, y_train)\n",
    "\n",
    "    # 計算準確度\n",
    "    print(f\"Accuracy: {rf.score(x_test,y_test)}\")\n",
    "    \n",
    "    #calculate confusion matrix, precision, recall, and f1-score\n",
    "    y_pred = rf.predict(x_test)\n",
    "    print(classification_report(y_test, y_pred))\n",
    "    print(confusion_matrix(y_test, y_pred))\n",
    "\n",
    "print('-'*20, 'Bag of Words', '-'*20)\n",
    "RF(x_train_cv, x_test_cv, y_train, y_test)\n",
    "\n",
    "print('-'*20, 'TFIDF', '-'*20)\n",
    "RF(x_train_tf, x_test_tf, y_train, y_test)\n",
    "\n",
    "print('-'*20, 'PPMI', '-'*20)\n",
    "RF(x_train_ppmi, x_test_ppmi, y_train_filter, y_test_filter)"
   ]
  },
  {
   "cell_type": "code",
   "execution_count": 32,
   "metadata": {},
   "outputs": [
    {
     "name": "stdout",
     "output_type": "stream",
     "text": [
      "-------------------- Bag of Words --------------------\n",
      "Accuracy: 0.8979489744872436\n",
      "              precision    recall  f1-score   support\n",
      "\n",
      "           1       0.60      0.28      0.39       137\n",
      "           2       0.24      0.07      0.10        76\n",
      "           3       0.92      0.98      0.95      1786\n",
      "\n",
      "    accuracy                           0.90      1999\n",
      "   macro avg       0.58      0.44      0.48      1999\n",
      "weighted avg       0.87      0.90      0.88      1999\n",
      "\n",
      "[[  39    2   96]\n",
      " [   5    5   66]\n",
      " [  21   14 1751]]\n",
      "-------------------- TFIDF --------------------\n",
      "Accuracy: 0.8864432216108054\n",
      "              precision    recall  f1-score   support\n",
      "\n",
      "           1       0.45      0.18      0.26       137\n",
      "           2       0.10      0.03      0.04        76\n",
      "           3       0.91      0.98      0.94      1786\n",
      "\n",
      "    accuracy                           0.89      1999\n",
      "   macro avg       0.48      0.40      0.41      1999\n",
      "weighted avg       0.85      0.89      0.86      1999\n",
      "\n",
      "[[  25    6  106]\n",
      " [   2    2   72]\n",
      " [  29   12 1745]]\n",
      "-------------------- PPMI --------------------\n",
      "Accuracy: 0.891633064516129\n",
      "              precision    recall  f1-score   support\n",
      "\n",
      "           1       0.50      0.04      0.08       137\n",
      "           2       0.00      0.00      0.00        75\n",
      "           3       0.90      0.99      0.94      1772\n",
      "\n",
      "    accuracy                           0.89      1984\n",
      "   macro avg       0.47      0.35      0.34      1984\n",
      "weighted avg       0.83      0.89      0.85      1984\n",
      "\n",
      "[[   6    0  131]\n",
      " [   0    0   75]\n",
      " [   6    3 1763]]\n"
     ]
    }
   ],
   "source": [
    "# Adaboost\n",
    "def Adaboost(x_train, x_test, y_train, y_test):\n",
    "    adbt = AdaBoostClassifier(base_estimator=DecisionTreeClassifier(criterion='entropy',\n",
    "                                                                            max_depth=10,\n",
    "                                                                            min_samples_split=20,\n",
    "                                                                            min_samples_leaf=10),\n",
    "                                      n_estimators=50,\n",
    "                                      learning_rate=0.8)\n",
    "\n",
    "    #使用adaboost模型進行訓練\n",
    "    adbt.fit(x_train, y_train)\n",
    "\n",
    "    # 計算準確度\n",
    "    print(f\"Accuracy: {adbt.score(x_test,y_test)}\")\n",
    "    \n",
    "    #calculate confusion matrix, precision, recall, and f1-score\n",
    "    y_pred = adbt.predict(x_test)\n",
    "    print(classification_report(y_test, y_pred))\n",
    "    print(confusion_matrix(y_test, y_pred))\n",
    "\n",
    "print('-'*20, 'Bag of Words', '-'*20)\n",
    "Adaboost(x_train_cv, x_test_cv, y_train, y_test)\n",
    "\n",
    "print('-'*20, 'TFIDF', '-'*20)\n",
    "Adaboost(x_train_tf, x_test_tf, y_train, y_test)\n",
    "\n",
    "print('-'*20, 'PPMI', '-'*20)\n",
    "Adaboost(x_train_ppmi, x_test_ppmi, y_train_filter, y_test_filter)"
   ]
  },
  {
   "cell_type": "code",
   "execution_count": null,
   "metadata": {},
   "outputs": [],
   "source": []
  }
 ],
 "metadata": {
  "kernelspec": {
   "display_name": "Python 3",
   "language": "python",
   "name": "python3"
  },
  "language_info": {
   "codemirror_mode": {
    "name": "ipython",
    "version": 3
   },
   "file_extension": ".py",
   "mimetype": "text/x-python",
   "name": "python",
   "nbconvert_exporter": "python",
   "pygments_lexer": "ipython3",
   "version": "3.7.4"
  }
 },
 "nbformat": 4,
 "nbformat_minor": 2
}
