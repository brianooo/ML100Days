{
 "cells": [
  {
   "cell_type": "markdown",
   "metadata": {},
   "source": [
    "### 作業目的: 了解何謂Bias-Variance Tradeoff"
   ]
  },
  {
   "cell_type": "markdown",
   "metadata": {},
   "source": [
    "### Q1: 一般模型誤差可拆為三部分，這三部分的誤差分別是？\n",
    "\n",
    "Answer: Bias, Variance, Irreducible"
   ]
  },
  {
   "cell_type": "markdown",
   "metadata": {},
   "source": [
    "### Q2: 請解釋何謂Bias-Variance Tradeoff\n",
    "\n",
    "Answer: 在 underfitting 狀況下，training error 和 testing error 都會比較高，這時的 error 主要來自 bias，由於模型過於簡化，導致預測結果和實際誤差太大；相反地若把模型搞得太複雜，則導致 overfitting，也就是 training error 降低，但 testing error 反而升高，此時的 error 主要來自於 variance。因此要找到適合的模型複雜度，在 bias 和 variance error 間找到平衡點，使 training 和 testing error 均能達到最低。"
   ]
  },
  {
   "cell_type": "code",
   "execution_count": null,
   "metadata": {},
   "outputs": [],
   "source": []
  }
 ],
 "metadata": {
  "kernelspec": {
   "display_name": "Python 3",
   "language": "python",
   "name": "python3"
  },
  "language_info": {
   "codemirror_mode": {
    "name": "ipython",
    "version": 3
   },
   "file_extension": ".py",
   "mimetype": "text/x-python",
   "name": "python",
   "nbconvert_exporter": "python",
   "pygments_lexer": "ipython3",
   "version": "3.7.4"
  }
 },
 "nbformat": 4,
 "nbformat_minor": 2
}
