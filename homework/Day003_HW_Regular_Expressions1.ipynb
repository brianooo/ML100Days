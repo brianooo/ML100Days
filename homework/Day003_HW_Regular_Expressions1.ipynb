{
 "cells": [
  {
   "cell_type": "markdown",
   "metadata": {},
   "source": [
    "# 作業目標: 利用正規表達式達到預期配對\n",
    "本次作業將以互動式網站[Regex101](https://regex101.com/)來做練習，請將所需配對文本複製貼上到Regex101的**TEST STRING**區塊來做練習"
   ]
  },
  {
   "cell_type": "code",
   "execution_count": 1,
   "metadata": {},
   "outputs": [],
   "source": [
    "import re"
   ]
  },
  {
   "cell_type": "markdown",
   "metadata": {},
   "source": [
    "### HW1: 電話號碼配對\n",
    "\n",
    "抓出在電話號碼的所在地區以及號碼\n",
    "\n",
    "```\n",
    "ex: 02-33334444 --> 配對02, 33334444\n",
    "```\n",
    "\n",
    "\n",
    "**所需配對文本:**\n",
    "```\n",
    "02-27208889\n",
    "04-2220-3585\n",
    "(06)-2991111\n",
    "(07)799-5678\n",
    "```\n",
    "\n",
    "**應配對出的結果為**\n",
    "```\n",
    "02, 27208889\n",
    "04, 22203585\n",
    "06, 2991111\n",
    "07, 7995678\n",
    "```"
   ]
  },
  {
   "cell_type": "code",
   "execution_count": 2,
   "metadata": {},
   "outputs": [
    {
     "name": "stdout",
     "output_type": "stream",
     "text": [
      "02, 27208889\n",
      "04, 22203585\n",
      "06, 2991111\n",
      "07, 7995678\n"
     ]
    }
   ],
   "source": [
    "tel = ['02-27208889', '04-2220-3585', '(06)-2991111', '(07)799-5678']\n",
    "regex = re.compile('^[0]\\d|(?<=\\()[0]\\d|\\d{3,4}-*\\d{4}')                 # 判斷區域號碼 : 0開頭加一個數字 或是 \n",
    "                                                                         # 在 '(' 後面的 0加一個數字\n",
    "                                                                         # 判斷非區域號碼 : (三到四個數字) 串 (0或1個 '-')\n",
    "for t in tel:                                                            # 串 (四個數字)\n",
    "    result = regex.findall(t)\n",
    "    for item in result:\n",
    "        if '-' in item:\n",
    "            print(item.replace('-', ''))                                 # 再把非區域數字中的 '-' 去除掉\n",
    "        else:\n",
    "            if result.index(item) == 1:\n",
    "                print(item)\n",
    "            else:\n",
    "                print(item, end=', ')\n"
   ]
  },
  {
   "cell_type": "markdown",
   "metadata": {},
   "source": [
    "### HW2: 身分證字號配對\n",
    "請配對出找出桃園(H), 台南(D), 嘉義(Q)中為男生的身分證字號(數字為1開頭)\n",
    "\n",
    "**所需配對文本:**\n",
    "```\n",
    "A121040176\n",
    "L186856359\n",
    "Z127598010\n",
    "I114537095\n",
    "D279884447\n",
    "L186834359\n",
    "D243736345\n",
    "I114537095\n",
    "Q146110887\n",
    "D187217314\n",
    "I114537095\n",
    "Q243556025\n",
    "Z127598010\n",
    "H250077453\n",
    "Q188367037\n",
    "```\n",
    "\n",
    "**應配對出的結果為**\n",
    "```\n",
    "Q146110887\n",
    "D187217314\n",
    "Q188367037\n",
    "```"
   ]
  },
  {
   "cell_type": "code",
   "execution_count": 3,
   "metadata": {},
   "outputs": [
    {
     "name": "stdout",
     "output_type": "stream",
     "text": [
      "Q146110887\n",
      "D187217314\n",
      "Q188367037\n"
     ]
    }
   ],
   "source": [
    "ID = ['A121040176', 'L186856359', 'Z127598010', 'I114537095', 'D279884447', 'L186834359', 'D243736345'\n",
    "      'I114537095', 'Q146110887', 'D187217314', 'I114537095', 'Q243556025', 'Z127598010', 'H250077453', 'Q188367037']\n",
    "\n",
    "regex_id = re.compile('[HDQ]1\\d{8}')                             # 第一個字母是 H, D, Q, 第一個數字是 1\n",
    "\n",
    "for i in ID:\n",
    "    result = regex_id.findall(i)\n",
    "    if len(result)!= 0:\n",
    "        print(i)"
   ]
  },
  {
   "cell_type": "markdown",
   "metadata": {},
   "source": [
    "### HW3: 電子郵件配對\n",
    "請抓出非gmail的電子郵件\n",
    "\n",
    "**所需配對文本:**\n",
    "```\n",
    "foobar@gmail.com\n",
    "NoOneCareMe@gmail.com\n",
    "SaveTheWorld@hotmail.com\n",
    "zzzGroup@yahoo.com\n",
    "eagle1963@gmail.com\n",
    "maythefourthwithyiu@starwars.com\n",
    "```\n",
    "\n",
    "**應配對出的結果為**\n",
    "```\n",
    "SaveTheWorld@hotmail.com\n",
    "zzzGroup@yahoo.com\n",
    "maythefourthwithyiu@starwars.com\n",
    "```\n"
   ]
  },
  {
   "cell_type": "code",
   "execution_count": 4,
   "metadata": {},
   "outputs": [
    {
     "name": "stdout",
     "output_type": "stream",
     "text": [
      "SaveTheWorld@hotmail.com\n",
      "zzzGroup@yahoo.com\n",
      "maythefourthwithyiu@starwars.com\n"
     ]
    }
   ],
   "source": [
    "mail_list = ['foobar@gmail.com', 'NoOneCareMe@gmail.com', 'SaveTheWorld@hotmail.com', 'zzzGroup@yahoo.com', \n",
    "             'eagle1963@gmail.com', 'maythefourthwithyiu@starwars.com']\n",
    "\n",
    "regex_mail = re.compile('\\w+@(?!gmail).+')              # 滿足後面接 gmail 的 @ 即不配對 (Negative Lookahead)\n",
    "                                                        # 另外再配對 @ 的前後\n",
    "for adrs in mail_list:\n",
    "    result = regex_mail.findall(adrs)\n",
    "    if len(result) != 0:\n",
    "        print(adrs)\n",
    "    \n"
   ]
  },
  {
   "cell_type": "markdown",
   "metadata": {},
   "source": [
    "### HW4: HTML格式配對\n",
    "\n",
    "請抓出<TAG>當中的Tag就好，裡面的屬性請排除。\n",
    "\n",
    "```\n",
    "ex: <p class='test'> --> 抓出 p\n",
    "```\n",
    "\n",
    "**所需配對文本:**\n",
    "```\n",
    "<h1>This is a header 1</h1>\n",
    "<a>This is a hyperlink</a>\n",
    "<div class='test'>This is a text block</div>\n",
    "<a href=\"https://regexisfun.com.tw/\">Learning Regular Expression</a>\n",
    "```\n",
    "\n",
    "**應配對出的結果為**\n",
    "```\n",
    "h1\n",
    "a\n",
    "div\n",
    "a\n",
    "```"
   ]
  },
  {
   "cell_type": "code",
   "execution_count": 5,
   "metadata": {},
   "outputs": [
    {
     "name": "stdout",
     "output_type": "stream",
     "text": [
      "h1\n",
      "a\n",
      "div\n",
      "a\n"
     ]
    }
   ],
   "source": [
    "html = ['<h1>This is a header 1</h1>', '<a>This is a hyperlink</a>', '<div class=\"test\">This is a text block</div>', \n",
    "        '<a href=\"https://regexisfun.com.tw/\">Learning Regular Expression</a>']\n",
    "\n",
    "regex_tag = re.compile('(?<=\\<)\\w+')\n",
    "\n",
    "for h in html:\n",
    "    result = regex_tag.findall(h)\n",
    "    if len(result) != 0:\n",
    "        for i in result:\n",
    "            print(i)"
   ]
  },
  {
   "cell_type": "markdown",
   "metadata": {},
   "source": [
    "### HW5: 特定檔案名稱與格式配對\n",
    "\n",
    "在所有檔案中，抓出屬於 gif 或 jpg 的檔名。\n",
    "\n",
    "\n",
    "**所需配對文本:**\n",
    "```\n",
    ".bash_profile\n",
    "workShop.ai\n",
    "file_folderName_num.jpg\n",
    "favicon.png\n",
    "IMG_002.png\n",
    "IMG_003.gif\n",
    "qoo.jpg.tmp\n",
    "index.html\n",
    "foobar.bmp\n",
    "foobar.jpg\n",
    "account.html\n",
    "access.lock\n",
    "```\n",
    "\n",
    "**應配對出的結果為**\n",
    "```\n",
    "IMG_003.gif\n",
    "file_folderName_num.jpg\n",
    "foobar.jpg\n",
    "```"
   ]
  },
  {
   "cell_type": "code",
   "execution_count": 6,
   "metadata": {},
   "outputs": [
    {
     "name": "stdout",
     "output_type": "stream",
     "text": [
      "file_folderName_num.jpg\n",
      "IMG_003.gif\n",
      "foobar.jpg\n"
     ]
    }
   ],
   "source": [
    "file = ['.bash_profile', 'workShop.ai', 'file_folderName_num.jpg', 'favicon.png', 'IMG_002.png', 'IMG_003.gif',\n",
    "        'qoo.jpg.tmp', 'index.html', 'foobar.bmp', 'foobar.jpg', 'account.html', 'access.lock']\n",
    "\n",
    "regex_format = re.compile('\\w+\\.gif$|\\w+\\.jpg$')              # gif 或 jpg 結尾\n",
    "\n",
    "for f in file:\n",
    "    result = regex_format.findall(f)\n",
    "    if len(result) != 0:\n",
    "        print(f)"
   ]
  },
  {
   "cell_type": "markdown",
   "metadata": {},
   "source": [
    "### HW6: URL配對\n",
    "\n",
    "請抓出 Url 中的協定方式, 網址, 與埠\n",
    "\n",
    "```\n",
    "ex: Https://localhost:4200/ --> 抓取 Https, localhost, 4200\n",
    "```\n",
    "\n",
    "**所需配對文本:**\n",
    "```\n",
    "ftp://file_server.com:21/account/customers.xml\n",
    "https://hengxiuxu.blogspot.tw/\n",
    "file://localhost:4200\n",
    "https://s3cur3-server.com:9999/\n",
    "```\n",
    "\n",
    "**應配對出的結果為**\n",
    "```\n",
    "ftp, file_server, 21\n",
    "https, hengxiuxu.blogspot.tw\n",
    "file, localhost, 4200\n",
    "https, s3cur3-server.com, 9999\n",
    "```"
   ]
  },
  {
   "cell_type": "code",
   "execution_count": 7,
   "metadata": {},
   "outputs": [
    {
     "name": "stdout",
     "output_type": "stream",
     "text": [
      "ftp, file_server.com, 21\n",
      "https, hengxiuxu.blogspot.tw\n",
      "file, localhost, 4200\n",
      "https, s3cur3-server.com, 9999\n"
     ]
    }
   ],
   "source": [
    "url = ['ftp://file_server.com:21/account/customers.xml', 'https://hengxiuxu.blogspot.tw/', \n",
    "       'file://localhost:4200', 'https://s3cur3-server.com:9999/']\n",
    "\n",
    "regex_url = re.compile('\\w+(?=:\\/\\/)|(?<=:\\/\\/)[^:\\/]+|(?<=:)\\d+')  # https => :// 前面的字母 (Positive Lookahead)\n",
    "                                                                    # localhost => :// 後面的字直到 : 或 / (Positive Lookbehind)\n",
    "                                                                    # 4200 => : 後面的數字 (Positive Lookbehind)\n",
    "\n",
    "for u in url:\n",
    "    result = regex_url.findall(u)\n",
    "    if result != 0:\n",
    "        for a in result:\n",
    "            if result[-1] != a:\n",
    "                print(a, end=', ')\n",
    "            else:\n",
    "                print(a)"
   ]
  },
  {
   "cell_type": "code",
   "execution_count": null,
   "metadata": {},
   "outputs": [],
   "source": []
  }
 ],
 "metadata": {
  "kernelspec": {
   "display_name": "Python 3",
   "language": "python",
   "name": "python3"
  },
  "language_info": {
   "codemirror_mode": {
    "name": "ipython",
    "version": 3
   },
   "file_extension": ".py",
   "mimetype": "text/x-python",
   "name": "python",
   "nbconvert_exporter": "python",
   "pygments_lexer": "ipython3",
   "version": "3.7.4"
  }
 },
 "nbformat": 4,
 "nbformat_minor": 2
}
